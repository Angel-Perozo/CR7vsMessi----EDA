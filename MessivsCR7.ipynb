{
 "cells": [
  {
   "attachments": {},
   "cell_type": "markdown",
   "metadata": {},
   "source": [
    "# Kaggle : https://www.kaggle.com/datasets/azminetoushikwasi/lionel-messi-vs-cristiano-ronaldo-club-goals"
   ]
  },
  {
   "cell_type": "code",
   "execution_count": 1,
   "metadata": {},
   "outputs": [],
   "source": [
    "import numpy as np \n",
    "import pandas as pd "
   ]
  },
  {
   "cell_type": "code",
   "execution_count": 2,
   "metadata": {},
   "outputs": [
    {
     "data": {
      "text/html": [
       "<div>\n",
       "<style scoped>\n",
       "    .dataframe tbody tr th:only-of-type {\n",
       "        vertical-align: middle;\n",
       "    }\n",
       "\n",
       "    .dataframe tbody tr th {\n",
       "        vertical-align: top;\n",
       "    }\n",
       "\n",
       "    .dataframe thead th {\n",
       "        text-align: right;\n",
       "    }\n",
       "</style>\n",
       "<table border=\"1\" class=\"dataframe\">\n",
       "  <thead>\n",
       "    <tr style=\"text-align: right;\">\n",
       "      <th></th>\n",
       "      <th>Player</th>\n",
       "      <th>Season</th>\n",
       "      <th>Competition</th>\n",
       "      <th>Matchday</th>\n",
       "      <th>Date</th>\n",
       "      <th>Venue</th>\n",
       "      <th>Club</th>\n",
       "      <th>Opponent</th>\n",
       "      <th>Result</th>\n",
       "      <th>Playing_Position</th>\n",
       "      <th>Minute</th>\n",
       "      <th>At_score</th>\n",
       "      <th>Type</th>\n",
       "      <th>Goal_assist</th>\n",
       "    </tr>\n",
       "  </thead>\n",
       "  <tbody>\n",
       "    <tr>\n",
       "      <th>0</th>\n",
       "      <td>Cristiano Ronaldo</td>\n",
       "      <td>02/03</td>\n",
       "      <td>Liga Portugal</td>\n",
       "      <td>6</td>\n",
       "      <td>2002-10-07</td>\n",
       "      <td>H</td>\n",
       "      <td>Sporting CP</td>\n",
       "      <td>Moreirense FC</td>\n",
       "      <td>3:00</td>\n",
       "      <td>LW</td>\n",
       "      <td>34</td>\n",
       "      <td>2:00</td>\n",
       "      <td>Solo run</td>\n",
       "      <td>NaN</td>\n",
       "    </tr>\n",
       "    <tr>\n",
       "      <th>1</th>\n",
       "      <td>Cristiano Ronaldo</td>\n",
       "      <td>02/03</td>\n",
       "      <td>Liga Portugal</td>\n",
       "      <td>6</td>\n",
       "      <td>2002-10-07</td>\n",
       "      <td>H</td>\n",
       "      <td>Sporting CP</td>\n",
       "      <td>Moreirense FC</td>\n",
       "      <td>3:00</td>\n",
       "      <td>LW</td>\n",
       "      <td>90+5</td>\n",
       "      <td>3:00</td>\n",
       "      <td>Header</td>\n",
       "      <td>Rui Jorge</td>\n",
       "    </tr>\n",
       "    <tr>\n",
       "      <th>2</th>\n",
       "      <td>Cristiano Ronaldo</td>\n",
       "      <td>02/03</td>\n",
       "      <td>Liga Portugal</td>\n",
       "      <td>8</td>\n",
       "      <td>2002-10-26</td>\n",
       "      <td>A</td>\n",
       "      <td>Sporting CP</td>\n",
       "      <td>Boavista FC</td>\n",
       "      <td>1:02</td>\n",
       "      <td>NaN</td>\n",
       "      <td>88</td>\n",
       "      <td>1:02</td>\n",
       "      <td>Right-footed shot</td>\n",
       "      <td>Carlos Martins</td>\n",
       "    </tr>\n",
       "    <tr>\n",
       "      <th>3</th>\n",
       "      <td>Cristiano Ronaldo</td>\n",
       "      <td>02/03</td>\n",
       "      <td>Taca de Portugal Placard</td>\n",
       "      <td>Fourth Round</td>\n",
       "      <td>2002-11-24</td>\n",
       "      <td>H</td>\n",
       "      <td>Sporting CP</td>\n",
       "      <td>CD Estarreja</td>\n",
       "      <td>4:01</td>\n",
       "      <td>NaN</td>\n",
       "      <td>67</td>\n",
       "      <td>3:00</td>\n",
       "      <td>Left-footed shot</td>\n",
       "      <td>Cesar Prates</td>\n",
       "    </tr>\n",
       "    <tr>\n",
       "      <th>4</th>\n",
       "      <td>Cristiano Ronaldo</td>\n",
       "      <td>02/03</td>\n",
       "      <td>Taca de Portugal Placard</td>\n",
       "      <td>Fifth Round</td>\n",
       "      <td>2002-12-18</td>\n",
       "      <td>H</td>\n",
       "      <td>Sporting CP</td>\n",
       "      <td>FC Oliveira do Hospital</td>\n",
       "      <td>8:01</td>\n",
       "      <td>NaN</td>\n",
       "      <td>13</td>\n",
       "      <td>3:00</td>\n",
       "      <td>NaN</td>\n",
       "      <td>NaN</td>\n",
       "    </tr>\n",
       "  </tbody>\n",
       "</table>\n",
       "</div>"
      ],
      "text/plain": [
       "              Player Season               Competition      Matchday  \\\n",
       "0  Cristiano Ronaldo  02/03             Liga Portugal             6   \n",
       "1  Cristiano Ronaldo  02/03             Liga Portugal             6   \n",
       "2  Cristiano Ronaldo  02/03             Liga Portugal             8   \n",
       "3  Cristiano Ronaldo  02/03  Taca de Portugal Placard  Fourth Round   \n",
       "4  Cristiano Ronaldo  02/03  Taca de Portugal Placard   Fifth Round   \n",
       "\n",
       "         Date Venue         Club                 Opponent Result  \\\n",
       "0  2002-10-07     H  Sporting CP            Moreirense FC   3:00   \n",
       "1  2002-10-07     H  Sporting CP            Moreirense FC   3:00   \n",
       "2  2002-10-26     A  Sporting CP              Boavista FC   1:02   \n",
       "3  2002-11-24     H  Sporting CP             CD Estarreja   4:01   \n",
       "4  2002-12-18     H  Sporting CP  FC Oliveira do Hospital   8:01   \n",
       "\n",
       "  Playing_Position Minute At_score               Type     Goal_assist  \n",
       "0               LW     34     2:00           Solo run             NaN  \n",
       "1               LW   90+5     3:00             Header       Rui Jorge  \n",
       "2              NaN     88     1:02  Right-footed shot  Carlos Martins  \n",
       "3              NaN     67     3:00   Left-footed shot    Cesar Prates  \n",
       "4              NaN     13     3:00                NaN             NaN  "
      ]
     },
     "execution_count": 2,
     "metadata": {},
     "output_type": "execute_result"
    }
   ],
   "source": [
    "data = pd.read_csv('./data.csv')\n",
    "\n",
    "data.head()"
   ]
  },
  {
   "cell_type": "code",
   "execution_count": 3,
   "metadata": {},
   "outputs": [
    {
     "data": {
      "text/plain": [
       "Cristiano Ronaldo    701\n",
       "Lionel Messi         699\n",
       "Name: Player, dtype: int64"
      ]
     },
     "execution_count": 3,
     "metadata": {},
     "output_type": "execute_result"
    }
   ],
   "source": [
    "data['Player'].value_counts()"
   ]
  },
  {
   "cell_type": "code",
   "execution_count": 4,
   "metadata": {},
   "outputs": [],
   "source": [
    "data['Player'] = np.where(data['Player'] == 'Cristiano Ronaldo', 'CR7', 'Messi') "
   ]
  },
  {
   "cell_type": "code",
   "execution_count": 5,
   "metadata": {},
   "outputs": [
    {
     "data": {
      "text/plain": [
       "CR7      701\n",
       "Messi    699\n",
       "Name: Player, dtype: int64"
      ]
     },
     "execution_count": 5,
     "metadata": {},
     "output_type": "execute_result"
    }
   ],
   "source": [
    "data['Player'].value_counts()"
   ]
  },
  {
   "cell_type": "code",
   "execution_count": 6,
   "metadata": {},
   "outputs": [
    {
     "name": "stdout",
     "output_type": "stream",
     "text": [
      "<class 'pandas.core.frame.DataFrame'>\n",
      "RangeIndex: 1400 entries, 0 to 1399\n",
      "Data columns (total 14 columns):\n",
      " #   Column            Non-Null Count  Dtype \n",
      "---  ------            --------------  ----- \n",
      " 0   Player            1400 non-null   object\n",
      " 1   Season            1400 non-null   object\n",
      " 2   Competition       1400 non-null   object\n",
      " 3   Matchday          1400 non-null   object\n",
      " 4   Date              1400 non-null   object\n",
      " 5   Venue             1400 non-null   object\n",
      " 6   Club              1400 non-null   object\n",
      " 7   Opponent          1400 non-null   object\n",
      " 8   Result            1400 non-null   object\n",
      " 9   Playing_Position  1342 non-null   object\n",
      " 10  Minute            1400 non-null   object\n",
      " 11  At_score          1400 non-null   object\n",
      " 12  Type              1384 non-null   object\n",
      " 13  Goal_assist       945 non-null    object\n",
      "dtypes: object(14)\n",
      "memory usage: 153.2+ KB\n"
     ]
    }
   ],
   "source": [
    "data.info()"
   ]
  },
  {
   "cell_type": "code",
   "execution_count": 7,
   "metadata": {},
   "outputs": [
    {
     "data": {
      "text/html": [
       "<div>\n",
       "<style scoped>\n",
       "    .dataframe tbody tr th:only-of-type {\n",
       "        vertical-align: middle;\n",
       "    }\n",
       "\n",
       "    .dataframe tbody tr th {\n",
       "        vertical-align: top;\n",
       "    }\n",
       "\n",
       "    .dataframe thead th {\n",
       "        text-align: right;\n",
       "    }\n",
       "</style>\n",
       "<table border=\"1\" class=\"dataframe\">\n",
       "  <thead>\n",
       "    <tr style=\"text-align: right;\">\n",
       "      <th></th>\n",
       "      <th>Player</th>\n",
       "      <th>Season</th>\n",
       "      <th>Competition</th>\n",
       "      <th>Matchday</th>\n",
       "      <th>Date</th>\n",
       "      <th>Venue</th>\n",
       "      <th>Club</th>\n",
       "      <th>Opponent</th>\n",
       "      <th>Result</th>\n",
       "      <th>Playing_Position</th>\n",
       "      <th>Minute</th>\n",
       "      <th>At_score</th>\n",
       "      <th>Type</th>\n",
       "      <th>Goal_assist</th>\n",
       "    </tr>\n",
       "  </thead>\n",
       "  <tbody>\n",
       "    <tr>\n",
       "      <th>count</th>\n",
       "      <td>1400</td>\n",
       "      <td>1400</td>\n",
       "      <td>1400</td>\n",
       "      <td>1400</td>\n",
       "      <td>1400</td>\n",
       "      <td>1400</td>\n",
       "      <td>1400</td>\n",
       "      <td>1400</td>\n",
       "      <td>1400</td>\n",
       "      <td>1342</td>\n",
       "      <td>1400</td>\n",
       "      <td>1400</td>\n",
       "      <td>1384</td>\n",
       "      <td>945</td>\n",
       "    </tr>\n",
       "    <tr>\n",
       "      <th>unique</th>\n",
       "      <td>2</td>\n",
       "      <td>22</td>\n",
       "      <td>20</td>\n",
       "      <td>53</td>\n",
       "      <td>813</td>\n",
       "      <td>2</td>\n",
       "      <td>6</td>\n",
       "      <td>168</td>\n",
       "      <td>68</td>\n",
       "      <td>10</td>\n",
       "      <td>108</td>\n",
       "      <td>49</td>\n",
       "      <td>12</td>\n",
       "      <td>153</td>\n",
       "    </tr>\n",
       "    <tr>\n",
       "      <th>top</th>\n",
       "      <td>CR7</td>\n",
       "      <td>14/15</td>\n",
       "      <td>LaLiga</td>\n",
       "      <td>Group Stage</td>\n",
       "      <td>2013-01-27</td>\n",
       "      <td>H</td>\n",
       "      <td>FC Barcelona</td>\n",
       "      <td>Sevilla FC</td>\n",
       "      <td>3:00</td>\n",
       "      <td>CF</td>\n",
       "      <td>90</td>\n",
       "      <td>1:00</td>\n",
       "      <td>Left-footed shot</td>\n",
       "      <td>Luis Suarez</td>\n",
       "    </tr>\n",
       "    <tr>\n",
       "      <th>freq</th>\n",
       "      <td>701</td>\n",
       "      <td>119</td>\n",
       "      <td>785</td>\n",
       "      <td>155</td>\n",
       "      <td>7</td>\n",
       "      <td>820</td>\n",
       "      <td>672</td>\n",
       "      <td>65</td>\n",
       "      <td>92</td>\n",
       "      <td>473</td>\n",
       "      <td>29</td>\n",
       "      <td>209</td>\n",
       "      <td>544</td>\n",
       "      <td>48</td>\n",
       "    </tr>\n",
       "  </tbody>\n",
       "</table>\n",
       "</div>"
      ],
      "text/plain": [
       "       Player Season Competition     Matchday        Date Venue          Club  \\\n",
       "count    1400   1400        1400         1400        1400  1400          1400   \n",
       "unique      2     22          20           53         813     2             6   \n",
       "top       CR7  14/15      LaLiga  Group Stage  2013-01-27     H  FC Barcelona   \n",
       "freq      701    119         785          155           7   820           672   \n",
       "\n",
       "          Opponent Result Playing_Position Minute At_score              Type  \\\n",
       "count         1400   1400             1342   1400     1400              1384   \n",
       "unique         168     68               10    108       49                12   \n",
       "top     Sevilla FC   3:00               CF     90     1:00  Left-footed shot   \n",
       "freq            65     92              473     29      209               544   \n",
       "\n",
       "        Goal_assist  \n",
       "count           945  \n",
       "unique          153  \n",
       "top     Luis Suarez  \n",
       "freq             48  "
      ]
     },
     "execution_count": 7,
     "metadata": {},
     "output_type": "execute_result"
    }
   ],
   "source": [
    "data.describe()"
   ]
  },
  {
   "cell_type": "code",
   "execution_count": 8,
   "metadata": {},
   "outputs": [],
   "source": [
    "# Formateando la columna Date, pasando a un formato más amigable (DD,MM,YYYY)\n",
    "\n",
    "data['Date'] = pd.to_datetime(data['Date'], format='%Y-%m-%d').dt.strftime('%d-%m-%Y')"
   ]
  },
  {
   "cell_type": "code",
   "execution_count": 9,
   "metadata": {},
   "outputs": [
    {
     "data": {
      "text/html": [
       "<div>\n",
       "<style scoped>\n",
       "    .dataframe tbody tr th:only-of-type {\n",
       "        vertical-align: middle;\n",
       "    }\n",
       "\n",
       "    .dataframe tbody tr th {\n",
       "        vertical-align: top;\n",
       "    }\n",
       "\n",
       "    .dataframe thead th {\n",
       "        text-align: right;\n",
       "    }\n",
       "</style>\n",
       "<table border=\"1\" class=\"dataframe\">\n",
       "  <thead>\n",
       "    <tr style=\"text-align: right;\">\n",
       "      <th></th>\n",
       "      <th>Player</th>\n",
       "      <th>Season</th>\n",
       "      <th>Competition</th>\n",
       "      <th>Matchday</th>\n",
       "      <th>Date</th>\n",
       "      <th>Venue</th>\n",
       "      <th>Club</th>\n",
       "      <th>Opponent</th>\n",
       "      <th>Result</th>\n",
       "      <th>Playing_Position</th>\n",
       "      <th>Minute</th>\n",
       "      <th>At_score</th>\n",
       "      <th>Type</th>\n",
       "      <th>Goal_assist</th>\n",
       "    </tr>\n",
       "  </thead>\n",
       "  <tbody>\n",
       "    <tr>\n",
       "      <th>1395</th>\n",
       "      <td>Messi</td>\n",
       "      <td>22/23</td>\n",
       "      <td>UEFA Champions League</td>\n",
       "      <td>Group Stage</td>\n",
       "      <td>25-10-2022</td>\n",
       "      <td>H</td>\n",
       "      <td>Paris Saint-Germain</td>\n",
       "      <td>Maccabi Haifa</td>\n",
       "      <td>7:2</td>\n",
       "      <td>SS</td>\n",
       "      <td>44</td>\n",
       "      <td>4:1</td>\n",
       "      <td>Left-footed shot</td>\n",
       "      <td>Kylian Mbappe</td>\n",
       "    </tr>\n",
       "    <tr>\n",
       "      <th>1396</th>\n",
       "      <td>Messi</td>\n",
       "      <td>22/23</td>\n",
       "      <td>UEFA Champions League</td>\n",
       "      <td>Group Stage</td>\n",
       "      <td>25-10-2022</td>\n",
       "      <td>H</td>\n",
       "      <td>Paris Saint-Germain</td>\n",
       "      <td>Maccabi Haifa</td>\n",
       "      <td>7:2</td>\n",
       "      <td>SS</td>\n",
       "      <td>19</td>\n",
       "      <td>1:0</td>\n",
       "      <td>Left-footed shot</td>\n",
       "      <td>Kylian Mbappe</td>\n",
       "    </tr>\n",
       "    <tr>\n",
       "      <th>1397</th>\n",
       "      <td>CR7</td>\n",
       "      <td>22/23</td>\n",
       "      <td>Europa League</td>\n",
       "      <td>Group Stage</td>\n",
       "      <td>27-10-2022</td>\n",
       "      <td>H</td>\n",
       "      <td>Manchester United</td>\n",
       "      <td>FC Sheriff</td>\n",
       "      <td>3:0</td>\n",
       "      <td>CF</td>\n",
       "      <td>81</td>\n",
       "      <td>3:0</td>\n",
       "      <td>Left-footed shot</td>\n",
       "      <td>NaN</td>\n",
       "    </tr>\n",
       "    <tr>\n",
       "      <th>1398</th>\n",
       "      <td>Messi</td>\n",
       "      <td>22/23</td>\n",
       "      <td>Ligue 1</td>\n",
       "      <td>13</td>\n",
       "      <td>29-10-2022</td>\n",
       "      <td>H</td>\n",
       "      <td>Paris Saint-Germain</td>\n",
       "      <td>ESTAC Troyes</td>\n",
       "      <td>4:3</td>\n",
       "      <td>RW</td>\n",
       "      <td>55</td>\n",
       "      <td>2:2</td>\n",
       "      <td>Left-footed shot</td>\n",
       "      <td>Sergio Ramos</td>\n",
       "    </tr>\n",
       "    <tr>\n",
       "      <th>1399</th>\n",
       "      <td>Messi</td>\n",
       "      <td>22/23</td>\n",
       "      <td>Ligue 1</td>\n",
       "      <td>18</td>\n",
       "      <td>11-01-2023</td>\n",
       "      <td>H</td>\n",
       "      <td>Paris Saint-Germain</td>\n",
       "      <td>Angers SCO</td>\n",
       "      <td>2:0</td>\n",
       "      <td>AM</td>\n",
       "      <td>72</td>\n",
       "      <td>2:0</td>\n",
       "      <td>Right-footed shot</td>\n",
       "      <td>Nordi Mukiele</td>\n",
       "    </tr>\n",
       "  </tbody>\n",
       "</table>\n",
       "</div>"
      ],
      "text/plain": [
       "     Player Season            Competition     Matchday        Date Venue  \\\n",
       "1395  Messi  22/23  UEFA Champions League  Group Stage  25-10-2022     H   \n",
       "1396  Messi  22/23  UEFA Champions League  Group Stage  25-10-2022     H   \n",
       "1397    CR7  22/23          Europa League  Group Stage  27-10-2022     H   \n",
       "1398  Messi  22/23                Ligue 1           13  29-10-2022     H   \n",
       "1399  Messi  22/23                Ligue 1           18  11-01-2023     H   \n",
       "\n",
       "                     Club       Opponent Result Playing_Position Minute  \\\n",
       "1395  Paris Saint-Germain  Maccabi Haifa    7:2               SS     44   \n",
       "1396  Paris Saint-Germain  Maccabi Haifa    7:2               SS     19   \n",
       "1397    Manchester United     FC Sheriff    3:0               CF     81   \n",
       "1398  Paris Saint-Germain   ESTAC Troyes    4:3               RW     55   \n",
       "1399  Paris Saint-Germain     Angers SCO    2:0               AM     72   \n",
       "\n",
       "     At_score               Type    Goal_assist  \n",
       "1395      4:1   Left-footed shot  Kylian Mbappe  \n",
       "1396      1:0   Left-footed shot  Kylian Mbappe  \n",
       "1397      3:0   Left-footed shot            NaN  \n",
       "1398      2:2   Left-footed shot   Sergio Ramos  \n",
       "1399      2:0  Right-footed shot  Nordi Mukiele  "
      ]
     },
     "execution_count": 9,
     "metadata": {},
     "output_type": "execute_result"
    }
   ],
   "source": [
    "data.tail()"
   ]
  },
  {
   "attachments": {},
   "cell_type": "markdown",
   "metadata": {},
   "source": [
    "## Normalizando Datos\n",
    "### Existen en nuestras columnas datos que no están almacenados correctamente"
   ]
  },
  {
   "attachments": {},
   "cell_type": "markdown",
   "metadata": {},
   "source": [
    "##### La columna ['Competition']"
   ]
  },
  {
   "cell_type": "code",
   "execution_count": 10,
   "metadata": {},
   "outputs": [
    {
     "data": {
      "text/plain": [
       "LaLiga                              785\n",
       "UEFA Champions League               268\n",
       "Premier League                      103\n",
       "Serie A                              81\n",
       "Copa del Rey                         78\n",
       "Supercopa                            18\n",
       "Ligue 1                              16\n",
       "FA Cup                               13\n",
       "FIFA Club World Cup                  12\n",
       "UEFA Super Cup                        5\n",
       "EFL Cup                               4\n",
       "Italy Cup                             4\n",
       "Liga Portugal                         3\n",
       "Supercoppa Italiana                   2\n",
       "Taca de Portugal Placard              2\n",
       "Europa League                         2\n",
       "UEFA Champions League Qualifying      1\n",
       "Trophée des Champions                 1\n",
       "Troph�e des Champions                 1\n",
       "Champions League                      1\n",
       "Name: Competition, dtype: int64"
      ]
     },
     "execution_count": 10,
     "metadata": {},
     "output_type": "execute_result"
    }
   ],
   "source": [
    "data['Competition'].value_counts()"
   ]
  },
  {
   "cell_type": "code",
   "execution_count": 11,
   "metadata": {},
   "outputs": [],
   "source": [
    "data.replace('Supercopa', 'Supercopa de España', inplace = True)\n",
    "data.replace('Liga Portugal', 'Liga de Portugal', inplace = True)\n",
    "data.replace('Taca de Portugal Placard', 'Copa de Portugal', inplace = True)\n",
    "data.replace('Europa League', 'UEFA Europa League', inplace = True)\n",
    "data.replace('Trophée des Champions', 'Copa de Francia', inplace = True)\n",
    "data.replace('Troph�e des Champions', 'Copa de Francia', inplace = True)\n",
    "data.replace('Champions League', 'UEFA Champions League', inplace = True)"
   ]
  },
  {
   "cell_type": "code",
   "execution_count": 12,
   "metadata": {},
   "outputs": [
    {
     "data": {
      "text/plain": [
       "LaLiga                              785\n",
       "UEFA Champions League               269\n",
       "Premier League                      103\n",
       "Serie A                              81\n",
       "Copa del Rey                         78\n",
       "Supercopa de España                  18\n",
       "Ligue 1                              16\n",
       "FA Cup                               13\n",
       "FIFA Club World Cup                  12\n",
       "UEFA Super Cup                        5\n",
       "EFL Cup                               4\n",
       "Italy Cup                             4\n",
       "Liga de Portugal                      3\n",
       "Supercoppa Italiana                   2\n",
       "Copa de Portugal                      2\n",
       "Copa de Francia                       2\n",
       "UEFA Europa League                    2\n",
       "UEFA Champions League Qualifying      1\n",
       "Name: Competition, dtype: int64"
      ]
     },
     "execution_count": 12,
     "metadata": {},
     "output_type": "execute_result"
    }
   ],
   "source": [
    "data['Competition'].value_counts()"
   ]
  },
  {
   "cell_type": "code",
   "execution_count": 13,
   "metadata": {},
   "outputs": [
    {
     "data": {
      "text/html": [
       "<div>\n",
       "<style scoped>\n",
       "    .dataframe tbody tr th:only-of-type {\n",
       "        vertical-align: middle;\n",
       "    }\n",
       "\n",
       "    .dataframe tbody tr th {\n",
       "        vertical-align: top;\n",
       "    }\n",
       "\n",
       "    .dataframe thead th {\n",
       "        text-align: right;\n",
       "    }\n",
       "</style>\n",
       "<table border=\"1\" class=\"dataframe\">\n",
       "  <thead>\n",
       "    <tr style=\"text-align: right;\">\n",
       "      <th></th>\n",
       "      <th>Player</th>\n",
       "      <th>Season</th>\n",
       "      <th>Competition</th>\n",
       "      <th>Matchday</th>\n",
       "      <th>Date</th>\n",
       "      <th>Venue</th>\n",
       "      <th>Club</th>\n",
       "      <th>Opponent</th>\n",
       "      <th>Result</th>\n",
       "      <th>Playing_Position</th>\n",
       "      <th>Minute</th>\n",
       "      <th>At_score</th>\n",
       "      <th>Type</th>\n",
       "      <th>Goal_assist</th>\n",
       "    </tr>\n",
       "  </thead>\n",
       "  <tbody>\n",
       "    <tr>\n",
       "      <th>1381</th>\n",
       "      <td>Messi</td>\n",
       "      <td>21/22</td>\n",
       "      <td>Copa de Francia</td>\n",
       "      <td>Final</td>\n",
       "      <td>31-07-2022</td>\n",
       "      <td>H</td>\n",
       "      <td>Paris Saint-Germain</td>\n",
       "      <td>FC Nantes</td>\n",
       "      <td>4:00</td>\n",
       "      <td>CF</td>\n",
       "      <td>22</td>\n",
       "      <td>1:00</td>\n",
       "      <td>Right-footed shot</td>\n",
       "      <td>NaN</td>\n",
       "    </tr>\n",
       "    <tr>\n",
       "      <th>1382</th>\n",
       "      <td>Messi</td>\n",
       "      <td>22/23</td>\n",
       "      <td>Copa de Francia</td>\n",
       "      <td>Final</td>\n",
       "      <td>31-07-2022</td>\n",
       "      <td>H</td>\n",
       "      <td>Paris Saint-Germain</td>\n",
       "      <td>FC Nantes</td>\n",
       "      <td>4:00</td>\n",
       "      <td>CF</td>\n",
       "      <td>22</td>\n",
       "      <td>1:00</td>\n",
       "      <td>Right-footed shot</td>\n",
       "      <td>NaN</td>\n",
       "    </tr>\n",
       "  </tbody>\n",
       "</table>\n",
       "</div>"
      ],
      "text/plain": [
       "     Player Season      Competition Matchday        Date Venue  \\\n",
       "1381  Messi  21/22  Copa de Francia    Final  31-07-2022     H   \n",
       "1382  Messi  22/23  Copa de Francia    Final  31-07-2022     H   \n",
       "\n",
       "                     Club   Opponent Result Playing_Position Minute At_score  \\\n",
       "1381  Paris Saint-Germain  FC Nantes   4:00               CF     22     1:00   \n",
       "1382  Paris Saint-Germain  FC Nantes   4:00               CF     22     1:00   \n",
       "\n",
       "                   Type Goal_assist  \n",
       "1381  Right-footed shot         NaN  \n",
       "1382  Right-footed shot         NaN  "
      ]
     },
     "execution_count": 13,
     "metadata": {},
     "output_type": "execute_result"
    }
   ],
   "source": [
    "# Registro duplicado por lo que se procede a realizar la eliminación de uno de ellos, \n",
    "# recordemos que a pesar de que el partido se disputa en una fecha atípica y \n",
    "# que está a su vez muy proxima a la temporada 22/23, el mismo sigue formando \n",
    "# parte de la temporada previa ya que lo que se define en el cotejo es \n",
    "# el de quién será el Campeón de la Copa de Francia de la temporada 21/22, \n",
    "# por eso el registro a eliminar es el listado con en el index 1382\n",
    "# ya que el mismo aparece como si el cotejo correspondiera a la temporada 22/23 \n",
    "\n",
    "data.loc[data['Competition'] == 'Copa de Francia']"
   ]
  },
  {
   "cell_type": "code",
   "execution_count": 14,
   "metadata": {},
   "outputs": [
    {
     "data": {
      "text/html": [
       "<div>\n",
       "<style scoped>\n",
       "    .dataframe tbody tr th:only-of-type {\n",
       "        vertical-align: middle;\n",
       "    }\n",
       "\n",
       "    .dataframe tbody tr th {\n",
       "        vertical-align: top;\n",
       "    }\n",
       "\n",
       "    .dataframe thead th {\n",
       "        text-align: right;\n",
       "    }\n",
       "</style>\n",
       "<table border=\"1\" class=\"dataframe\">\n",
       "  <thead>\n",
       "    <tr style=\"text-align: right;\">\n",
       "      <th></th>\n",
       "      <th>Player</th>\n",
       "      <th>Season</th>\n",
       "      <th>Competition</th>\n",
       "      <th>Matchday</th>\n",
       "      <th>Date</th>\n",
       "      <th>Venue</th>\n",
       "      <th>Club</th>\n",
       "      <th>Opponent</th>\n",
       "      <th>Result</th>\n",
       "      <th>Playing_Position</th>\n",
       "      <th>Minute</th>\n",
       "      <th>At_score</th>\n",
       "      <th>Type</th>\n",
       "      <th>Goal_assist</th>\n",
       "    </tr>\n",
       "  </thead>\n",
       "  <tbody>\n",
       "    <tr>\n",
       "      <th>21</th>\n",
       "      <td>CR7</td>\n",
       "      <td>05/06</td>\n",
       "      <td>UEFA Champions League Qualifying</td>\n",
       "      <td>3rd round</td>\n",
       "      <td>09-08-2005</td>\n",
       "      <td>H</td>\n",
       "      <td>Manchester United</td>\n",
       "      <td>Debreceni VSC</td>\n",
       "      <td>3:00</td>\n",
       "      <td>NaN</td>\n",
       "      <td>63</td>\n",
       "      <td>3:00</td>\n",
       "      <td>Right-footed shot</td>\n",
       "      <td>Paul Scholes</td>\n",
       "    </tr>\n",
       "  </tbody>\n",
       "</table>\n",
       "</div>"
      ],
      "text/plain": [
       "   Player Season                       Competition   Matchday        Date  \\\n",
       "21    CR7  05/06  UEFA Champions League Qualifying  3rd round  09-08-2005   \n",
       "\n",
       "   Venue               Club       Opponent Result Playing_Position Minute  \\\n",
       "21     H  Manchester United  Debreceni VSC   3:00              NaN     63   \n",
       "\n",
       "   At_score               Type   Goal_assist  \n",
       "21     3:00  Right-footed shot  Paul Scholes  "
      ]
     },
     "execution_count": 14,
     "metadata": {},
     "output_type": "execute_result"
    }
   ],
   "source": [
    "# En la página oficial de la UEFA Cristiano Ronaldo aparece como máximo goleador\n",
    "# histórico de la Champions League con 140 goles dicho registro es acompañado \n",
    "# de un (*) que resalta que no se contabilizan los goles en fases clasificatorias\n",
    "# de la competición por lo que no veo utilidad a este dato\n",
    "\n",
    "data.loc[data['Competition'] == 'UEFA Champions League Qualifying']"
   ]
  },
  {
   "cell_type": "code",
   "execution_count": 15,
   "metadata": {},
   "outputs": [],
   "source": [
    "# Se remueven los registros antes analizados y se procede a reiniciar los indices del DF\n",
    "\n",
    "data = data.drop(data.index[[21,1382]]).reset_index(drop=True)"
   ]
  },
  {
   "attachments": {},
   "cell_type": "markdown",
   "metadata": {},
   "source": [
    "##### La columna ['Matchday']"
   ]
  },
  {
   "cell_type": "code",
   "execution_count": 16,
   "metadata": {},
   "outputs": [
    {
     "data": {
      "text/plain": [
       "array(['6', '8', 'Fourth Round', 'Fifth Round', '11', '29', '32', '38',\n",
       "       'Final', '16', 'Third Round', '24', '25', 'Sixth Round', '30',\n",
       "       'Semi-Finals', '34', 'Group Stage', '13', 'Round of 16', '20',\n",
       "       '19', '21', 'Quarter-Finals', '26', '28', '1', '2', '10', '15',\n",
       "       '17', '23', '27', '6th round', '37', '35', '4', '5', '9', '7',\n",
       "       '12', '18', '22', 'last 16', '31', '33', '3', '36', 'final',\n",
       "       '5th round', '4th round', '14'], dtype=object)"
      ]
     },
     "execution_count": 16,
     "metadata": {},
     "output_type": "execute_result"
    }
   ],
   "source": [
    "data['Matchday'].unique()"
   ]
  },
  {
   "cell_type": "code",
   "execution_count": 17,
   "metadata": {},
   "outputs": [],
   "source": [
    "data.replace('6th round', 'Sixth Round', inplace = True)\n",
    "data.replace('final', 'Final', inplace = True)\n",
    "data.replace('last 16', 'Round of 16', inplace = True)\n",
    "data.replace('5th round', 'Fifth Round', inplace = True)\n",
    "data.replace('4th round', 'Fourth Round', inplace = True)"
   ]
  },
  {
   "cell_type": "code",
   "execution_count": 18,
   "metadata": {},
   "outputs": [
    {
     "data": {
      "text/plain": [
       "array(['6', '8', 'Fourth Round', 'Fifth Round', '11', '29', '32', '38',\n",
       "       'Final', '16', 'Third Round', '24', '25', 'Sixth Round', '30',\n",
       "       'Semi-Finals', '34', 'Group Stage', '13', 'Round of 16', '20',\n",
       "       '19', '21', 'Quarter-Finals', '26', '28', '1', '2', '10', '15',\n",
       "       '17', '23', '27', '37', '35', '4', '5', '9', '7', '12', '18', '22',\n",
       "       '31', '33', '3', '36', '14'], dtype=object)"
      ]
     },
     "execution_count": 18,
     "metadata": {},
     "output_type": "execute_result"
    }
   ],
   "source": [
    "data['Matchday'].unique()"
   ]
  },
  {
   "cell_type": "code",
   "execution_count": 19,
   "metadata": {},
   "outputs": [
    {
     "data": {
      "text/plain": [
       "47"
      ]
     },
     "execution_count": 19,
     "metadata": {},
     "output_type": "execute_result"
    }
   ],
   "source": [
    "data['Matchday'].nunique()"
   ]
  },
  {
   "attachments": {},
   "cell_type": "markdown",
   "metadata": {},
   "source": [
    "##### La columna ['Season']"
   ]
  },
  {
   "cell_type": "code",
   "execution_count": 20,
   "metadata": {},
   "outputs": [
    {
     "data": {
      "text/plain": [
       "array(['02/03', '03/04', '04/05', '05/06', '06/07', '07/08', '08/09',\n",
       "       '09/10', '10/11', '11-Dec', '11/12', 'Dec-13', '13/14', '14/15',\n",
       "       '15/16', '16/17', '17/18', '18/19', '19/20', '20/21', '21/22',\n",
       "       '22/23'], dtype=object)"
      ]
     },
     "execution_count": 20,
     "metadata": {},
     "output_type": "execute_result"
    }
   ],
   "source": [
    "data['Season'].unique()"
   ]
  },
  {
   "cell_type": "code",
   "execution_count": 21,
   "metadata": {},
   "outputs": [
    {
     "data": {
      "text/plain": [
       "22"
      ]
     },
     "execution_count": 21,
     "metadata": {},
     "output_type": "execute_result"
    }
   ],
   "source": [
    "data['Season'].nunique()"
   ]
  },
  {
   "cell_type": "code",
   "execution_count": 22,
   "metadata": {},
   "outputs": [],
   "source": [
    "data.replace('11-Dec', '11/12', inplace = True)\n",
    "data.replace('Dec-13', '12/13', inplace = True)"
   ]
  },
  {
   "cell_type": "code",
   "execution_count": 23,
   "metadata": {},
   "outputs": [
    {
     "data": {
      "text/plain": [
       "array(['02/03', '03/04', '04/05', '05/06', '06/07', '07/08', '08/09',\n",
       "       '09/10', '10/11', '11/12', '12/13', '13/14', '14/15', '15/16',\n",
       "       '16/17', '17/18', '18/19', '19/20', '20/21', '21/22', '22/23'],\n",
       "      dtype=object)"
      ]
     },
     "execution_count": 23,
     "metadata": {},
     "output_type": "execute_result"
    }
   ],
   "source": [
    "data['Season'].unique()"
   ]
  },
  {
   "cell_type": "code",
   "execution_count": 24,
   "metadata": {},
   "outputs": [
    {
     "data": {
      "text/plain": [
       "21"
      ]
     },
     "execution_count": 24,
     "metadata": {},
     "output_type": "execute_result"
    }
   ],
   "source": [
    "data['Season'].nunique()"
   ]
  },
  {
   "attachments": {},
   "cell_type": "markdown",
   "metadata": {},
   "source": [
    "##### La columna ['Playing_Position']"
   ]
  },
  {
   "cell_type": "code",
   "execution_count": 25,
   "metadata": {},
   "outputs": [
    {
     "data": {
      "text/plain": [
       "array(['LW', nan, 'RW', 'CF', 'SS', 'LW ', 'CF ', 'AM', 'RW ', 'AM ',\n",
       "       'SS '], dtype=object)"
      ]
     },
     "execution_count": 25,
     "metadata": {},
     "output_type": "execute_result"
    }
   ],
   "source": [
    "data['Playing_Position'].unique()"
   ]
  },
  {
   "cell_type": "code",
   "execution_count": 26,
   "metadata": {},
   "outputs": [
    {
     "data": {
      "text/plain": [
       "CF     472\n",
       "LW     357\n",
       "RW     300\n",
       "RW      95\n",
       "CF      43\n",
       "SS      32\n",
       "SS      21\n",
       "AM       9\n",
       "AM       7\n",
       "LW       5\n",
       "Name: Playing_Position, dtype: int64"
      ]
     },
     "execution_count": 26,
     "metadata": {},
     "output_type": "execute_result"
    }
   ],
   "source": [
    "data['Playing_Position'].value_counts()"
   ]
  },
  {
   "cell_type": "code",
   "execution_count": 27,
   "metadata": {},
   "outputs": [
    {
     "data": {
      "text/plain": [
       "57"
      ]
     },
     "execution_count": 27,
     "metadata": {},
     "output_type": "execute_result"
    }
   ],
   "source": [
    "data['Playing_Position'].isna().sum()"
   ]
  },
  {
   "cell_type": "code",
   "execution_count": 28,
   "metadata": {},
   "outputs": [],
   "source": [
    "data['Playing_Position'] = data['Playing_Position'].replace({'LW ': 'LW','CF ': 'CF', 'RW ': 'RW', 'AM ': 'AM', 'SS ': 'SS'})"
   ]
  },
  {
   "cell_type": "code",
   "execution_count": 29,
   "metadata": {},
   "outputs": [
    {
     "data": {
      "text/plain": [
       "array(['LW', nan, 'RW', 'CF', 'SS', 'AM'], dtype=object)"
      ]
     },
     "execution_count": 29,
     "metadata": {},
     "output_type": "execute_result"
    }
   ],
   "source": [
    "data['Playing_Position'].unique()"
   ]
  },
  {
   "cell_type": "code",
   "execution_count": 30,
   "metadata": {},
   "outputs": [
    {
     "data": {
      "text/plain": [
       "CF    515\n",
       "RW    395\n",
       "LW    362\n",
       "SS     53\n",
       "AM     16\n",
       "Name: Playing_Position, dtype: int64"
      ]
     },
     "execution_count": 30,
     "metadata": {},
     "output_type": "execute_result"
    }
   ],
   "source": [
    "data['Playing_Position'].value_counts()"
   ]
  },
  {
   "cell_type": "code",
   "execution_count": 31,
   "metadata": {},
   "outputs": [],
   "source": [
    "data['Playing_Position'] = data.apply(lambda x: 'LW' if x['Player'] == 'CR7' and pd.isna(x['Playing_Position']) \n",
    "else 'RW' if x['Player'] == 'Messi' and pd.isna(x['Playing_Position']) else x['Playing_Position'], axis=1)"
   ]
  },
  {
   "cell_type": "code",
   "execution_count": 32,
   "metadata": {},
   "outputs": [
    {
     "data": {
      "text/plain": [
       "0"
      ]
     },
     "execution_count": 32,
     "metadata": {},
     "output_type": "execute_result"
    }
   ],
   "source": [
    "data['Playing_Position'].isna().sum()"
   ]
  },
  {
   "cell_type": "code",
   "execution_count": 33,
   "metadata": {},
   "outputs": [
    {
     "data": {
      "text/plain": [
       "Messi    69\n",
       "Name: Player, dtype: int64"
      ]
     },
     "execution_count": 33,
     "metadata": {},
     "output_type": "execute_result"
    }
   ],
   "source": [
    "# Los registros almacenados en la columna 'Playing_Position' \n",
    "    # CF - Center Forward - Delantero Centro\n",
    "    # RW - Right Wind     - Extremo derecho\n",
    "    # LW - Left Wind      - Extremo Izquierdo\n",
    "    # SS - NO DATA        - Solo Messi posee este registro \n",
    "    # AM - NO DATA        - Solo Messi posee este registro\n",
    "\n",
    "# Todos los registros que son 'Playing_Position' == 'SS' o 'AM' \n",
    "# están a nombre de Lionel Messi \n",
    "# Debo confesar que a pesar de ser un gran seguidor del futbol \n",
    "# no encontré información concluyente de que significan esas \n",
    "# nomenclatura para describir un puesto en el campo.\n",
    "\n",
    "data.loc[(data['Playing_Position'] == 'AM') | (data['Playing_Position'] == 'SS')]['Player'].value_counts()"
   ]
  },
  {
   "attachments": {},
   "cell_type": "markdown",
   "metadata": {},
   "source": [
    "##### La columna ['Result']"
   ]
  },
  {
   "cell_type": "code",
   "execution_count": 34,
   "metadata": {},
   "outputs": [
    {
     "data": {
      "text/plain": [
       "array(['3:00', '1:02', '4:01', '8:01', '4:02', '0:02', '3:01', '2:04',\n",
       "       '0:04', '1:00', '1:04', '2:00', '5:00', '2:01', '0:03', '1:03',\n",
       "       '5:01', '4:00', '2:03', '1:01', '3:02', '2:02', '3:03', '7:01',\n",
       "       '5:02', '0:01', '0:06', '1:05', '6:00', '6:5 on pens', '1:06',\n",
       "       '6:01', '0:05', '4:03', '2:05', '3:05', '2:06', '1:2 AET', '6:02',\n",
       "       '0:08', '8:00', '7:00', '0:1 AET', '5:03', '3:4 on pens', '0:07',\n",
       "       '4:05', '2:1 AET', '7:03', '3:04', '4:1 AET', '2:08', '9:01',\n",
       "       '5:4 AET', '10:02', '4:2 AET', '6:03', '8:02', '4:04', '1:07',\n",
       "       '2:1', '1:1', '1:2', '0:3', '7:2', '3:0', '4:3', '2:0'],\n",
       "      dtype=object)"
      ]
     },
     "execution_count": 34,
     "metadata": {},
     "output_type": "execute_result"
    }
   ],
   "source": [
    "data['Result'].unique()"
   ]
  },
  {
   "cell_type": "code",
   "execution_count": 35,
   "metadata": {},
   "outputs": [],
   "source": [
    "data['Result'] = data['Result'].str.replace(':','-')"
   ]
  },
  {
   "cell_type": "code",
   "execution_count": 36,
   "metadata": {},
   "outputs": [
    {
     "data": {
      "text/plain": [
       "array(['3-00', '1-02', '4-01', '8-01', '4-02', '0-02', '3-01', '2-04',\n",
       "       '0-04', '1-00', '1-04', '2-00', '5-00', '2-01', '0-03', '1-03',\n",
       "       '5-01', '4-00', '2-03', '1-01', '3-02', '2-02', '3-03', '7-01',\n",
       "       '5-02', '0-01', '0-06', '1-05', '6-00', '6-5 on pens', '1-06',\n",
       "       '6-01', '0-05', '4-03', '2-05', '3-05', '2-06', '1-2 AET', '6-02',\n",
       "       '0-08', '8-00', '7-00', '0-1 AET', '5-03', '3-4 on pens', '0-07',\n",
       "       '4-05', '2-1 AET', '7-03', '3-04', '4-1 AET', '2-08', '9-01',\n",
       "       '5-4 AET', '10-02', '4-2 AET', '6-03', '8-02', '4-04', '1-07',\n",
       "       '2-1', '1-1', '1-2', '0-3', '7-2', '3-0', '4-3', '2-0'],\n",
       "      dtype=object)"
      ]
     },
     "execution_count": 36,
     "metadata": {},
     "output_type": "execute_result"
    }
   ],
   "source": [
    "data['Result'].unique()"
   ]
  },
  {
   "cell_type": "code",
   "execution_count": 37,
   "metadata": {},
   "outputs": [
    {
     "data": {
      "text/plain": [
       "68"
      ]
     },
     "execution_count": 37,
     "metadata": {},
     "output_type": "execute_result"
    }
   ],
   "source": [
    "data['Result'].nunique()"
   ]
  },
  {
   "cell_type": "code",
   "execution_count": 38,
   "metadata": {},
   "outputs": [],
   "source": [
    "def remove_zero(string):\n",
    "    parts = string.split(\"-\")\n",
    "    if parts[1][0] == \"0\" and len(parts[1]) > 1:\n",
    "        parts[1] = parts[1].replace(\"0\", \"\", 1)\n",
    "    return \"-\".join(parts)\n",
    "\n",
    "\n",
    "data['Result'] = data['Result'].apply(remove_zero)\n"
   ]
  },
  {
   "cell_type": "code",
   "execution_count": 39,
   "metadata": {},
   "outputs": [
    {
     "data": {
      "text/html": [
       "<div>\n",
       "<style scoped>\n",
       "    .dataframe tbody tr th:only-of-type {\n",
       "        vertical-align: middle;\n",
       "    }\n",
       "\n",
       "    .dataframe tbody tr th {\n",
       "        vertical-align: top;\n",
       "    }\n",
       "\n",
       "    .dataframe thead th {\n",
       "        text-align: right;\n",
       "    }\n",
       "</style>\n",
       "<table border=\"1\" class=\"dataframe\">\n",
       "  <thead>\n",
       "    <tr style=\"text-align: right;\">\n",
       "      <th></th>\n",
       "      <th>Player</th>\n",
       "      <th>Season</th>\n",
       "      <th>Competition</th>\n",
       "      <th>Matchday</th>\n",
       "      <th>Date</th>\n",
       "      <th>Venue</th>\n",
       "      <th>Club</th>\n",
       "      <th>Opponent</th>\n",
       "      <th>Result</th>\n",
       "      <th>Playing_Position</th>\n",
       "      <th>Minute</th>\n",
       "      <th>At_score</th>\n",
       "      <th>Type</th>\n",
       "      <th>Goal_assist</th>\n",
       "    </tr>\n",
       "  </thead>\n",
       "  <tbody>\n",
       "    <tr>\n",
       "      <th>0</th>\n",
       "      <td>CR7</td>\n",
       "      <td>02/03</td>\n",
       "      <td>Liga de Portugal</td>\n",
       "      <td>6</td>\n",
       "      <td>07-10-2002</td>\n",
       "      <td>H</td>\n",
       "      <td>Sporting CP</td>\n",
       "      <td>Moreirense FC</td>\n",
       "      <td>3-0</td>\n",
       "      <td>LW</td>\n",
       "      <td>34</td>\n",
       "      <td>2:00</td>\n",
       "      <td>Solo run</td>\n",
       "      <td>NaN</td>\n",
       "    </tr>\n",
       "    <tr>\n",
       "      <th>1</th>\n",
       "      <td>CR7</td>\n",
       "      <td>02/03</td>\n",
       "      <td>Liga de Portugal</td>\n",
       "      <td>6</td>\n",
       "      <td>07-10-2002</td>\n",
       "      <td>H</td>\n",
       "      <td>Sporting CP</td>\n",
       "      <td>Moreirense FC</td>\n",
       "      <td>3-0</td>\n",
       "      <td>LW</td>\n",
       "      <td>90+5</td>\n",
       "      <td>3:00</td>\n",
       "      <td>Header</td>\n",
       "      <td>Rui Jorge</td>\n",
       "    </tr>\n",
       "    <tr>\n",
       "      <th>2</th>\n",
       "      <td>CR7</td>\n",
       "      <td>02/03</td>\n",
       "      <td>Liga de Portugal</td>\n",
       "      <td>8</td>\n",
       "      <td>26-10-2002</td>\n",
       "      <td>A</td>\n",
       "      <td>Sporting CP</td>\n",
       "      <td>Boavista FC</td>\n",
       "      <td>1-2</td>\n",
       "      <td>LW</td>\n",
       "      <td>88</td>\n",
       "      <td>1:02</td>\n",
       "      <td>Right-footed shot</td>\n",
       "      <td>Carlos Martins</td>\n",
       "    </tr>\n",
       "    <tr>\n",
       "      <th>3</th>\n",
       "      <td>CR7</td>\n",
       "      <td>02/03</td>\n",
       "      <td>Copa de Portugal</td>\n",
       "      <td>Fourth Round</td>\n",
       "      <td>24-11-2002</td>\n",
       "      <td>H</td>\n",
       "      <td>Sporting CP</td>\n",
       "      <td>CD Estarreja</td>\n",
       "      <td>4-1</td>\n",
       "      <td>LW</td>\n",
       "      <td>67</td>\n",
       "      <td>3:00</td>\n",
       "      <td>Left-footed shot</td>\n",
       "      <td>Cesar Prates</td>\n",
       "    </tr>\n",
       "    <tr>\n",
       "      <th>4</th>\n",
       "      <td>CR7</td>\n",
       "      <td>02/03</td>\n",
       "      <td>Copa de Portugal</td>\n",
       "      <td>Fifth Round</td>\n",
       "      <td>18-12-2002</td>\n",
       "      <td>H</td>\n",
       "      <td>Sporting CP</td>\n",
       "      <td>FC Oliveira do Hospital</td>\n",
       "      <td>8-1</td>\n",
       "      <td>LW</td>\n",
       "      <td>13</td>\n",
       "      <td>3:00</td>\n",
       "      <td>NaN</td>\n",
       "      <td>NaN</td>\n",
       "    </tr>\n",
       "  </tbody>\n",
       "</table>\n",
       "</div>"
      ],
      "text/plain": [
       "  Player Season       Competition      Matchday        Date Venue  \\\n",
       "0    CR7  02/03  Liga de Portugal             6  07-10-2002     H   \n",
       "1    CR7  02/03  Liga de Portugal             6  07-10-2002     H   \n",
       "2    CR7  02/03  Liga de Portugal             8  26-10-2002     A   \n",
       "3    CR7  02/03  Copa de Portugal  Fourth Round  24-11-2002     H   \n",
       "4    CR7  02/03  Copa de Portugal   Fifth Round  18-12-2002     H   \n",
       "\n",
       "          Club                 Opponent Result Playing_Position Minute  \\\n",
       "0  Sporting CP            Moreirense FC    3-0               LW     34   \n",
       "1  Sporting CP            Moreirense FC    3-0               LW   90+5   \n",
       "2  Sporting CP              Boavista FC    1-2               LW     88   \n",
       "3  Sporting CP             CD Estarreja    4-1               LW     67   \n",
       "4  Sporting CP  FC Oliveira do Hospital    8-1               LW     13   \n",
       "\n",
       "  At_score               Type     Goal_assist  \n",
       "0     2:00           Solo run             NaN  \n",
       "1     3:00             Header       Rui Jorge  \n",
       "2     1:02  Right-footed shot  Carlos Martins  \n",
       "3     3:00   Left-footed shot    Cesar Prates  \n",
       "4     3:00                NaN             NaN  "
      ]
     },
     "execution_count": 39,
     "metadata": {},
     "output_type": "execute_result"
    }
   ],
   "source": [
    "data.head()"
   ]
  },
  {
   "cell_type": "code",
   "execution_count": 40,
   "metadata": {},
   "outputs": [
    {
     "data": {
      "text/plain": [
       "array(['3-0', '1-2', '4-1', '8-1', '4-2', '0-2', '3-1', '2-4', '0-4',\n",
       "       '1-0', '1-4', '2-0', '5-0', '2-1', '0-3', '1-3', '5-1', '4-0',\n",
       "       '2-3', '1-1', '3-2', '2-2', '3-3', '7-1', '5-2', '0-1', '0-6',\n",
       "       '1-5', '6-0', '6-5 on pens', '1-6', '6-1', '0-5', '4-3', '2-5',\n",
       "       '3-5', '2-6', '1-2 AET', '6-2', '0-8', '8-0', '7-0', '0-1 AET',\n",
       "       '5-3', '3-4 on pens', '0-7', '4-5', '2-1 AET', '7-3', '3-4',\n",
       "       '4-1 AET', '2-8', '9-1', '5-4 AET', '10-2', '4-2 AET', '6-3',\n",
       "       '8-2', '4-4', '1-7', '7-2'], dtype=object)"
      ]
     },
     "execution_count": 40,
     "metadata": {},
     "output_type": "execute_result"
    }
   ],
   "source": [
    "data['Result'].unique()"
   ]
  },
  {
   "cell_type": "code",
   "execution_count": 41,
   "metadata": {},
   "outputs": [
    {
     "data": {
      "text/plain": [
       "61"
      ]
     },
     "execution_count": 41,
     "metadata": {},
     "output_type": "execute_result"
    }
   ],
   "source": [
    "data['Result'].nunique()"
   ]
  },
  {
   "cell_type": "code",
   "execution_count": 42,
   "metadata": {},
   "outputs": [
    {
     "data": {
      "text/plain": [
       "3-0            92\n",
       "4-0            82\n",
       "0-2            71\n",
       "3-1            70\n",
       "1-2            68\n",
       "               ..\n",
       "6-5 on pens     1\n",
       "1-2 AET         1\n",
       "4-4             1\n",
       "1-7             1\n",
       "2-1 AET         1\n",
       "Name: Result, Length: 61, dtype: int64"
      ]
     },
     "execution_count": 42,
     "metadata": {},
     "output_type": "execute_result"
    }
   ],
   "source": [
    "data['Result'].value_counts()"
   ]
  },
  {
   "attachments": {},
   "cell_type": "markdown",
   "metadata": {},
   "source": [
    "##### La columna ['At_score']"
   ]
  },
  {
   "cell_type": "code",
   "execution_count": 43,
   "metadata": {},
   "outputs": [
    {
     "data": {
      "text/plain": [
       "array(['2:00', '3:00', '1:02', '1:01', '0:01', '1:00', '2:02', '2:03',\n",
       "       '0:02', '1:04', '4:01', '3:01', '2:01', '0:03', '4:02', '5:01',\n",
       "       '4:00', '3:03', '0:04', '5:00', '0:05', '1:03', '1:05', '1:06',\n",
       "       '3:02', '2:05', '2:04', '5:02', '6:01', '0:07', '7:00', '6:00',\n",
       "       '7:01', '0:06', '8:00', '6:02', '3:05', '6:03', '3:04', '9:01',\n",
       "       '4:03', '1:0', '0:1', '1:2', '0:2', '4:1', '3:0', '2:2', '2:0'],\n",
       "      dtype=object)"
      ]
     },
     "execution_count": 43,
     "metadata": {},
     "output_type": "execute_result"
    }
   ],
   "source": [
    "data['At_score'].unique()"
   ]
  },
  {
   "cell_type": "code",
   "execution_count": 44,
   "metadata": {},
   "outputs": [],
   "source": [
    "data['At_score'] = data['At_score'].str.replace(':','-')"
   ]
  },
  {
   "cell_type": "code",
   "execution_count": 45,
   "metadata": {},
   "outputs": [],
   "source": [
    "data['At_score'] = data['At_score'].apply(remove_zero)"
   ]
  },
  {
   "cell_type": "code",
   "execution_count": 46,
   "metadata": {},
   "outputs": [
    {
     "data": {
      "text/plain": [
       "array(['2-0', '3-0', '1-2', '1-1', '0-1', '1-0', '2-2', '2-3', '0-2',\n",
       "       '1-4', '4-1', '3-1', '2-1', '0-3', '4-2', '5-1', '4-0', '3-3',\n",
       "       '0-4', '5-0', '0-5', '1-3', '1-5', '1-6', '3-2', '2-5', '2-4',\n",
       "       '5-2', '6-1', '0-7', '7-0', '6-0', '7-1', '0-6', '8-0', '6-2',\n",
       "       '3-5', '6-3', '3-4', '9-1', '4-3'], dtype=object)"
      ]
     },
     "execution_count": 46,
     "metadata": {},
     "output_type": "execute_result"
    }
   ],
   "source": [
    "data['At_score'].unique()"
   ]
  },
  {
   "cell_type": "code",
   "execution_count": 47,
   "metadata": {},
   "outputs": [
    {
     "data": {
      "text/html": [
       "<div>\n",
       "<style scoped>\n",
       "    .dataframe tbody tr th:only-of-type {\n",
       "        vertical-align: middle;\n",
       "    }\n",
       "\n",
       "    .dataframe tbody tr th {\n",
       "        vertical-align: top;\n",
       "    }\n",
       "\n",
       "    .dataframe thead th {\n",
       "        text-align: right;\n",
       "    }\n",
       "</style>\n",
       "<table border=\"1\" class=\"dataframe\">\n",
       "  <thead>\n",
       "    <tr style=\"text-align: right;\">\n",
       "      <th></th>\n",
       "      <th>Player</th>\n",
       "      <th>Season</th>\n",
       "      <th>Competition</th>\n",
       "      <th>Matchday</th>\n",
       "      <th>Date</th>\n",
       "      <th>Venue</th>\n",
       "      <th>Club</th>\n",
       "      <th>Opponent</th>\n",
       "      <th>Result</th>\n",
       "      <th>Playing_Position</th>\n",
       "      <th>Minute</th>\n",
       "      <th>At_score</th>\n",
       "      <th>Type</th>\n",
       "      <th>Goal_assist</th>\n",
       "    </tr>\n",
       "  </thead>\n",
       "  <tbody>\n",
       "    <tr>\n",
       "      <th>0</th>\n",
       "      <td>CR7</td>\n",
       "      <td>02/03</td>\n",
       "      <td>Liga de Portugal</td>\n",
       "      <td>6</td>\n",
       "      <td>07-10-2002</td>\n",
       "      <td>H</td>\n",
       "      <td>Sporting CP</td>\n",
       "      <td>Moreirense FC</td>\n",
       "      <td>3-0</td>\n",
       "      <td>LW</td>\n",
       "      <td>34</td>\n",
       "      <td>2-0</td>\n",
       "      <td>Solo run</td>\n",
       "      <td>NaN</td>\n",
       "    </tr>\n",
       "    <tr>\n",
       "      <th>1</th>\n",
       "      <td>CR7</td>\n",
       "      <td>02/03</td>\n",
       "      <td>Liga de Portugal</td>\n",
       "      <td>6</td>\n",
       "      <td>07-10-2002</td>\n",
       "      <td>H</td>\n",
       "      <td>Sporting CP</td>\n",
       "      <td>Moreirense FC</td>\n",
       "      <td>3-0</td>\n",
       "      <td>LW</td>\n",
       "      <td>90+5</td>\n",
       "      <td>3-0</td>\n",
       "      <td>Header</td>\n",
       "      <td>Rui Jorge</td>\n",
       "    </tr>\n",
       "    <tr>\n",
       "      <th>2</th>\n",
       "      <td>CR7</td>\n",
       "      <td>02/03</td>\n",
       "      <td>Liga de Portugal</td>\n",
       "      <td>8</td>\n",
       "      <td>26-10-2002</td>\n",
       "      <td>A</td>\n",
       "      <td>Sporting CP</td>\n",
       "      <td>Boavista FC</td>\n",
       "      <td>1-2</td>\n",
       "      <td>LW</td>\n",
       "      <td>88</td>\n",
       "      <td>1-2</td>\n",
       "      <td>Right-footed shot</td>\n",
       "      <td>Carlos Martins</td>\n",
       "    </tr>\n",
       "    <tr>\n",
       "      <th>3</th>\n",
       "      <td>CR7</td>\n",
       "      <td>02/03</td>\n",
       "      <td>Copa de Portugal</td>\n",
       "      <td>Fourth Round</td>\n",
       "      <td>24-11-2002</td>\n",
       "      <td>H</td>\n",
       "      <td>Sporting CP</td>\n",
       "      <td>CD Estarreja</td>\n",
       "      <td>4-1</td>\n",
       "      <td>LW</td>\n",
       "      <td>67</td>\n",
       "      <td>3-0</td>\n",
       "      <td>Left-footed shot</td>\n",
       "      <td>Cesar Prates</td>\n",
       "    </tr>\n",
       "    <tr>\n",
       "      <th>4</th>\n",
       "      <td>CR7</td>\n",
       "      <td>02/03</td>\n",
       "      <td>Copa de Portugal</td>\n",
       "      <td>Fifth Round</td>\n",
       "      <td>18-12-2002</td>\n",
       "      <td>H</td>\n",
       "      <td>Sporting CP</td>\n",
       "      <td>FC Oliveira do Hospital</td>\n",
       "      <td>8-1</td>\n",
       "      <td>LW</td>\n",
       "      <td>13</td>\n",
       "      <td>3-0</td>\n",
       "      <td>NaN</td>\n",
       "      <td>NaN</td>\n",
       "    </tr>\n",
       "  </tbody>\n",
       "</table>\n",
       "</div>"
      ],
      "text/plain": [
       "  Player Season       Competition      Matchday        Date Venue  \\\n",
       "0    CR7  02/03  Liga de Portugal             6  07-10-2002     H   \n",
       "1    CR7  02/03  Liga de Portugal             6  07-10-2002     H   \n",
       "2    CR7  02/03  Liga de Portugal             8  26-10-2002     A   \n",
       "3    CR7  02/03  Copa de Portugal  Fourth Round  24-11-2002     H   \n",
       "4    CR7  02/03  Copa de Portugal   Fifth Round  18-12-2002     H   \n",
       "\n",
       "          Club                 Opponent Result Playing_Position Minute  \\\n",
       "0  Sporting CP            Moreirense FC    3-0               LW     34   \n",
       "1  Sporting CP            Moreirense FC    3-0               LW   90+5   \n",
       "2  Sporting CP              Boavista FC    1-2               LW     88   \n",
       "3  Sporting CP             CD Estarreja    4-1               LW     67   \n",
       "4  Sporting CP  FC Oliveira do Hospital    8-1               LW     13   \n",
       "\n",
       "  At_score               Type     Goal_assist  \n",
       "0      2-0           Solo run             NaN  \n",
       "1      3-0             Header       Rui Jorge  \n",
       "2      1-2  Right-footed shot  Carlos Martins  \n",
       "3      3-0   Left-footed shot    Cesar Prates  \n",
       "4      3-0                NaN             NaN  "
      ]
     },
     "execution_count": 47,
     "metadata": {},
     "output_type": "execute_result"
    }
   ],
   "source": [
    "data.head()"
   ]
  },
  {
   "attachments": {},
   "cell_type": "markdown",
   "metadata": {},
   "source": [
    "##### La columna ['Type']"
   ]
  },
  {
   "cell_type": "code",
   "execution_count": 48,
   "metadata": {},
   "outputs": [
    {
     "data": {
      "text/html": [
       "<div>\n",
       "<style scoped>\n",
       "    .dataframe tbody tr th:only-of-type {\n",
       "        vertical-align: middle;\n",
       "    }\n",
       "\n",
       "    .dataframe tbody tr th {\n",
       "        vertical-align: top;\n",
       "    }\n",
       "\n",
       "    .dataframe thead th {\n",
       "        text-align: right;\n",
       "    }\n",
       "</style>\n",
       "<table border=\"1\" class=\"dataframe\">\n",
       "  <thead>\n",
       "    <tr style=\"text-align: right;\">\n",
       "      <th></th>\n",
       "      <th>Player</th>\n",
       "      <th>Season</th>\n",
       "      <th>Competition</th>\n",
       "      <th>Matchday</th>\n",
       "      <th>Date</th>\n",
       "      <th>Venue</th>\n",
       "      <th>Club</th>\n",
       "      <th>Opponent</th>\n",
       "      <th>Result</th>\n",
       "      <th>Playing_Position</th>\n",
       "      <th>Minute</th>\n",
       "      <th>At_score</th>\n",
       "      <th>Type</th>\n",
       "      <th>Goal_assist</th>\n",
       "    </tr>\n",
       "  </thead>\n",
       "  <tbody>\n",
       "    <tr>\n",
       "      <th>4</th>\n",
       "      <td>CR7</td>\n",
       "      <td>02/03</td>\n",
       "      <td>Copa de Portugal</td>\n",
       "      <td>Fifth Round</td>\n",
       "      <td>18-12-2002</td>\n",
       "      <td>H</td>\n",
       "      <td>Sporting CP</td>\n",
       "      <td>FC Oliveira do Hospital</td>\n",
       "      <td>8-1</td>\n",
       "      <td>LW</td>\n",
       "      <td>13</td>\n",
       "      <td>3-0</td>\n",
       "      <td>NaN</td>\n",
       "      <td>NaN</td>\n",
       "    </tr>\n",
       "    <tr>\n",
       "      <th>12</th>\n",
       "      <td>CR7</td>\n",
       "      <td>04/05</td>\n",
       "      <td>FA Cup</td>\n",
       "      <td>Third Round</td>\n",
       "      <td>19-01-2005</td>\n",
       "      <td>A</td>\n",
       "      <td>Manchester United</td>\n",
       "      <td>Exeter City</td>\n",
       "      <td>0-2</td>\n",
       "      <td>LW</td>\n",
       "      <td>9</td>\n",
       "      <td>0-1</td>\n",
       "      <td>NaN</td>\n",
       "      <td>Paul Scholes</td>\n",
       "    </tr>\n",
       "    <tr>\n",
       "      <th>37</th>\n",
       "      <td>CR7</td>\n",
       "      <td>05/06</td>\n",
       "      <td>EFL Cup</td>\n",
       "      <td>Final</td>\n",
       "      <td>26-02-2006</td>\n",
       "      <td>H</td>\n",
       "      <td>Manchester United</td>\n",
       "      <td>Wigan Athletic</td>\n",
       "      <td>4-0</td>\n",
       "      <td>RW</td>\n",
       "      <td>59</td>\n",
       "      <td>3-0</td>\n",
       "      <td>NaN</td>\n",
       "      <td>Louis Saha</td>\n",
       "    </tr>\n",
       "    <tr>\n",
       "      <th>40</th>\n",
       "      <td>CR7</td>\n",
       "      <td>06/07</td>\n",
       "      <td>Premier League</td>\n",
       "      <td>1</td>\n",
       "      <td>20-08-2006</td>\n",
       "      <td>H</td>\n",
       "      <td>Manchester United</td>\n",
       "      <td>Fulham FC</td>\n",
       "      <td>5-1</td>\n",
       "      <td>LW</td>\n",
       "      <td>19</td>\n",
       "      <td>4-0</td>\n",
       "      <td>NaN</td>\n",
       "      <td>Wayne Rooney</td>\n",
       "    </tr>\n",
       "    <tr>\n",
       "      <th>43</th>\n",
       "      <td>CR7</td>\n",
       "      <td>06/07</td>\n",
       "      <td>Premier League</td>\n",
       "      <td>6</td>\n",
       "      <td>23-09-2006</td>\n",
       "      <td>A</td>\n",
       "      <td>Manchester United</td>\n",
       "      <td>Reading FC</td>\n",
       "      <td>1-1</td>\n",
       "      <td>CF</td>\n",
       "      <td>73</td>\n",
       "      <td>1-1</td>\n",
       "      <td>NaN</td>\n",
       "      <td>John OShea</td>\n",
       "    </tr>\n",
       "    <tr>\n",
       "      <th>46</th>\n",
       "      <td>CR7</td>\n",
       "      <td>06/07</td>\n",
       "      <td>Premier League</td>\n",
       "      <td>10</td>\n",
       "      <td>28-10-2006</td>\n",
       "      <td>A</td>\n",
       "      <td>Manchester United</td>\n",
       "      <td>Bolton Wanderers</td>\n",
       "      <td>0-4</td>\n",
       "      <td>LW</td>\n",
       "      <td>82</td>\n",
       "      <td>0-3</td>\n",
       "      <td>NaN</td>\n",
       "      <td>Louis Saha</td>\n",
       "    </tr>\n",
       "    <tr>\n",
       "      <th>48</th>\n",
       "      <td>CR7</td>\n",
       "      <td>06/07</td>\n",
       "      <td>Premier League</td>\n",
       "      <td>15</td>\n",
       "      <td>29-11-2006</td>\n",
       "      <td>H</td>\n",
       "      <td>Manchester United</td>\n",
       "      <td>Everton FC</td>\n",
       "      <td>3-0</td>\n",
       "      <td>LW</td>\n",
       "      <td>39</td>\n",
       "      <td>1-0</td>\n",
       "      <td>NaN</td>\n",
       "      <td>NaN</td>\n",
       "    </tr>\n",
       "    <tr>\n",
       "      <th>49</th>\n",
       "      <td>CR7</td>\n",
       "      <td>06/07</td>\n",
       "      <td>Premier League</td>\n",
       "      <td>17</td>\n",
       "      <td>09-12-2006</td>\n",
       "      <td>H</td>\n",
       "      <td>Manchester United</td>\n",
       "      <td>Manchester City</td>\n",
       "      <td>3-1</td>\n",
       "      <td>LW</td>\n",
       "      <td>84</td>\n",
       "      <td>3-1</td>\n",
       "      <td>NaN</td>\n",
       "      <td>NaN</td>\n",
       "    </tr>\n",
       "    <tr>\n",
       "      <th>50</th>\n",
       "      <td>CR7</td>\n",
       "      <td>06/07</td>\n",
       "      <td>Premier League</td>\n",
       "      <td>19</td>\n",
       "      <td>23-12-2006</td>\n",
       "      <td>A</td>\n",
       "      <td>Manchester United</td>\n",
       "      <td>Aston Villa</td>\n",
       "      <td>0-3</td>\n",
       "      <td>LW</td>\n",
       "      <td>85</td>\n",
       "      <td>0-3</td>\n",
       "      <td>NaN</td>\n",
       "      <td>Gary Neville</td>\n",
       "    </tr>\n",
       "    <tr>\n",
       "      <th>51</th>\n",
       "      <td>CR7</td>\n",
       "      <td>06/07</td>\n",
       "      <td>Premier League</td>\n",
       "      <td>19</td>\n",
       "      <td>23-12-2006</td>\n",
       "      <td>A</td>\n",
       "      <td>Manchester United</td>\n",
       "      <td>Aston Villa</td>\n",
       "      <td>0-3</td>\n",
       "      <td>LW</td>\n",
       "      <td>58</td>\n",
       "      <td>0-1</td>\n",
       "      <td>NaN</td>\n",
       "      <td>NaN</td>\n",
       "    </tr>\n",
       "    <tr>\n",
       "      <th>53</th>\n",
       "      <td>CR7</td>\n",
       "      <td>06/07</td>\n",
       "      <td>Premier League</td>\n",
       "      <td>20</td>\n",
       "      <td>26-12-2006</td>\n",
       "      <td>H</td>\n",
       "      <td>Manchester United</td>\n",
       "      <td>Wigan Athletic</td>\n",
       "      <td>3-1</td>\n",
       "      <td>LW</td>\n",
       "      <td>47</td>\n",
       "      <td>1-0</td>\n",
       "      <td>NaN</td>\n",
       "      <td>Paul Scholes</td>\n",
       "    </tr>\n",
       "    <tr>\n",
       "      <th>54</th>\n",
       "      <td>CR7</td>\n",
       "      <td>06/07</td>\n",
       "      <td>Premier League</td>\n",
       "      <td>21</td>\n",
       "      <td>30-12-2006</td>\n",
       "      <td>H</td>\n",
       "      <td>Manchester United</td>\n",
       "      <td>Reading FC</td>\n",
       "      <td>3-2</td>\n",
       "      <td>RW</td>\n",
       "      <td>58</td>\n",
       "      <td>2-1</td>\n",
       "      <td>NaN</td>\n",
       "      <td>Ole Gunnar Solskjaer</td>\n",
       "    </tr>\n",
       "    <tr>\n",
       "      <th>55</th>\n",
       "      <td>CR7</td>\n",
       "      <td>06/07</td>\n",
       "      <td>Premier League</td>\n",
       "      <td>21</td>\n",
       "      <td>30-12-2006</td>\n",
       "      <td>H</td>\n",
       "      <td>Manchester United</td>\n",
       "      <td>Reading FC</td>\n",
       "      <td>3-2</td>\n",
       "      <td>RW</td>\n",
       "      <td>77</td>\n",
       "      <td>3-1</td>\n",
       "      <td>NaN</td>\n",
       "      <td>Ryan Giggs</td>\n",
       "    </tr>\n",
       "    <tr>\n",
       "      <th>76</th>\n",
       "      <td>Messi</td>\n",
       "      <td>06/07</td>\n",
       "      <td>LaLiga</td>\n",
       "      <td>37</td>\n",
       "      <td>09-06-2007</td>\n",
       "      <td>H</td>\n",
       "      <td>FC Barcelona</td>\n",
       "      <td>RCD Espanyol Barcelona</td>\n",
       "      <td>2-2</td>\n",
       "      <td>RW</td>\n",
       "      <td>43</td>\n",
       "      <td>1-1</td>\n",
       "      <td>NaN</td>\n",
       "      <td>Gianluca Zambrotta</td>\n",
       "    </tr>\n",
       "    <tr>\n",
       "      <th>86</th>\n",
       "      <td>CR7</td>\n",
       "      <td>07/08</td>\n",
       "      <td>Premier League</td>\n",
       "      <td>8</td>\n",
       "      <td>29-09-2007</td>\n",
       "      <td>A</td>\n",
       "      <td>Manchester United</td>\n",
       "      <td>Birmingham City</td>\n",
       "      <td>0-1</td>\n",
       "      <td>RW</td>\n",
       "      <td>51</td>\n",
       "      <td>0-1</td>\n",
       "      <td>NaN</td>\n",
       "      <td>NaN</td>\n",
       "    </tr>\n",
       "    <tr>\n",
       "      <th>95</th>\n",
       "      <td>CR7</td>\n",
       "      <td>07/08</td>\n",
       "      <td>Premier League</td>\n",
       "      <td>12</td>\n",
       "      <td>03-11-2007</td>\n",
       "      <td>A</td>\n",
       "      <td>Manchester United</td>\n",
       "      <td>Arsenal FC</td>\n",
       "      <td>2-2</td>\n",
       "      <td>RW</td>\n",
       "      <td>82</td>\n",
       "      <td>1-2</td>\n",
       "      <td>NaN</td>\n",
       "      <td>Patrice Evra</td>\n",
       "    </tr>\n",
       "  </tbody>\n",
       "</table>\n",
       "</div>"
      ],
      "text/plain": [
       "   Player Season       Competition     Matchday        Date Venue  \\\n",
       "4     CR7  02/03  Copa de Portugal  Fifth Round  18-12-2002     H   \n",
       "12    CR7  04/05            FA Cup  Third Round  19-01-2005     A   \n",
       "37    CR7  05/06           EFL Cup        Final  26-02-2006     H   \n",
       "40    CR7  06/07    Premier League            1  20-08-2006     H   \n",
       "43    CR7  06/07    Premier League            6  23-09-2006     A   \n",
       "46    CR7  06/07    Premier League           10  28-10-2006     A   \n",
       "48    CR7  06/07    Premier League           15  29-11-2006     H   \n",
       "49    CR7  06/07    Premier League           17  09-12-2006     H   \n",
       "50    CR7  06/07    Premier League           19  23-12-2006     A   \n",
       "51    CR7  06/07    Premier League           19  23-12-2006     A   \n",
       "53    CR7  06/07    Premier League           20  26-12-2006     H   \n",
       "54    CR7  06/07    Premier League           21  30-12-2006     H   \n",
       "55    CR7  06/07    Premier League           21  30-12-2006     H   \n",
       "76  Messi  06/07            LaLiga           37  09-06-2007     H   \n",
       "86    CR7  07/08    Premier League            8  29-09-2007     A   \n",
       "95    CR7  07/08    Premier League           12  03-11-2007     A   \n",
       "\n",
       "                 Club                 Opponent Result Playing_Position Minute  \\\n",
       "4         Sporting CP  FC Oliveira do Hospital    8-1               LW     13   \n",
       "12  Manchester United              Exeter City    0-2               LW      9   \n",
       "37  Manchester United           Wigan Athletic    4-0               RW     59   \n",
       "40  Manchester United                Fulham FC    5-1               LW     19   \n",
       "43  Manchester United               Reading FC    1-1               CF     73   \n",
       "46  Manchester United         Bolton Wanderers    0-4               LW     82   \n",
       "48  Manchester United               Everton FC    3-0               LW     39   \n",
       "49  Manchester United          Manchester City    3-1               LW     84   \n",
       "50  Manchester United              Aston Villa    0-3               LW     85   \n",
       "51  Manchester United              Aston Villa    0-3               LW     58   \n",
       "53  Manchester United           Wigan Athletic    3-1               LW     47   \n",
       "54  Manchester United               Reading FC    3-2               RW     58   \n",
       "55  Manchester United               Reading FC    3-2               RW     77   \n",
       "76       FC Barcelona   RCD Espanyol Barcelona    2-2               RW     43   \n",
       "86  Manchester United          Birmingham City    0-1               RW     51   \n",
       "95  Manchester United               Arsenal FC    2-2               RW     82   \n",
       "\n",
       "   At_score Type           Goal_assist  \n",
       "4       3-0  NaN                   NaN  \n",
       "12      0-1  NaN          Paul Scholes  \n",
       "37      3-0  NaN            Louis Saha  \n",
       "40      4-0  NaN          Wayne Rooney  \n",
       "43      1-1  NaN            John OShea  \n",
       "46      0-3  NaN            Louis Saha  \n",
       "48      1-0  NaN                   NaN  \n",
       "49      3-1  NaN                   NaN  \n",
       "50      0-3  NaN          Gary Neville  \n",
       "51      0-1  NaN                   NaN  \n",
       "53      1-0  NaN          Paul Scholes  \n",
       "54      2-1  NaN  Ole Gunnar Solskjaer  \n",
       "55      3-1  NaN            Ryan Giggs  \n",
       "76      1-1  NaN    Gianluca Zambrotta  \n",
       "86      0-1  NaN                   NaN  \n",
       "95      1-2  NaN          Patrice Evra  "
      ]
     },
     "execution_count": 48,
     "metadata": {},
     "output_type": "execute_result"
    }
   ],
   "source": [
    "# Llama la atención de los registros NaN en la columna 'Type' porque de alguna\n",
    "# forma debió haber llegado el gol pero podemos notar varias cosas:\n",
    "\n",
    "\n",
    "data.loc[data['Type'].isna()]"
   ]
  },
  {
   "cell_type": "code",
   "execution_count": 49,
   "metadata": {},
   "outputs": [],
   "source": [
    "# La gran mayoría de los goles convertidos por estos jugadores son en base \n",
    "# a sus piernas dominantes por lo que procedemos a completar los registros\n",
    "# NaN para cada uno de los casos y así evitamos la aparición de datos atípicos \n",
    "# a la hora de realizar nuestros informes y gráficos\n",
    "\n",
    "data['Type'] = data.apply(lambda x: 'Right-footed shot' if x['Player'] == 'CR7' and pd.isna(x['Type']) else\n",
    "'Left-footed shot' if x['Player'] == 'Messi' and pd.isna(x['Type']) else x['Type'], axis=1)\n"
   ]
  },
  {
   "cell_type": "code",
   "execution_count": 50,
   "metadata": {},
   "outputs": [
    {
     "data": {
      "text/plain": [
       "0"
      ]
     },
     "execution_count": 50,
     "metadata": {},
     "output_type": "execute_result"
    }
   ],
   "source": [
    "data['Type'].isna().sum()"
   ]
  },
  {
   "cell_type": "code",
   "execution_count": 51,
   "metadata": {},
   "outputs": [
    {
     "data": {
      "text/plain": [
       "array(['Solo run', 'Header', 'Right-footed shot', 'Left-footed shot',\n",
       "       'Direct free kick', 'Tap-in', 'Penalty', 'Penalty rebound',\n",
       "       'Deflected shot on goal', 'Counter attack goal',\n",
       "       'Long distance kick', 'Chest'], dtype=object)"
      ]
     },
     "execution_count": 51,
     "metadata": {},
     "output_type": "execute_result"
    }
   ],
   "source": [
    "data['Type'].unique()"
   ]
  },
  {
   "cell_type": "code",
   "execution_count": 52,
   "metadata": {},
   "outputs": [
    {
     "data": {
      "text/plain": [
       "Left-footed shot          545\n",
       "Right-footed shot         349\n",
       "Penalty                   213\n",
       "Header                    136\n",
       "Direct free kick           99\n",
       "Tap-in                     23\n",
       "Long distance kick         10\n",
       "Solo run                    6\n",
       "Penalty rebound             6\n",
       "Counter attack goal         6\n",
       "Deflected shot on goal      4\n",
       "Chest                       1\n",
       "Name: Type, dtype: int64"
      ]
     },
     "execution_count": 52,
     "metadata": {},
     "output_type": "execute_result"
    }
   ],
   "source": [
    "data['Type'].value_counts()"
   ]
  },
  {
   "attachments": {},
   "cell_type": "markdown",
   "metadata": {},
   "source": [
    "## Creamos la Columna 'Overtime' "
   ]
  },
  {
   "cell_type": "code",
   "execution_count": 53,
   "metadata": {},
   "outputs": [],
   "source": [
    "# Dada la presencia de información extra en la columna 'Result' procedemos\n",
    "# a crear una nueva columna llamada 'Overtime' la misma albergará los \n",
    "# registros de los partidos que fueron resueltos en tiempos suplementarios\n",
    "\n",
    "data['Overtime'] = 0\n",
    "data['Overtime'] = data.apply(lambda x: 1 if len(x['Result']) > 4 else x['Overtime'], axis=1)\n",
    "data['Result'] = data['Result'].str[:4]\n"
   ]
  },
  {
   "cell_type": "code",
   "execution_count": 54,
   "metadata": {},
   "outputs": [
    {
     "data": {
      "text/plain": [
       "0    1383\n",
       "1      15\n",
       "Name: Overtime, dtype: int64"
      ]
     },
     "execution_count": 54,
     "metadata": {},
     "output_type": "execute_result"
    }
   ],
   "source": [
    "# 'Overtime' almacena 0 para las columnas sin registro de tiempos extras y\n",
    "# 1 para las que sí necesitaron tiempos extras \n",
    "\n",
    "data['Overtime'].value_counts()"
   ]
  },
  {
   "cell_type": "code",
   "execution_count": 55,
   "metadata": {},
   "outputs": [
    {
     "data": {
      "text/html": [
       "<div>\n",
       "<style scoped>\n",
       "    .dataframe tbody tr th:only-of-type {\n",
       "        vertical-align: middle;\n",
       "    }\n",
       "\n",
       "    .dataframe tbody tr th {\n",
       "        vertical-align: top;\n",
       "    }\n",
       "\n",
       "    .dataframe thead th {\n",
       "        text-align: right;\n",
       "    }\n",
       "</style>\n",
       "<table border=\"1\" class=\"dataframe\">\n",
       "  <thead>\n",
       "    <tr style=\"text-align: right;\">\n",
       "      <th></th>\n",
       "      <th>Player</th>\n",
       "      <th>Season</th>\n",
       "      <th>Competition</th>\n",
       "      <th>Matchday</th>\n",
       "      <th>Date</th>\n",
       "      <th>Venue</th>\n",
       "      <th>Club</th>\n",
       "      <th>Opponent</th>\n",
       "      <th>Result</th>\n",
       "      <th>Playing_Position</th>\n",
       "      <th>Minute</th>\n",
       "      <th>At_score</th>\n",
       "      <th>Type</th>\n",
       "      <th>Goal_assist</th>\n",
       "      <th>Overtime</th>\n",
       "    </tr>\n",
       "  </thead>\n",
       "  <tbody>\n",
       "    <tr>\n",
       "      <th>137</th>\n",
       "      <td>CR7</td>\n",
       "      <td>07/08</td>\n",
       "      <td>UEFA Champions League</td>\n",
       "      <td>Final</td>\n",
       "      <td>21-05-2008</td>\n",
       "      <td>H</td>\n",
       "      <td>Manchester United</td>\n",
       "      <td>Chelsea FC</td>\n",
       "      <td>6-5</td>\n",
       "      <td>LW</td>\n",
       "      <td>26</td>\n",
       "      <td>1-0</td>\n",
       "      <td>Header</td>\n",
       "      <td>Wes Brown</td>\n",
       "      <td>1</td>\n",
       "    </tr>\n",
       "    <tr>\n",
       "      <th>229</th>\n",
       "      <td>Messi</td>\n",
       "      <td>09/10</td>\n",
       "      <td>FIFA Club World Cup</td>\n",
       "      <td>Final</td>\n",
       "      <td>19-12-2009</td>\n",
       "      <td>A</td>\n",
       "      <td>FC Barcelona</td>\n",
       "      <td>Club Estudiantes de La Plata</td>\n",
       "      <td>1-2</td>\n",
       "      <td>RW</td>\n",
       "      <td>110</td>\n",
       "      <td>1-2</td>\n",
       "      <td>Chest</td>\n",
       "      <td>Dani Alves</td>\n",
       "      <td>1</td>\n",
       "    </tr>\n",
       "    <tr>\n",
       "      <th>372</th>\n",
       "      <td>CR7</td>\n",
       "      <td>10/11</td>\n",
       "      <td>Copa del Rey</td>\n",
       "      <td>Final</td>\n",
       "      <td>20-04-2011</td>\n",
       "      <td>A</td>\n",
       "      <td>Real Madrid</td>\n",
       "      <td>FC Barcelona</td>\n",
       "      <td>0-1</td>\n",
       "      <td>CF</td>\n",
       "      <td>103</td>\n",
       "      <td>0-1</td>\n",
       "      <td>Header</td>\n",
       "      <td>Angel Di Maria</td>\n",
       "      <td>1</td>\n",
       "    </tr>\n",
       "    <tr>\n",
       "      <th>505</th>\n",
       "      <td>CR7</td>\n",
       "      <td>11/12</td>\n",
       "      <td>UEFA Champions League</td>\n",
       "      <td>Semi-Finals</td>\n",
       "      <td>25-04-2012</td>\n",
       "      <td>H</td>\n",
       "      <td>Real Madrid</td>\n",
       "      <td>Bayern Munich</td>\n",
       "      <td>3-4</td>\n",
       "      <td>LW</td>\n",
       "      <td>6</td>\n",
       "      <td>1-0</td>\n",
       "      <td>Penalty</td>\n",
       "      <td>NaN</td>\n",
       "      <td>1</td>\n",
       "    </tr>\n",
       "    <tr>\n",
       "      <th>506</th>\n",
       "      <td>CR7</td>\n",
       "      <td>11/12</td>\n",
       "      <td>UEFA Champions League</td>\n",
       "      <td>Semi-Finals</td>\n",
       "      <td>25-04-2012</td>\n",
       "      <td>H</td>\n",
       "      <td>Real Madrid</td>\n",
       "      <td>Bayern Munich</td>\n",
       "      <td>3-4</td>\n",
       "      <td>LW</td>\n",
       "      <td>14</td>\n",
       "      <td>2-0</td>\n",
       "      <td>Right-footed shot</td>\n",
       "      <td>Mesut Ozil</td>\n",
       "      <td>1</td>\n",
       "    </tr>\n",
       "    <tr>\n",
       "      <th>635</th>\n",
       "      <td>CR7</td>\n",
       "      <td>12/13</td>\n",
       "      <td>Copa del Rey</td>\n",
       "      <td>Final</td>\n",
       "      <td>17-05-2013</td>\n",
       "      <td>A</td>\n",
       "      <td>Real Madrid</td>\n",
       "      <td>Atletico de Madrid</td>\n",
       "      <td>2-1</td>\n",
       "      <td>LW</td>\n",
       "      <td>14</td>\n",
       "      <td>0-1</td>\n",
       "      <td>Header</td>\n",
       "      <td>Luka Modric</td>\n",
       "      <td>1</td>\n",
       "    </tr>\n",
       "    <tr>\n",
       "      <th>727</th>\n",
       "      <td>CR7</td>\n",
       "      <td>13/14</td>\n",
       "      <td>UEFA Champions League</td>\n",
       "      <td>Final</td>\n",
       "      <td>24-05-2014</td>\n",
       "      <td>H</td>\n",
       "      <td>Real Madrid</td>\n",
       "      <td>Atletico de Madrid</td>\n",
       "      <td>4-1</td>\n",
       "      <td>LW</td>\n",
       "      <td>120</td>\n",
       "      <td>4-1</td>\n",
       "      <td>Penalty</td>\n",
       "      <td>NaN</td>\n",
       "      <td>1</td>\n",
       "    </tr>\n",
       "    <tr>\n",
       "      <th>847</th>\n",
       "      <td>Messi</td>\n",
       "      <td>15/16</td>\n",
       "      <td>UEFA Super Cup</td>\n",
       "      <td>Final</td>\n",
       "      <td>11-08-2015</td>\n",
       "      <td>H</td>\n",
       "      <td>FC Barcelona</td>\n",
       "      <td>Sevilla FC</td>\n",
       "      <td>5-4</td>\n",
       "      <td>RW</td>\n",
       "      <td>7</td>\n",
       "      <td>1-1</td>\n",
       "      <td>Direct free kick</td>\n",
       "      <td>NaN</td>\n",
       "      <td>1</td>\n",
       "    </tr>\n",
       "    <tr>\n",
       "      <th>848</th>\n",
       "      <td>Messi</td>\n",
       "      <td>15/16</td>\n",
       "      <td>UEFA Super Cup</td>\n",
       "      <td>Final</td>\n",
       "      <td>11-08-2015</td>\n",
       "      <td>H</td>\n",
       "      <td>FC Barcelona</td>\n",
       "      <td>Sevilla FC</td>\n",
       "      <td>5-4</td>\n",
       "      <td>RW</td>\n",
       "      <td>16</td>\n",
       "      <td>2-1</td>\n",
       "      <td>Direct free kick</td>\n",
       "      <td>NaN</td>\n",
       "      <td>1</td>\n",
       "    </tr>\n",
       "    <tr>\n",
       "      <th>975</th>\n",
       "      <td>CR7</td>\n",
       "      <td>16/17</td>\n",
       "      <td>FIFA Club World Cup</td>\n",
       "      <td>Final</td>\n",
       "      <td>18-12-2016</td>\n",
       "      <td>H</td>\n",
       "      <td>Real Madrid</td>\n",
       "      <td>Kashima Antlers</td>\n",
       "      <td>4-2</td>\n",
       "      <td>LW</td>\n",
       "      <td>97</td>\n",
       "      <td>3-2</td>\n",
       "      <td>Left-footed shot</td>\n",
       "      <td>Karim Benzema</td>\n",
       "      <td>1</td>\n",
       "    </tr>\n",
       "    <tr>\n",
       "      <th>976</th>\n",
       "      <td>CR7</td>\n",
       "      <td>16/17</td>\n",
       "      <td>FIFA Club World Cup</td>\n",
       "      <td>Final</td>\n",
       "      <td>18-12-2016</td>\n",
       "      <td>H</td>\n",
       "      <td>Real Madrid</td>\n",
       "      <td>Kashima Antlers</td>\n",
       "      <td>4-2</td>\n",
       "      <td>LW</td>\n",
       "      <td>104</td>\n",
       "      <td>4-2</td>\n",
       "      <td>Left-footed shot</td>\n",
       "      <td>Toni Kroos</td>\n",
       "      <td>1</td>\n",
       "    </tr>\n",
       "    <tr>\n",
       "      <th>977</th>\n",
       "      <td>CR7</td>\n",
       "      <td>16/17</td>\n",
       "      <td>FIFA Club World Cup</td>\n",
       "      <td>Final</td>\n",
       "      <td>18-12-2016</td>\n",
       "      <td>H</td>\n",
       "      <td>Real Madrid</td>\n",
       "      <td>Kashima Antlers</td>\n",
       "      <td>4-2</td>\n",
       "      <td>LW</td>\n",
       "      <td>60</td>\n",
       "      <td>2-2</td>\n",
       "      <td>Penalty</td>\n",
       "      <td>NaN</td>\n",
       "      <td>1</td>\n",
       "    </tr>\n",
       "    <tr>\n",
       "      <th>1012</th>\n",
       "      <td>CR7</td>\n",
       "      <td>16/17</td>\n",
       "      <td>UEFA Champions League</td>\n",
       "      <td>Quarter-Finals</td>\n",
       "      <td>18-04-2017</td>\n",
       "      <td>H</td>\n",
       "      <td>Real Madrid</td>\n",
       "      <td>Bayern Munich</td>\n",
       "      <td>4-2</td>\n",
       "      <td>CF</td>\n",
       "      <td>76</td>\n",
       "      <td>1-1</td>\n",
       "      <td>Header</td>\n",
       "      <td>Casemiro</td>\n",
       "      <td>1</td>\n",
       "    </tr>\n",
       "    <tr>\n",
       "      <th>1013</th>\n",
       "      <td>CR7</td>\n",
       "      <td>16/17</td>\n",
       "      <td>UEFA Champions League</td>\n",
       "      <td>Quarter-Finals</td>\n",
       "      <td>18-04-2017</td>\n",
       "      <td>H</td>\n",
       "      <td>Real Madrid</td>\n",
       "      <td>Bayern Munich</td>\n",
       "      <td>4-2</td>\n",
       "      <td>CF</td>\n",
       "      <td>105</td>\n",
       "      <td>2-2</td>\n",
       "      <td>Left-footed shot</td>\n",
       "      <td>Sergio Ramos</td>\n",
       "      <td>1</td>\n",
       "    </tr>\n",
       "    <tr>\n",
       "      <th>1014</th>\n",
       "      <td>CR7</td>\n",
       "      <td>16/17</td>\n",
       "      <td>UEFA Champions League</td>\n",
       "      <td>Quarter-Finals</td>\n",
       "      <td>18-04-2017</td>\n",
       "      <td>H</td>\n",
       "      <td>Real Madrid</td>\n",
       "      <td>Bayern Munich</td>\n",
       "      <td>4-2</td>\n",
       "      <td>CF</td>\n",
       "      <td>109</td>\n",
       "      <td>3-2</td>\n",
       "      <td>Right-footed shot</td>\n",
       "      <td>Marcelo</td>\n",
       "      <td>1</td>\n",
       "    </tr>\n",
       "  </tbody>\n",
       "</table>\n",
       "</div>"
      ],
      "text/plain": [
       "     Player Season            Competition        Matchday        Date Venue  \\\n",
       "137     CR7  07/08  UEFA Champions League           Final  21-05-2008     H   \n",
       "229   Messi  09/10    FIFA Club World Cup           Final  19-12-2009     A   \n",
       "372     CR7  10/11           Copa del Rey           Final  20-04-2011     A   \n",
       "505     CR7  11/12  UEFA Champions League     Semi-Finals  25-04-2012     H   \n",
       "506     CR7  11/12  UEFA Champions League     Semi-Finals  25-04-2012     H   \n",
       "635     CR7  12/13           Copa del Rey           Final  17-05-2013     A   \n",
       "727     CR7  13/14  UEFA Champions League           Final  24-05-2014     H   \n",
       "847   Messi  15/16         UEFA Super Cup           Final  11-08-2015     H   \n",
       "848   Messi  15/16         UEFA Super Cup           Final  11-08-2015     H   \n",
       "975     CR7  16/17    FIFA Club World Cup           Final  18-12-2016     H   \n",
       "976     CR7  16/17    FIFA Club World Cup           Final  18-12-2016     H   \n",
       "977     CR7  16/17    FIFA Club World Cup           Final  18-12-2016     H   \n",
       "1012    CR7  16/17  UEFA Champions League  Quarter-Finals  18-04-2017     H   \n",
       "1013    CR7  16/17  UEFA Champions League  Quarter-Finals  18-04-2017     H   \n",
       "1014    CR7  16/17  UEFA Champions League  Quarter-Finals  18-04-2017     H   \n",
       "\n",
       "                   Club                      Opponent Result Playing_Position  \\\n",
       "137   Manchester United                    Chelsea FC   6-5                LW   \n",
       "229        FC Barcelona  Club Estudiantes de La Plata   1-2                RW   \n",
       "372         Real Madrid                  FC Barcelona   0-1                CF   \n",
       "505         Real Madrid                 Bayern Munich   3-4                LW   \n",
       "506         Real Madrid                 Bayern Munich   3-4                LW   \n",
       "635         Real Madrid            Atletico de Madrid   2-1                LW   \n",
       "727         Real Madrid            Atletico de Madrid   4-1                LW   \n",
       "847        FC Barcelona                    Sevilla FC   5-4                RW   \n",
       "848        FC Barcelona                    Sevilla FC   5-4                RW   \n",
       "975         Real Madrid               Kashima Antlers   4-2                LW   \n",
       "976         Real Madrid               Kashima Antlers   4-2                LW   \n",
       "977         Real Madrid               Kashima Antlers   4-2                LW   \n",
       "1012        Real Madrid                 Bayern Munich   4-2                CF   \n",
       "1013        Real Madrid                 Bayern Munich   4-2                CF   \n",
       "1014        Real Madrid                 Bayern Munich   4-2                CF   \n",
       "\n",
       "     Minute At_score               Type     Goal_assist  Overtime  \n",
       "137      26      1-0             Header       Wes Brown         1  \n",
       "229     110      1-2              Chest      Dani Alves         1  \n",
       "372     103      0-1             Header  Angel Di Maria         1  \n",
       "505       6      1-0            Penalty             NaN         1  \n",
       "506      14      2-0  Right-footed shot      Mesut Ozil         1  \n",
       "635      14      0-1             Header     Luka Modric         1  \n",
       "727     120      4-1            Penalty             NaN         1  \n",
       "847       7      1-1   Direct free kick             NaN         1  \n",
       "848      16      2-1   Direct free kick             NaN         1  \n",
       "975      97      3-2   Left-footed shot   Karim Benzema         1  \n",
       "976     104      4-2   Left-footed shot      Toni Kroos         1  \n",
       "977      60      2-2            Penalty             NaN         1  \n",
       "1012     76      1-1             Header        Casemiro         1  \n",
       "1013    105      2-2   Left-footed shot    Sergio Ramos         1  \n",
       "1014    109      3-2  Right-footed shot         Marcelo         1  "
      ]
     },
     "execution_count": 55,
     "metadata": {},
     "output_type": "execute_result"
    }
   ],
   "source": [
    "data.loc[data['Overtime'] == 1]"
   ]
  },
  {
   "attachments": {},
   "cell_type": "markdown",
   "metadata": {},
   "source": [
    "## Crearemos la columna 'FTR' - Full Time Result "
   ]
  },
  {
   "cell_type": "code",
   "execution_count": 56,
   "metadata": {},
   "outputs": [],
   "source": [
    "# Recordemos que la columna 'Venue' solo nos alberga la condición en la que\n",
    "# fue anotado el gol, 'H' para cuando el gol fue convertido en condición \n",
    "# de Local o 'A' para cuando fue de visitante.\n",
    "\n",
    "# Con la columna 'FTR' o resultado final del partido almacenaremos:\n",
    "# 'H' para cuando el equipo ganador es el equipo local\n",
    "# 'A' para cuando el equipo ganador es el equipo visitante\n",
    "# 'D' para cuando el partido terminó en empate\n",
    "\n",
    "def winner(string):\n",
    "    parts = string.split(\"-\")\n",
    "    local = int(parts[0])\n",
    "    visitante = int(parts[1][0])\n",
    "    if local > visitante:\n",
    "        return 'H'\n",
    "    elif visitante > local:\n",
    "        return 'A'\n",
    "    else:\n",
    "        return 'D'\n",
    "\n",
    "data['FTR'] = data['Result'].apply(winner)\n"
   ]
  },
  {
   "cell_type": "code",
   "execution_count": 57,
   "metadata": {},
   "outputs": [
    {
     "data": {
      "text/html": [
       "<div>\n",
       "<style scoped>\n",
       "    .dataframe tbody tr th:only-of-type {\n",
       "        vertical-align: middle;\n",
       "    }\n",
       "\n",
       "    .dataframe tbody tr th {\n",
       "        vertical-align: top;\n",
       "    }\n",
       "\n",
       "    .dataframe thead th {\n",
       "        text-align: right;\n",
       "    }\n",
       "</style>\n",
       "<table border=\"1\" class=\"dataframe\">\n",
       "  <thead>\n",
       "    <tr style=\"text-align: right;\">\n",
       "      <th></th>\n",
       "      <th>Player</th>\n",
       "      <th>Season</th>\n",
       "      <th>Competition</th>\n",
       "      <th>Matchday</th>\n",
       "      <th>Date</th>\n",
       "      <th>Venue</th>\n",
       "      <th>Club</th>\n",
       "      <th>Opponent</th>\n",
       "      <th>Result</th>\n",
       "      <th>Playing_Position</th>\n",
       "      <th>Minute</th>\n",
       "      <th>At_score</th>\n",
       "      <th>Type</th>\n",
       "      <th>Goal_assist</th>\n",
       "      <th>Overtime</th>\n",
       "      <th>FTR</th>\n",
       "    </tr>\n",
       "  </thead>\n",
       "  <tbody>\n",
       "    <tr>\n",
       "      <th>0</th>\n",
       "      <td>CR7</td>\n",
       "      <td>02/03</td>\n",
       "      <td>Liga de Portugal</td>\n",
       "      <td>6</td>\n",
       "      <td>07-10-2002</td>\n",
       "      <td>H</td>\n",
       "      <td>Sporting CP</td>\n",
       "      <td>Moreirense FC</td>\n",
       "      <td>3-0</td>\n",
       "      <td>LW</td>\n",
       "      <td>34</td>\n",
       "      <td>2-0</td>\n",
       "      <td>Solo run</td>\n",
       "      <td>NaN</td>\n",
       "      <td>0</td>\n",
       "      <td>H</td>\n",
       "    </tr>\n",
       "    <tr>\n",
       "      <th>1</th>\n",
       "      <td>CR7</td>\n",
       "      <td>02/03</td>\n",
       "      <td>Liga de Portugal</td>\n",
       "      <td>6</td>\n",
       "      <td>07-10-2002</td>\n",
       "      <td>H</td>\n",
       "      <td>Sporting CP</td>\n",
       "      <td>Moreirense FC</td>\n",
       "      <td>3-0</td>\n",
       "      <td>LW</td>\n",
       "      <td>90+5</td>\n",
       "      <td>3-0</td>\n",
       "      <td>Header</td>\n",
       "      <td>Rui Jorge</td>\n",
       "      <td>0</td>\n",
       "      <td>H</td>\n",
       "    </tr>\n",
       "    <tr>\n",
       "      <th>2</th>\n",
       "      <td>CR7</td>\n",
       "      <td>02/03</td>\n",
       "      <td>Liga de Portugal</td>\n",
       "      <td>8</td>\n",
       "      <td>26-10-2002</td>\n",
       "      <td>A</td>\n",
       "      <td>Sporting CP</td>\n",
       "      <td>Boavista FC</td>\n",
       "      <td>1-2</td>\n",
       "      <td>LW</td>\n",
       "      <td>88</td>\n",
       "      <td>1-2</td>\n",
       "      <td>Right-footed shot</td>\n",
       "      <td>Carlos Martins</td>\n",
       "      <td>0</td>\n",
       "      <td>A</td>\n",
       "    </tr>\n",
       "    <tr>\n",
       "      <th>3</th>\n",
       "      <td>CR7</td>\n",
       "      <td>02/03</td>\n",
       "      <td>Copa de Portugal</td>\n",
       "      <td>Fourth Round</td>\n",
       "      <td>24-11-2002</td>\n",
       "      <td>H</td>\n",
       "      <td>Sporting CP</td>\n",
       "      <td>CD Estarreja</td>\n",
       "      <td>4-1</td>\n",
       "      <td>LW</td>\n",
       "      <td>67</td>\n",
       "      <td>3-0</td>\n",
       "      <td>Left-footed shot</td>\n",
       "      <td>Cesar Prates</td>\n",
       "      <td>0</td>\n",
       "      <td>H</td>\n",
       "    </tr>\n",
       "    <tr>\n",
       "      <th>4</th>\n",
       "      <td>CR7</td>\n",
       "      <td>02/03</td>\n",
       "      <td>Copa de Portugal</td>\n",
       "      <td>Fifth Round</td>\n",
       "      <td>18-12-2002</td>\n",
       "      <td>H</td>\n",
       "      <td>Sporting CP</td>\n",
       "      <td>FC Oliveira do Hospital</td>\n",
       "      <td>8-1</td>\n",
       "      <td>LW</td>\n",
       "      <td>13</td>\n",
       "      <td>3-0</td>\n",
       "      <td>Right-footed shot</td>\n",
       "      <td>NaN</td>\n",
       "      <td>0</td>\n",
       "      <td>H</td>\n",
       "    </tr>\n",
       "  </tbody>\n",
       "</table>\n",
       "</div>"
      ],
      "text/plain": [
       "  Player Season       Competition      Matchday        Date Venue  \\\n",
       "0    CR7  02/03  Liga de Portugal             6  07-10-2002     H   \n",
       "1    CR7  02/03  Liga de Portugal             6  07-10-2002     H   \n",
       "2    CR7  02/03  Liga de Portugal             8  26-10-2002     A   \n",
       "3    CR7  02/03  Copa de Portugal  Fourth Round  24-11-2002     H   \n",
       "4    CR7  02/03  Copa de Portugal   Fifth Round  18-12-2002     H   \n",
       "\n",
       "          Club                 Opponent Result Playing_Position Minute  \\\n",
       "0  Sporting CP            Moreirense FC    3-0               LW     34   \n",
       "1  Sporting CP            Moreirense FC    3-0               LW   90+5   \n",
       "2  Sporting CP              Boavista FC    1-2               LW     88   \n",
       "3  Sporting CP             CD Estarreja    4-1               LW     67   \n",
       "4  Sporting CP  FC Oliveira do Hospital    8-1               LW     13   \n",
       "\n",
       "  At_score               Type     Goal_assist  Overtime FTR  \n",
       "0      2-0           Solo run             NaN         0   H  \n",
       "1      3-0             Header       Rui Jorge         0   H  \n",
       "2      1-2  Right-footed shot  Carlos Martins         0   A  \n",
       "3      3-0   Left-footed shot    Cesar Prates         0   H  \n",
       "4      3-0  Right-footed shot             NaN         0   H  "
      ]
     },
     "execution_count": 57,
     "metadata": {},
     "output_type": "execute_result"
    }
   ],
   "source": [
    "data.head()"
   ]
  },
  {
   "cell_type": "code",
   "execution_count": 58,
   "metadata": {},
   "outputs": [
    {
     "data": {
      "text/plain": [
       "H    784\n",
       "A    509\n",
       "D    105\n",
       "Name: FTR, dtype: int64"
      ]
     },
     "execution_count": 58,
     "metadata": {},
     "output_type": "execute_result"
    }
   ],
   "source": [
    "data['FTR'].value_counts()"
   ]
  },
  {
   "attachments": {},
   "cell_type": "markdown",
   "metadata": {},
   "source": [
    "## Creamos la columna 'Situation'"
   ]
  },
  {
   "cell_type": "code",
   "execution_count": 59,
   "metadata": {},
   "outputs": [],
   "source": [
    "def asignar_resultado(row):\n",
    "    venue = row['Venue']\n",
    "    at_score = row['At_score']\n",
    "    score_home, score_away = at_score.split(\"-\")\n",
    "    if venue == \"H\":\n",
    "        if int(score_home) > int(score_away):\n",
    "            if int(score_home) - int(score_away) == 1:\n",
    "                return \"Adelantar\"\n",
    "            else:\n",
    "                return \"Ampliar\"\n",
    "        elif int(score_home) == int(score_away):\n",
    "            return \"Empatar\"\n",
    "        else:\n",
    "            return \"Recortar\"\n",
    "    else:\n",
    "        if int(score_away) > int(score_home):\n",
    "            if int(score_away) - int(score_home) == 1:\n",
    "                return \"Adelantar\"\n",
    "            else:\n",
    "                return \"Ampliar\"\n",
    "        elif int(score_away) == int(score_home):\n",
    "            return \"Empatar\"\n",
    "        else:\n",
    "            return \"Recortar\"\n",
    "\n",
    "\n",
    "data['Situation'] = data.apply(asignar_resultado, axis=1)\n",
    "\n",
    "# En la columna 'Situation' crearemos un nuevo dato que servirá para enriquecer\n",
    "# nuestro análisis y funciona de la siguiente manera, comparando el dato almacenado\n",
    "# en la columna ['Venue'] que guarda la condición en la que juegan nuestros sujetos\n",
    "# de análisis 'H' para local y 'A' para visita, y la variación resultante del \n",
    "# registro creado(recordemos que cada registro corresponde a un gol) podemos determinar: \n",
    "\n",
    "# 'Adelantar' siempre que el gol llegue para poner en ventaja a su equipo\n",
    "# 'Empatar' para cuando el gol significa la igualdad del marcador\n",
    "# 'Recortar' cuando el gol llega para acortar una desventaja\n",
    "# 'Ampliar' para cuando el gol sirva para hacer más amplia la diferencia a favor\n"
   ]
  },
  {
   "cell_type": "code",
   "execution_count": 60,
   "metadata": {},
   "outputs": [
    {
     "data": {
      "text/html": [
       "<div>\n",
       "<style scoped>\n",
       "    .dataframe tbody tr th:only-of-type {\n",
       "        vertical-align: middle;\n",
       "    }\n",
       "\n",
       "    .dataframe tbody tr th {\n",
       "        vertical-align: top;\n",
       "    }\n",
       "\n",
       "    .dataframe thead th {\n",
       "        text-align: right;\n",
       "    }\n",
       "</style>\n",
       "<table border=\"1\" class=\"dataframe\">\n",
       "  <thead>\n",
       "    <tr style=\"text-align: right;\">\n",
       "      <th></th>\n",
       "      <th>Player</th>\n",
       "      <th>Season</th>\n",
       "      <th>Competition</th>\n",
       "      <th>Matchday</th>\n",
       "      <th>Date</th>\n",
       "      <th>Venue</th>\n",
       "      <th>Club</th>\n",
       "      <th>Opponent</th>\n",
       "      <th>Result</th>\n",
       "      <th>Playing_Position</th>\n",
       "      <th>Minute</th>\n",
       "      <th>At_score</th>\n",
       "      <th>Type</th>\n",
       "      <th>Goal_assist</th>\n",
       "      <th>Overtime</th>\n",
       "      <th>FTR</th>\n",
       "      <th>Situation</th>\n",
       "    </tr>\n",
       "  </thead>\n",
       "  <tbody>\n",
       "    <tr>\n",
       "      <th>0</th>\n",
       "      <td>CR7</td>\n",
       "      <td>02/03</td>\n",
       "      <td>Liga de Portugal</td>\n",
       "      <td>6</td>\n",
       "      <td>07-10-2002</td>\n",
       "      <td>H</td>\n",
       "      <td>Sporting CP</td>\n",
       "      <td>Moreirense FC</td>\n",
       "      <td>3-0</td>\n",
       "      <td>LW</td>\n",
       "      <td>34</td>\n",
       "      <td>2-0</td>\n",
       "      <td>Solo run</td>\n",
       "      <td>NaN</td>\n",
       "      <td>0</td>\n",
       "      <td>H</td>\n",
       "      <td>Ampliar</td>\n",
       "    </tr>\n",
       "    <tr>\n",
       "      <th>1</th>\n",
       "      <td>CR7</td>\n",
       "      <td>02/03</td>\n",
       "      <td>Liga de Portugal</td>\n",
       "      <td>6</td>\n",
       "      <td>07-10-2002</td>\n",
       "      <td>H</td>\n",
       "      <td>Sporting CP</td>\n",
       "      <td>Moreirense FC</td>\n",
       "      <td>3-0</td>\n",
       "      <td>LW</td>\n",
       "      <td>90+5</td>\n",
       "      <td>3-0</td>\n",
       "      <td>Header</td>\n",
       "      <td>Rui Jorge</td>\n",
       "      <td>0</td>\n",
       "      <td>H</td>\n",
       "      <td>Ampliar</td>\n",
       "    </tr>\n",
       "    <tr>\n",
       "      <th>2</th>\n",
       "      <td>CR7</td>\n",
       "      <td>02/03</td>\n",
       "      <td>Liga de Portugal</td>\n",
       "      <td>8</td>\n",
       "      <td>26-10-2002</td>\n",
       "      <td>A</td>\n",
       "      <td>Sporting CP</td>\n",
       "      <td>Boavista FC</td>\n",
       "      <td>1-2</td>\n",
       "      <td>LW</td>\n",
       "      <td>88</td>\n",
       "      <td>1-2</td>\n",
       "      <td>Right-footed shot</td>\n",
       "      <td>Carlos Martins</td>\n",
       "      <td>0</td>\n",
       "      <td>A</td>\n",
       "      <td>Adelantar</td>\n",
       "    </tr>\n",
       "    <tr>\n",
       "      <th>3</th>\n",
       "      <td>CR7</td>\n",
       "      <td>02/03</td>\n",
       "      <td>Copa de Portugal</td>\n",
       "      <td>Fourth Round</td>\n",
       "      <td>24-11-2002</td>\n",
       "      <td>H</td>\n",
       "      <td>Sporting CP</td>\n",
       "      <td>CD Estarreja</td>\n",
       "      <td>4-1</td>\n",
       "      <td>LW</td>\n",
       "      <td>67</td>\n",
       "      <td>3-0</td>\n",
       "      <td>Left-footed shot</td>\n",
       "      <td>Cesar Prates</td>\n",
       "      <td>0</td>\n",
       "      <td>H</td>\n",
       "      <td>Ampliar</td>\n",
       "    </tr>\n",
       "    <tr>\n",
       "      <th>4</th>\n",
       "      <td>CR7</td>\n",
       "      <td>02/03</td>\n",
       "      <td>Copa de Portugal</td>\n",
       "      <td>Fifth Round</td>\n",
       "      <td>18-12-2002</td>\n",
       "      <td>H</td>\n",
       "      <td>Sporting CP</td>\n",
       "      <td>FC Oliveira do Hospital</td>\n",
       "      <td>8-1</td>\n",
       "      <td>LW</td>\n",
       "      <td>13</td>\n",
       "      <td>3-0</td>\n",
       "      <td>Right-footed shot</td>\n",
       "      <td>NaN</td>\n",
       "      <td>0</td>\n",
       "      <td>H</td>\n",
       "      <td>Ampliar</td>\n",
       "    </tr>\n",
       "  </tbody>\n",
       "</table>\n",
       "</div>"
      ],
      "text/plain": [
       "  Player Season       Competition      Matchday        Date Venue  \\\n",
       "0    CR7  02/03  Liga de Portugal             6  07-10-2002     H   \n",
       "1    CR7  02/03  Liga de Portugal             6  07-10-2002     H   \n",
       "2    CR7  02/03  Liga de Portugal             8  26-10-2002     A   \n",
       "3    CR7  02/03  Copa de Portugal  Fourth Round  24-11-2002     H   \n",
       "4    CR7  02/03  Copa de Portugal   Fifth Round  18-12-2002     H   \n",
       "\n",
       "          Club                 Opponent Result Playing_Position Minute  \\\n",
       "0  Sporting CP            Moreirense FC    3-0               LW     34   \n",
       "1  Sporting CP            Moreirense FC    3-0               LW   90+5   \n",
       "2  Sporting CP              Boavista FC    1-2               LW     88   \n",
       "3  Sporting CP             CD Estarreja    4-1               LW     67   \n",
       "4  Sporting CP  FC Oliveira do Hospital    8-1               LW     13   \n",
       "\n",
       "  At_score               Type     Goal_assist  Overtime FTR  Situation  \n",
       "0      2-0           Solo run             NaN         0   H    Ampliar  \n",
       "1      3-0             Header       Rui Jorge         0   H    Ampliar  \n",
       "2      1-2  Right-footed shot  Carlos Martins         0   A  Adelantar  \n",
       "3      3-0   Left-footed shot    Cesar Prates         0   H    Ampliar  \n",
       "4      3-0  Right-footed shot             NaN         0   H    Ampliar  "
      ]
     },
     "execution_count": 60,
     "metadata": {},
     "output_type": "execute_result"
    }
   ],
   "source": [
    "data.head()"
   ]
  },
  {
   "cell_type": "code",
   "execution_count": 61,
   "metadata": {},
   "outputs": [
    {
     "data": {
      "text/plain": [
       "Ampliar      717\n",
       "Adelantar    525\n",
       "Empatar      134\n",
       "Recortar      22\n",
       "Name: Situation, dtype: int64"
      ]
     },
     "execution_count": 61,
     "metadata": {},
     "output_type": "execute_result"
    }
   ],
   "source": [
    "# Esto nos abre un abanico nuevo de posibles combinaciones de lo más interesante : \n",
    "\n",
    "# De forma conjunta la mayoría de los goles anotados por Messi y CR7 sirvieron para\n",
    "# ampliar la ventajas de sus equipos (717) esto significa que para cuando fueron \n",
    "# anotados dichos goles sus equipos ya estaban en ventaja en el marcador\n",
    "\n",
    "# Para adelantar (525) encontramos de forma conjunta una cantidad nada despreciable,\n",
    "# ya que estos goles significaron en su momento que sus respectivos equipos rompían\n",
    "# la igualdad en el marcador y tomaban la ventaja en el mismo\n",
    "\n",
    "# Aunque menor en cantidad los goles que sirvieron como empate (134) significaron que\n",
    "# con sus goles sacaban a sus equipos de estar en desventaja\n",
    "\n",
    "# Para finalizar, recortar (22) fueron los goles anotados de forma conjunta cuando su\n",
    "# equipo estaba en desventajas de más de 1 gol. A tener en cuenta que aunque la cantidad\n",
    "# es mínima se deben considerar varios factores más, ambos eran las super estrellas \n",
    "# de sus clubes y estaban acompañados de jugadores fantásticos siempre, por lo que \n",
    "# no era habitual que cayeran en desventajas de mas de 1 gol que es la condición \n",
    "# que se debe cumplir para este caso\n",
    "\n",
    "data['Situation'].value_counts()"
   ]
  },
  {
   "cell_type": "code",
   "execution_count": 62,
   "metadata": {},
   "outputs": [
    {
     "data": {
      "text/plain": [
       "CR7      281\n",
       "Messi    244\n",
       "Name: Player, dtype: int64"
      ]
     },
     "execution_count": 62,
     "metadata": {},
     "output_type": "execute_result"
    }
   ],
   "source": [
    "# Ya revisando de forma individual encontramos que CR7 (281) tiene más goles\n",
    "# para romper la igualdad y poner en ventaja a su equipo, Aunque es muy subjetivo,\n",
    "# este tipo de goles son muy valorados y ya que al quebrar una igualdad entran \n",
    "# en juego otras facetas y posibilidades en un partido de futbol. \n",
    "\n",
    "# A titulo personal yo siempre tuve la impresión que los goles de CR7 llegaban \n",
    "# en los momentos que más se necesitaban y con este análisis se pudo, aunque sea\n",
    "# mínimamente la diferencia se puede demostrar mi hipótesis\n",
    "\n",
    "\n",
    "data.loc[data['Situation'] == 'Adelantar']['Player'].value_counts()"
   ]
  },
  {
   "cell_type": "code",
   "execution_count": 63,
   "metadata": {},
   "outputs": [
    {
     "data": {
      "text/plain": [
       "Messi    383\n",
       "CR7      334\n",
       "Name: Player, dtype: int64"
      ]
     },
     "execution_count": 63,
     "metadata": {},
     "output_type": "execute_result"
    }
   ],
   "source": [
    "# Recordemos que en 'Ampliar' se concentran la mayor cantidad de registros, \n",
    "# siendo Messi (383) el que más goles consiguió en esta condición. Es decir partidos\n",
    "# en los que su equipo ya estaba en ventaja en el marcador y sus goles llegaban \n",
    "# para hacer más grande la diferencia a favor\n",
    "\n",
    "data.loc[data['Situation'] == 'Ampliar']['Player'].value_counts()"
   ]
  },
  {
   "cell_type": "code",
   "execution_count": 64,
   "metadata": {},
   "outputs": [
    {
     "data": {
      "text/plain": [
       "CR7      73\n",
       "Messi    61\n",
       "Name: Player, dtype: int64"
      ]
     },
     "execution_count": 64,
     "metadata": {},
     "output_type": "execute_result"
    }
   ],
   "source": [
    "# Para conseguir 'Empatar' el partido de nuevo CR7 (73) el que lidera la lista, \n",
    "# al igual que los goles que se consiguen para 'Adelantar' estos tienen un sabor\n",
    "# especial ya que significan que hasta ese momento tu equipo estaba en \n",
    "# desventaja y tu con tu gol lo vuelves a poner en carrera para conseguir la victoria\n",
    "\n",
    "data.loc[data['Situation'] == 'Empatar']['Player'].value_counts()"
   ]
  },
  {
   "cell_type": "code",
   "execution_count": 65,
   "metadata": {},
   "outputs": [
    {
     "data": {
      "text/plain": [
       "CR7      12\n",
       "Messi    10\n",
       "Name: Player, dtype: int64"
      ]
     },
     "execution_count": 65,
     "metadata": {},
     "output_type": "execute_result"
    }
   ],
   "source": [
    "# Al igual que para empatar la diferencia es muy corta pero CR7 (12) es quien \n",
    "# más goles marcó cuando su equipo estaba en desventaja de más de 1 gol\n",
    "\n",
    "data.loc[data['Situation'] == 'Recortar']['Player'].value_counts()"
   ]
  },
  {
   "cell_type": "code",
   "execution_count": 66,
   "metadata": {},
   "outputs": [
    {
     "data": {
      "text/plain": [
       "CR7      21\n",
       "Messi    14\n",
       "Name: Player, dtype: int64"
      ]
     },
     "execution_count": 66,
     "metadata": {},
     "output_type": "execute_result"
    }
   ],
   "source": [
    "# Con esta consulta encontramos registros más detallados por ejemplo: \n",
    "\n",
    "# Cuando siendo Local se consigue un gol que signifique el empate para\n",
    "# tu equipo (estaba en desventaja hasta entonces) y a la larga el equipo \n",
    "# terminaría alzándose con la victoria \n",
    "\n",
    "data.loc[(data['Venue'] == 'H') & (data['FTR'] == 'H') & (data['Situation'] == 'Empatar')]['Player'].value_counts()"
   ]
  },
  {
   "cell_type": "code",
   "execution_count": 67,
   "metadata": {},
   "outputs": [
    {
     "data": {
      "text/plain": [
       "Messi    16\n",
       "CR7      15\n",
       "Name: Player, dtype: int64"
      ]
     },
     "execution_count": 67,
     "metadata": {},
     "output_type": "execute_result"
    }
   ],
   "source": [
    "# Cuando siendo Visitante se consigue un gol que signifique el empate \n",
    "# para tu equipo (estaba en desventaja hasta entonces) y a la larga el equipo\n",
    "# terminaría alzándose con la victoria \n",
    "\n",
    "data.loc[(data['Venue'] == 'A') & (data['FTR'] == 'A') & (data['Situation'] == 'Empatar')]['Player'].value_counts()"
   ]
  },
  {
   "cell_type": "code",
   "execution_count": 68,
   "metadata": {},
   "outputs": [
    {
     "data": {
      "text/plain": [
       "CR7      13\n",
       "Messi     9\n",
       "Name: Player, dtype: int64"
      ]
     },
     "execution_count": 68,
     "metadata": {},
     "output_type": "execute_result"
    }
   ],
   "source": [
    "# # Cuando siendo Local se consigue un gol que signifique el empate para\n",
    "# tu equipo (estaba en desventaja hasta entonces) y a la larga el equipo\n",
    "# terminaría empatando el cotejo \n",
    "\n",
    "data.loc[(data['Venue'] == 'H') & (data['FTR'] == 'D') & (data['Situation'] == 'Empatar')]['Player'].value_counts()"
   ]
  },
  {
   "cell_type": "code",
   "execution_count": 69,
   "metadata": {},
   "outputs": [
    {
     "data": {
      "text/plain": [
       "CR7      16\n",
       "Messi    15\n",
       "Name: Player, dtype: int64"
      ]
     },
     "execution_count": 69,
     "metadata": {},
     "output_type": "execute_result"
    }
   ],
   "source": [
    "# Cuando siendo Visitante se consigue un gol que signifique el empate para\n",
    "# tu equipo (estaba en desventaja hasta entonces) y a la larga el equipo\n",
    "# terminaría empatando el cotejo \n",
    "\n",
    "data.loc[(data['Venue'] == 'A') & (data['FTR'] == 'D') & (data['Situation'] == 'Empatar')]['Player'].value_counts()"
   ]
  },
  {
   "cell_type": "code",
   "execution_count": 70,
   "metadata": {},
   "outputs": [
    {
     "data": {
      "text/plain": [
       "CR7      8\n",
       "Messi    2\n",
       "Name: Player, dtype: int64"
      ]
     },
     "execution_count": 70,
     "metadata": {},
     "output_type": "execute_result"
    }
   ],
   "source": [
    "# Goles anotados en condición de local en partidos que además necesitaron \n",
    "# resolverse en tiempo suplementario y que terminaron siendo ganados por el equipo Local\n",
    "\n",
    "data.loc[(data['Venue'] == 'H') & (data['FTR'] == 'H') & (data['Overtime'] == 1)]['Player'].value_counts()"
   ]
  },
  {
   "cell_type": "code",
   "execution_count": 71,
   "metadata": {},
   "outputs": [
    {
     "data": {
      "text/plain": [
       "Messi    1\n",
       "CR7      1\n",
       "Name: Player, dtype: int64"
      ]
     },
     "execution_count": 71,
     "metadata": {},
     "output_type": "execute_result"
    }
   ],
   "source": [
    "# Goles anotados en condición de Visitante en partidos que además necesitaron\n",
    "#  resolverse en tiempo suplementario y que terminaron siendo ganados por el equipo Visitante\n",
    "\n",
    "data.loc[(data['Venue'] == 'A') & (data['FTR'] == 'A') & (data['Overtime'] == 1)]['Player'].value_counts()"
   ]
  },
  {
   "cell_type": "code",
   "execution_count": 72,
   "metadata": {},
   "outputs": [
    {
     "data": {
      "text/plain": [
       "CR7    2\n",
       "Name: Player, dtype: int64"
      ]
     },
     "execution_count": 72,
     "metadata": {},
     "output_type": "execute_result"
    }
   ],
   "source": [
    "# Goles anotados en condición de Local en partidos que además necesitaron \n",
    "# resolverse en tiempo suplementario y que terminaron siendo ganados por el equipo Visitante\n",
    "\n",
    "data.loc[(data['Venue'] == 'H') & (data['FTR'] == 'A') & (data['Overtime'] == 1)]['Player'].value_counts()"
   ]
  },
  {
   "cell_type": "code",
   "execution_count": 73,
   "metadata": {},
   "outputs": [
    {
     "data": {
      "text/plain": [
       "CR7    1\n",
       "Name: Player, dtype: int64"
      ]
     },
     "execution_count": 73,
     "metadata": {},
     "output_type": "execute_result"
    }
   ],
   "source": [
    "# Goles anotados en condición de Visitante en partidos que además necesitaron \n",
    "# resolverse en tiempo suplementario y que terminaron siendo ganados por el equipo Local\n",
    "\n",
    "data.loc[(data['Venue'] == 'A') & (data['FTR'] == 'H') & (data['Overtime'] == 1)]['Player'].value_counts()"
   ]
  },
  {
   "cell_type": "code",
   "execution_count": 74,
   "metadata": {},
   "outputs": [
    {
     "data": {
      "text/plain": [
       "Adelantar    2\n",
       "Empatar      1\n",
       "Name: Situation, dtype: int64"
      ]
     },
     "execution_count": 74,
     "metadata": {},
     "output_type": "execute_result"
    }
   ],
   "source": [
    "# Goles y situaciones en las que estos llegaron cuando los partidos necesitaron\n",
    "# tiempo suplementario para decidirse por parte de Lionel Messi\n",
    "\n",
    "data.loc[(data['Player'] == 'Messi') & (data['Overtime'] == 1)]['Situation'].value_counts()"
   ]
  },
  {
   "cell_type": "code",
   "execution_count": 75,
   "metadata": {},
   "outputs": [
    {
     "data": {
      "text/plain": [
       "Adelantar    6\n",
       "Ampliar      3\n",
       "Empatar      3\n",
       "Name: Situation, dtype: int64"
      ]
     },
     "execution_count": 75,
     "metadata": {},
     "output_type": "execute_result"
    }
   ],
   "source": [
    "# Goles y situaciones en las que estos llegaron cuando los partidos necesitaron\n",
    "# tiempo suplementario para decidirse por parte de CR7\n",
    "\n",
    "data.loc[(data['Player'] == 'CR7') & (data['Overtime'] == 1)]['Situation'].value_counts()"
   ]
  },
  {
   "attachments": {},
   "cell_type": "markdown",
   "metadata": {},
   "source": [
    "## Win %"
   ]
  },
  {
   "cell_type": "code",
   "execution_count": 76,
   "metadata": {},
   "outputs": [],
   "source": [
    "df = data\n",
    "df_win = pd.DataFrame(columns=['Player', 'Wins', 'Draws', 'Losses'])\n",
    "\n",
    "players = df['Player'].unique()\n",
    "for player in players:\n",
    "    df_player = df[df['Player'] == player]\n",
    "    wins = len(df_player[(df_player['Venue'] == 'H') & (df_player['FTR'] == 'H')]) + \\\n",
    "           len(df_player[(df_player['Venue'] == 'A') & (df_player['FTR'] == 'A')])\n",
    "    draws = len(df_player[(df_player['Venue'] == 'H') & (df_player['FTR'] == 'D')]) + \\\n",
    "            len(df_player[(df_player['Venue'] == 'A') & (df_player['FTR'] == 'D')])\n",
    "    losses = len(df_player[(df_player['Venue'] == 'H') & (df_player['FTR'] == 'A')]) + \\\n",
    "             len(df_player[(df_player['Venue'] == 'A') & (df_player['FTR'] == 'H')])\n",
    "    df_win = pd.concat([df_win, pd.DataFrame([{'Player': player, 'Wins': wins, 'Draws': draws, 'Losses': losses}])],\n",
    "    ignore_index=True)\n"
   ]
  },
  {
   "cell_type": "code",
   "execution_count": 77,
   "metadata": {},
   "outputs": [
    {
     "data": {
      "text/html": [
       "<style type=\"text/css\">\n",
       "#T_03de8_row0_col3, #T_03de8_row0_col4, #T_03de8_row1_col1, #T_03de8_row1_col2, #T_03de8_row1_col5 {\n",
       "  background-color: green;\n",
       "}\n",
       "</style>\n",
       "<table id=\"T_03de8\">\n",
       "  <thead>\n",
       "    <tr>\n",
       "      <th class=\"blank level0\" >&nbsp;</th>\n",
       "      <th id=\"T_03de8_level0_col0\" class=\"col_heading level0 col0\" >Player</th>\n",
       "      <th id=\"T_03de8_level0_col1\" class=\"col_heading level0 col1\" >Wins</th>\n",
       "      <th id=\"T_03de8_level0_col2\" class=\"col_heading level0 col2\" >Draws</th>\n",
       "      <th id=\"T_03de8_level0_col3\" class=\"col_heading level0 col3\" >Losses</th>\n",
       "      <th id=\"T_03de8_level0_col4\" class=\"col_heading level0 col4\" >Total</th>\n",
       "      <th id=\"T_03de8_level0_col5\" class=\"col_heading level0 col5\" >Win%</th>\n",
       "    </tr>\n",
       "  </thead>\n",
       "  <tbody>\n",
       "    <tr>\n",
       "      <th id=\"T_03de8_level0_row0\" class=\"row_heading level0 row0\" >0</th>\n",
       "      <td id=\"T_03de8_row0_col0\" class=\"data row0 col0\" >CR7</td>\n",
       "      <td id=\"T_03de8_row0_col1\" class=\"data row0 col1\" >616</td>\n",
       "      <td id=\"T_03de8_row0_col2\" class=\"data row0 col2\" >50</td>\n",
       "      <td id=\"T_03de8_row0_col3\" class=\"data row0 col3\" >34</td>\n",
       "      <td id=\"T_03de8_row0_col4\" class=\"data row0 col4\" >700</td>\n",
       "      <td id=\"T_03de8_row0_col5\" class=\"data row0 col5\" >88.00%</td>\n",
       "    </tr>\n",
       "    <tr>\n",
       "      <th id=\"T_03de8_level0_row1\" class=\"row_heading level0 row1\" >1</th>\n",
       "      <td id=\"T_03de8_row1_col0\" class=\"data row1 col0\" >Messi</td>\n",
       "      <td id=\"T_03de8_row1_col1\" class=\"data row1 col1\" >621</td>\n",
       "      <td id=\"T_03de8_row1_col2\" class=\"data row1 col2\" >55</td>\n",
       "      <td id=\"T_03de8_row1_col3\" class=\"data row1 col3\" >22</td>\n",
       "      <td id=\"T_03de8_row1_col4\" class=\"data row1 col4\" >698</td>\n",
       "      <td id=\"T_03de8_row1_col5\" class=\"data row1 col5\" >88.97%</td>\n",
       "    </tr>\n",
       "  </tbody>\n",
       "</table>\n"
      ],
      "text/plain": [
       "<pandas.io.formats.style.Styler at 0x1ddd36eaf50>"
      ]
     },
     "execution_count": 77,
     "metadata": {},
     "output_type": "execute_result"
    }
   ],
   "source": [
    "df_win['Wins'] = df_win['Wins'].astype(int)\n",
    "df_win['Draws'] = df_win['Draws'].astype(int)\n",
    "df_win['Losses'] = df_win['Losses'].astype(int)\n",
    "\n",
    "df_win = df_win.assign(Total=df_win[['Wins', 'Draws', 'Losses']].sum(axis=1))\n",
    "\n",
    "df_win['Win%'] = round((df_win['Wins'] / df_win['Total']) * 100, 2)\n",
    "df_win['Win%'] = df_win['Win%'].apply(lambda x: '{:.2f}%'.format(x))\n",
    "\n",
    "df_win.style.highlight_max(['Wins', 'Draws', 'Losses', 'Total', 'Win%'], color = 'green')\n"
   ]
  },
  {
   "attachments": {},
   "cell_type": "markdown",
   "metadata": {},
   "source": [
    "## Goles por Competición"
   ]
  },
  {
   "cell_type": "code",
   "execution_count": 78,
   "metadata": {},
   "outputs": [
    {
     "data": {
      "text/html": [
       "<div>\n",
       "<style scoped>\n",
       "    .dataframe tbody tr th:only-of-type {\n",
       "        vertical-align: middle;\n",
       "    }\n",
       "\n",
       "    .dataframe tbody tr th {\n",
       "        vertical-align: top;\n",
       "    }\n",
       "\n",
       "    .dataframe thead th {\n",
       "        text-align: right;\n",
       "    }\n",
       "</style>\n",
       "<table border=\"1\" class=\"dataframe\">\n",
       "  <thead>\n",
       "    <tr style=\"text-align: right;\">\n",
       "      <th>Player</th>\n",
       "      <th>CR7</th>\n",
       "      <th>Messi</th>\n",
       "      <th>CR7_Gol %</th>\n",
       "      <th>Messi_Gol %</th>\n",
       "    </tr>\n",
       "    <tr>\n",
       "      <th>Competition</th>\n",
       "      <th></th>\n",
       "      <th></th>\n",
       "      <th></th>\n",
       "      <th></th>\n",
       "    </tr>\n",
       "  </thead>\n",
       "  <tbody>\n",
       "    <tr>\n",
       "      <th>Copa de Francia</th>\n",
       "      <td>0</td>\n",
       "      <td>1</td>\n",
       "      <td>0.00</td>\n",
       "      <td>0.14</td>\n",
       "    </tr>\n",
       "    <tr>\n",
       "      <th>Copa de Portugal</th>\n",
       "      <td>2</td>\n",
       "      <td>0</td>\n",
       "      <td>0.29</td>\n",
       "      <td>0.00</td>\n",
       "    </tr>\n",
       "    <tr>\n",
       "      <th>Copa del Rey</th>\n",
       "      <td>22</td>\n",
       "      <td>56</td>\n",
       "      <td>3.14</td>\n",
       "      <td>8.02</td>\n",
       "    </tr>\n",
       "    <tr>\n",
       "      <th>EFL Cup</th>\n",
       "      <td>4</td>\n",
       "      <td>0</td>\n",
       "      <td>0.57</td>\n",
       "      <td>0.00</td>\n",
       "    </tr>\n",
       "    <tr>\n",
       "      <th>FA Cup</th>\n",
       "      <td>13</td>\n",
       "      <td>0</td>\n",
       "      <td>1.86</td>\n",
       "      <td>0.00</td>\n",
       "    </tr>\n",
       "    <tr>\n",
       "      <th>FIFA Club World Cup</th>\n",
       "      <td>7</td>\n",
       "      <td>5</td>\n",
       "      <td>1.00</td>\n",
       "      <td>0.72</td>\n",
       "    </tr>\n",
       "    <tr>\n",
       "      <th>Italy Cup</th>\n",
       "      <td>4</td>\n",
       "      <td>0</td>\n",
       "      <td>0.57</td>\n",
       "      <td>0.00</td>\n",
       "    </tr>\n",
       "    <tr>\n",
       "      <th>LaLiga</th>\n",
       "      <td>311</td>\n",
       "      <td>474</td>\n",
       "      <td>44.43</td>\n",
       "      <td>67.91</td>\n",
       "    </tr>\n",
       "    <tr>\n",
       "      <th>Liga de Portugal</th>\n",
       "      <td>3</td>\n",
       "      <td>0</td>\n",
       "      <td>0.43</td>\n",
       "      <td>0.00</td>\n",
       "    </tr>\n",
       "    <tr>\n",
       "      <th>Ligue 1</th>\n",
       "      <td>0</td>\n",
       "      <td>16</td>\n",
       "      <td>0.00</td>\n",
       "      <td>2.29</td>\n",
       "    </tr>\n",
       "    <tr>\n",
       "      <th>Premier League</th>\n",
       "      <td>103</td>\n",
       "      <td>0</td>\n",
       "      <td>14.71</td>\n",
       "      <td>0.00</td>\n",
       "    </tr>\n",
       "    <tr>\n",
       "      <th>Serie A</th>\n",
       "      <td>81</td>\n",
       "      <td>0</td>\n",
       "      <td>11.57</td>\n",
       "      <td>0.00</td>\n",
       "    </tr>\n",
       "    <tr>\n",
       "      <th>Supercopa de España</th>\n",
       "      <td>4</td>\n",
       "      <td>14</td>\n",
       "      <td>0.57</td>\n",
       "      <td>2.01</td>\n",
       "    </tr>\n",
       "    <tr>\n",
       "      <th>Supercoppa Italiana</th>\n",
       "      <td>2</td>\n",
       "      <td>0</td>\n",
       "      <td>0.29</td>\n",
       "      <td>0.00</td>\n",
       "    </tr>\n",
       "    <tr>\n",
       "      <th>UEFA Champions League</th>\n",
       "      <td>140</td>\n",
       "      <td>129</td>\n",
       "      <td>20.00</td>\n",
       "      <td>18.48</td>\n",
       "    </tr>\n",
       "    <tr>\n",
       "      <th>UEFA Europa League</th>\n",
       "      <td>2</td>\n",
       "      <td>0</td>\n",
       "      <td>0.29</td>\n",
       "      <td>0.00</td>\n",
       "    </tr>\n",
       "    <tr>\n",
       "      <th>UEFA Super Cup</th>\n",
       "      <td>2</td>\n",
       "      <td>3</td>\n",
       "      <td>0.29</td>\n",
       "      <td>0.43</td>\n",
       "    </tr>\n",
       "  </tbody>\n",
       "</table>\n",
       "</div>"
      ],
      "text/plain": [
       "Player                 CR7  Messi  CR7_Gol %  Messi_Gol %\n",
       "Competition                                              \n",
       "Copa de Francia          0      1       0.00         0.14\n",
       "Copa de Portugal         2      0       0.29         0.00\n",
       "Copa del Rey            22     56       3.14         8.02\n",
       "EFL Cup                  4      0       0.57         0.00\n",
       "FA Cup                  13      0       1.86         0.00\n",
       "FIFA Club World Cup      7      5       1.00         0.72\n",
       "Italy Cup                4      0       0.57         0.00\n",
       "LaLiga                 311    474      44.43        67.91\n",
       "Liga de Portugal         3      0       0.43         0.00\n",
       "Ligue 1                  0     16       0.00         2.29\n",
       "Premier League         103      0      14.71         0.00\n",
       "Serie A                 81      0      11.57         0.00\n",
       "Supercopa de España      4     14       0.57         2.01\n",
       "Supercoppa Italiana      2      0       0.29         0.00\n",
       "UEFA Champions League  140    129      20.00        18.48\n",
       "UEFA Europa League       2      0       0.29         0.00\n",
       "UEFA Super Cup           2      3       0.29         0.43"
      ]
     },
     "execution_count": 78,
     "metadata": {},
     "output_type": "execute_result"
    }
   ],
   "source": [
    "liga = data.groupby(['Player', 'Competition']).size().reset_index().\\\n",
    "pivot(columns = ['Player'], index = ['Competition'], values = 0).fillna(0).astype(int)\n",
    "\n",
    "def percentage(col):\n",
    "    return col / col.sum() * 100\n",
    "\n",
    "df_liga = liga.apply(percentage)\n",
    "df_liga = df_liga.add_suffix(\"_Gol %\")\n",
    "df_liga = df_liga.round(2)\n",
    "\n",
    "liga = pd.concat([liga.astype(int), df_liga], axis=1)\n",
    "\n",
    "liga"
   ]
  },
  {
   "attachments": {},
   "cell_type": "markdown",
   "metadata": {},
   "source": [
    "## Tipo de Goles convertidos"
   ]
  },
  {
   "cell_type": "code",
   "execution_count": 79,
   "metadata": {},
   "outputs": [
    {
     "data": {
      "text/html": [
       "<div>\n",
       "<style scoped>\n",
       "    .dataframe tbody tr th:only-of-type {\n",
       "        vertical-align: middle;\n",
       "    }\n",
       "\n",
       "    .dataframe tbody tr th {\n",
       "        vertical-align: top;\n",
       "    }\n",
       "\n",
       "    .dataframe thead th {\n",
       "        text-align: right;\n",
       "    }\n",
       "</style>\n",
       "<table border=\"1\" class=\"dataframe\">\n",
       "  <thead>\n",
       "    <tr style=\"text-align: right;\">\n",
       "      <th>Player</th>\n",
       "      <th>CR7</th>\n",
       "      <th>Messi</th>\n",
       "      <th>CR7_Gol %</th>\n",
       "      <th>Messi_Gol %</th>\n",
       "    </tr>\n",
       "    <tr>\n",
       "      <th>Type</th>\n",
       "      <th></th>\n",
       "      <th></th>\n",
       "      <th></th>\n",
       "      <th></th>\n",
       "    </tr>\n",
       "  </thead>\n",
       "  <tbody>\n",
       "    <tr>\n",
       "      <th>Chest</th>\n",
       "      <td>0</td>\n",
       "      <td>1</td>\n",
       "      <td>0.00</td>\n",
       "      <td>0.14</td>\n",
       "    </tr>\n",
       "    <tr>\n",
       "      <th>Counter attack goal</th>\n",
       "      <td>5</td>\n",
       "      <td>1</td>\n",
       "      <td>0.71</td>\n",
       "      <td>0.14</td>\n",
       "    </tr>\n",
       "    <tr>\n",
       "      <th>Deflected shot on goal</th>\n",
       "      <td>2</td>\n",
       "      <td>2</td>\n",
       "      <td>0.29</td>\n",
       "      <td>0.29</td>\n",
       "    </tr>\n",
       "    <tr>\n",
       "      <th>Direct free kick</th>\n",
       "      <td>48</td>\n",
       "      <td>51</td>\n",
       "      <td>6.86</td>\n",
       "      <td>7.31</td>\n",
       "    </tr>\n",
       "    <tr>\n",
       "      <th>Header</th>\n",
       "      <td>112</td>\n",
       "      <td>24</td>\n",
       "      <td>16.00</td>\n",
       "      <td>3.44</td>\n",
       "    </tr>\n",
       "    <tr>\n",
       "      <th>Left-footed shot</th>\n",
       "      <td>111</td>\n",
       "      <td>434</td>\n",
       "      <td>15.86</td>\n",
       "      <td>62.18</td>\n",
       "    </tr>\n",
       "    <tr>\n",
       "      <th>Long distance kick</th>\n",
       "      <td>9</td>\n",
       "      <td>1</td>\n",
       "      <td>1.29</td>\n",
       "      <td>0.14</td>\n",
       "    </tr>\n",
       "    <tr>\n",
       "      <th>Penalty</th>\n",
       "      <td>129</td>\n",
       "      <td>84</td>\n",
       "      <td>18.43</td>\n",
       "      <td>12.03</td>\n",
       "    </tr>\n",
       "    <tr>\n",
       "      <th>Penalty rebound</th>\n",
       "      <td>3</td>\n",
       "      <td>3</td>\n",
       "      <td>0.43</td>\n",
       "      <td>0.43</td>\n",
       "    </tr>\n",
       "    <tr>\n",
       "      <th>Right-footed shot</th>\n",
       "      <td>265</td>\n",
       "      <td>84</td>\n",
       "      <td>37.86</td>\n",
       "      <td>12.03</td>\n",
       "    </tr>\n",
       "    <tr>\n",
       "      <th>Solo run</th>\n",
       "      <td>2</td>\n",
       "      <td>4</td>\n",
       "      <td>0.29</td>\n",
       "      <td>0.57</td>\n",
       "    </tr>\n",
       "    <tr>\n",
       "      <th>Tap-in</th>\n",
       "      <td>14</td>\n",
       "      <td>9</td>\n",
       "      <td>2.00</td>\n",
       "      <td>1.29</td>\n",
       "    </tr>\n",
       "  </tbody>\n",
       "</table>\n",
       "</div>"
      ],
      "text/plain": [
       "Player                  CR7  Messi  CR7_Gol %  Messi_Gol %\n",
       "Type                                                      \n",
       "Chest                     0      1       0.00         0.14\n",
       "Counter attack goal       5      1       0.71         0.14\n",
       "Deflected shot on goal    2      2       0.29         0.29\n",
       "Direct free kick         48     51       6.86         7.31\n",
       "Header                  112     24      16.00         3.44\n",
       "Left-footed shot        111    434      15.86        62.18\n",
       "Long distance kick        9      1       1.29         0.14\n",
       "Penalty                 129     84      18.43        12.03\n",
       "Penalty rebound           3      3       0.43         0.43\n",
       "Right-footed shot       265     84      37.86        12.03\n",
       "Solo run                  2      4       0.29         0.57\n",
       "Tap-in                   14      9       2.00         1.29"
      ]
     },
     "execution_count": 79,
     "metadata": {},
     "output_type": "execute_result"
    }
   ],
   "source": [
    "tipo = data.groupby(['Player', 'Type']).size().reset_index().\\\n",
    "pivot(columns = ['Player'], index = ['Type'], values = 0).fillna(0).astype(int)\n",
    "\n",
    "def percentage(col):\n",
    "    return col / col.sum() * 100\n",
    "\n",
    "df_tipo = tipo.apply(percentage)\n",
    "df_tipo = df_tipo.add_suffix(\"_Gol %\")\n",
    "df_tipo = df_tipo.round(2)\n",
    "\n",
    "tipo = pd.concat([tipo.astype(int), df_tipo], axis=1)\n",
    "\n",
    "tipo"
   ]
  },
  {
   "attachments": {},
   "cell_type": "markdown",
   "metadata": {},
   "source": [
    "## Knockout round"
   ]
  },
  {
   "cell_type": "code",
   "execution_count": 80,
   "metadata": {},
   "outputs": [
    {
     "data": {
      "text/plain": [
       "Messi    51\n",
       "CR7      35\n",
       "Name: Player, dtype: int64"
      ]
     },
     "execution_count": 80,
     "metadata": {},
     "output_type": "execute_result"
    }
   ],
   "source": [
    "# Goles conseguidos en fase de 8vos de final en \n",
    "# cualquier competición\n",
    "\n",
    "data.loc[(data['Matchday'] == 'Round of 16')]['Player'].value_counts()"
   ]
  },
  {
   "cell_type": "code",
   "execution_count": 81,
   "metadata": {},
   "outputs": [
    {
     "data": {
      "text/plain": [
       "CR7      31\n",
       "Messi    23\n",
       "Name: Player, dtype: int64"
      ]
     },
     "execution_count": 81,
     "metadata": {},
     "output_type": "execute_result"
    }
   ],
   "source": [
    "# Goles conseguidos en fase de 4tos de final en \n",
    "# cualquier competición\n",
    "\n",
    "data.loc[(data['Matchday'] == 'Quarter-Finals')]['Player'].value_counts()"
   ]
  },
  {
   "cell_type": "code",
   "execution_count": 82,
   "metadata": {},
   "outputs": [
    {
     "data": {
      "text/plain": [
       "CR7      26\n",
       "Messi    19\n",
       "Name: Player, dtype: int64"
      ]
     },
     "execution_count": 82,
     "metadata": {},
     "output_type": "execute_result"
    }
   ],
   "source": [
    "# Goles conseguidos en fase de Semi-Finals en \n",
    "# cualquier competición\n",
    "\n",
    "data.loc[(data['Matchday'] == 'Semi-Finals')]['Player'].value_counts()"
   ]
  },
  {
   "cell_type": "code",
   "execution_count": 83,
   "metadata": {},
   "outputs": [
    {
     "data": {
      "text/plain": [
       "Messi    32\n",
       "CR7      20\n",
       "Name: Player, dtype: int64"
      ]
     },
     "execution_count": 83,
     "metadata": {},
     "output_type": "execute_result"
    }
   ],
   "source": [
    "# Goles conseguidos en Finales en cualquier competición\n",
    "\n",
    "data.loc[(data['Matchday'] == 'Final')]['Player'].value_counts()"
   ]
  },
  {
   "attachments": {},
   "cell_type": "markdown",
   "metadata": {},
   "source": [
    "## Mr. Champions "
   ]
  },
  {
   "cell_type": "code",
   "execution_count": 84,
   "metadata": {},
   "outputs": [
    {
     "data": {
      "text/plain": [
       "Messi    29\n",
       "CR7      25\n",
       "Name: Player, dtype: int64"
      ]
     },
     "execution_count": 84,
     "metadata": {},
     "output_type": "execute_result"
    }
   ],
   "source": [
    "# CR7 además es conocido como Mr Champions y aquí podemos detallar la razón\n",
    "\n",
    "data.loc[(data['Matchday'] == 'Round of 16') & (data['Competition'] == 'UEFA Champions League')]['Player'].value_counts()"
   ]
  },
  {
   "cell_type": "code",
   "execution_count": 85,
   "metadata": {},
   "outputs": [
    {
     "data": {
      "text/plain": [
       "CR7      25\n",
       "Messi    12\n",
       "Name: Player, dtype: int64"
      ]
     },
     "execution_count": 85,
     "metadata": {},
     "output_type": "execute_result"
    }
   ],
   "source": [
    "# Recordemos que para esta competición, estos son los 2 más grandes anotadores\n",
    "\n",
    "data.loc[(data['Matchday'] == 'Quarter-Finals') & (data['Competition'] == 'UEFA Champions League')]['Player'].value_counts()"
   ]
  },
  {
   "cell_type": "code",
   "execution_count": 86,
   "metadata": {},
   "outputs": [
    {
     "data": {
      "text/plain": [
       "CR7      13\n",
       "Messi     6\n",
       "Name: Player, dtype: int64"
      ]
     },
     "execution_count": 86,
     "metadata": {},
     "output_type": "execute_result"
    }
   ],
   "source": [
    "# Más sin embargo podemos ver como a medida que el torneo entra en sus \n",
    "# fases concluyentes, la diferencia a favor de CR7 se acentúa \n",
    "\n",
    "data.loc[(data['Matchday'] == 'Semi-Finals') & (data['Competition'] == 'UEFA Champions League')]['Player'].value_counts()"
   ]
  },
  {
   "cell_type": "code",
   "execution_count": 87,
   "metadata": {},
   "outputs": [
    {
     "data": {
      "text/plain": [
       "CR7      4\n",
       "Messi    2\n",
       "Name: Player, dtype: int64"
      ]
     },
     "execution_count": 87,
     "metadata": {},
     "output_type": "execute_result"
    }
   ],
   "source": [
    "# Incluidas las Finales \n",
    "\n",
    "data.loc[(data['Matchday'] == 'Final') & (data['Competition'] == 'UEFA Champions League')]['Player'].value_counts()"
   ]
  },
  {
   "cell_type": "code",
   "execution_count": 88,
   "metadata": {},
   "outputs": [
    {
     "data": {
      "text/plain": [
       "CR7      67\n",
       "Messi    49\n",
       "Name: Player, dtype: int64"
      ]
     },
     "execution_count": 88,
     "metadata": {},
     "output_type": "execute_result"
    }
   ],
   "source": [
    "# Nadie ha marcado más goles en fases definitorias del torneo que CR7\n",
    "# de ahí el apodo de Mr. Champions\n",
    "\n",
    "data.loc[\n",
    "(  (data['Matchday'] == 'Final') |\n",
    "    (data['Matchday'] == 'Semi-Finals') |\n",
    "    (data['Matchday'] == 'Quarter-Finals') |\n",
    "    (data['Matchday'] == 'Round of 16')    )\n",
    "& (data['Competition'] == 'UEFA Champions League')]['Player'].value_counts()"
   ]
  },
  {
   "cell_type": "code",
   "execution_count": 89,
   "metadata": {},
   "outputs": [
    {
     "data": {
      "text/plain": [
       "CR7      140\n",
       "Messi    129\n",
       "Name: Player, dtype: int64"
      ]
     },
     "execution_count": 89,
     "metadata": {},
     "output_type": "execute_result"
    }
   ],
   "source": [
    "# De los 140 goles en total que ha anotado CR7 en la \n",
    "# UEFA Champions League, 67 han sido en fases definitorias\n",
    "# lo que representa un 47.8 % de sus goles\n",
    "# En el caso de Messi es del 37.9 % de sus goles\n",
    "\n",
    "data.loc[data['Competition'] == 'UEFA Champions League']['Player'].value_counts()"
   ]
  },
  {
   "attachments": {},
   "cell_type": "markdown",
   "metadata": {},
   "source": [
    "## Asistencias "
   ]
  },
  {
   "cell_type": "code",
   "execution_count": 90,
   "metadata": {},
   "outputs": [
    {
     "data": {
      "text/plain": [
       "Karim Benzema      44\n",
       "Gareth Bale        29\n",
       "Mesut Ozil         26\n",
       "Marcelo            23\n",
       "Angel Di Maria     22\n",
       "Ryan Giggs         18\n",
       "Gonzalo Higuain    16\n",
       "Isco               16\n",
       "Luka Modric        14\n",
       "Daniel Carvajal    12\n",
       "Name: Goal_assist, dtype: int64"
      ]
     },
     "execution_count": 90,
     "metadata": {},
     "output_type": "execute_result"
    }
   ],
   "source": [
    "# Top 10 de mejores asistidores de CR7 en su carrera\n",
    "\n",
    "data.loc[data['Player'] == 'CR7']['Goal_assist'].value_counts().head(10)"
   ]
  },
  {
   "cell_type": "code",
   "execution_count": 91,
   "metadata": {},
   "outputs": [
    {
     "data": {
      "text/plain": [
       "Luis Suarez        48\n",
       "Dani Alves         42\n",
       "Andres Iniesta     39\n",
       "Xavi               34\n",
       "Neymar             30\n",
       "Pedro              29\n",
       "Jordi Alba         23\n",
       "Sergio Busquets    19\n",
       "Ivan Rakitic       19\n",
       "Cesc Fabregas      14\n",
       "Name: Goal_assist, dtype: int64"
      ]
     },
     "execution_count": 91,
     "metadata": {},
     "output_type": "execute_result"
    }
   ],
   "source": [
    "# Top 10 de mejores asistidores de Messi en su carrera\n",
    "\n",
    "data.loc[data['Player'] == 'Messi']['Goal_assist'].value_counts().head(10)"
   ]
  },
  {
   "cell_type": "code",
   "execution_count": 92,
   "metadata": {},
   "outputs": [
    {
     "data": {
      "text/plain": [
       "Andres Iniesta     13\n",
       "Luis Suarez        10\n",
       "Dani Alves          9\n",
       "Xavi                7\n",
       "Neymar              7\n",
       "Kylian Mbappe       5\n",
       "Pedro               5\n",
       "Sergio Busquets     3\n",
       "Thierry Henry       3\n",
       "Ivan Rakitic        3\n",
       "Name: Goal_assist, dtype: int64"
      ]
     },
     "execution_count": 92,
     "metadata": {},
     "output_type": "execute_result"
    }
   ],
   "source": [
    "# Top 10 de mejores asistidores de Messi en UEFA Champions League\n",
    "\n",
    "data.loc[(data['Player'] == 'Messi') & (data['Competition'] == 'UEFA Champions League')]['Goal_assist'].value_counts().head(10)"
   ]
  },
  {
   "cell_type": "code",
   "execution_count": 93,
   "metadata": {},
   "outputs": [
    {
     "data": {
      "text/plain": [
       "Karim Benzema      12\n",
       "Gareth Bale         9\n",
       "Marcelo             7\n",
       "Daniel Carvajal     5\n",
       "Ryan Giggs          4\n",
       "Lucas Vazquez       4\n",
       "Isco                4\n",
       "Angel Di Maria      4\n",
       "Mesut Ozil          3\n",
       "Sergio Ramos        3\n",
       "Name: Goal_assist, dtype: int64"
      ]
     },
     "execution_count": 93,
     "metadata": {},
     "output_type": "execute_result"
    }
   ],
   "source": [
    "# Top 10 de mejores asistidores de CR7 en UEFA Champions League\n",
    "\n",
    "data.loc[(data['Player'] != 'Messi') & (data['Competition'] == 'UEFA Champions League')]['Goal_assist'].value_counts().head(10)"
   ]
  },
  {
   "attachments": {},
   "cell_type": "markdown",
   "metadata": {},
   "source": [
    "## Oponentes"
   ]
  },
  {
   "cell_type": "code",
   "execution_count": 94,
   "metadata": {},
   "outputs": [
    {
     "data": {
      "text/plain": [
       "Sevilla FC                38\n",
       "Atletico de Madrid        32\n",
       "Valencia CF               31\n",
       "Athletic Bilbao           29\n",
       "Real Betis Balompie       26\n",
       "Real Madrid               26\n",
       "RCD Espanyol Barcelona    25\n",
       "CA Osasuna                25\n",
       "Levante UD                24\n",
       "Getafe CF                 21\n",
       "Name: Opponent, dtype: int64"
      ]
     },
     "execution_count": 94,
     "metadata": {},
     "output_type": "execute_result"
    }
   ],
   "source": [
    "# Top 10 de equipos a los que Messi le ha anotado más goles en su carrera\n",
    "\n",
    "data.loc[data['Player'] == 'Messi']['Opponent'].value_counts().head(10)"
   ]
  },
  {
   "cell_type": "code",
   "execution_count": 95,
   "metadata": {},
   "outputs": [
    {
     "data": {
      "text/plain": [
       "Sevilla FC            27\n",
       "Atletico de Madrid    25\n",
       "Getafe CF             23\n",
       "Celta de Vigo         20\n",
       "FC Barcelona          20\n",
       "Athletic Bilbao       17\n",
       "Malaga CF             17\n",
       "Valencia CF           15\n",
       "Villarreal CF         15\n",
       "Real Sociedad         15\n",
       "Name: Opponent, dtype: int64"
      ]
     },
     "execution_count": 95,
     "metadata": {},
     "output_type": "execute_result"
    }
   ],
   "source": [
    "# Top 10 de equipos a los que CR7 le ha anotado más goles en su carrera\n",
    "# Llama la atención que para ambos jugadores los equipos a los que más\n",
    "# le convierten sean los mismos (Sevilla y Atletico de Madrid)\n",
    "\n",
    "data.loc[data['Player'] == 'CR7']['Opponent'].value_counts().head(10)"
   ]
  },
  {
   "cell_type": "code",
   "execution_count": 96,
   "metadata": {},
   "outputs": [
    {
     "data": {
      "text/plain": [
       "Atletico de Madrid    11\n",
       "FC Barcelona          10\n",
       "Getafe CF              9\n",
       "Villarreal CF          8\n",
       "Tottenham Hotspur      8\n",
       "Levante UD             6\n",
       "Celta de Vigo          6\n",
       "Aston Villa            6\n",
       "Sevilla FC             6\n",
       "Valencia CF            6\n",
       "Name: Opponent, dtype: int64"
      ]
     },
     "execution_count": 96,
     "metadata": {},
     "output_type": "execute_result"
    }
   ],
   "source": [
    "# Top 10 de equipos a los que CR7 le ha anotado más goles en su carrera \n",
    "# y que dichos goles han servido para tomar la delantera en el marcador\n",
    "# De nuevo el Atletico de Madrid como victima predilecta de CR7\n",
    "# El Barcelona de Messi también está presente\n",
    "\n",
    "data.loc[(data['Player'] == 'CR7') & (data['Situation'] == 'Adelantar')]['Opponent'].value_counts().head(10)"
   ]
  },
  {
   "cell_type": "code",
   "execution_count": 97,
   "metadata": {},
   "outputs": [
    {
     "data": {
      "text/plain": [
       "Athletic Bilbao           12\n",
       "Atletico de Madrid        12\n",
       "Real Madrid               11\n",
       "RCD Espanyol Barcelona    10\n",
       "Valencia CF               10\n",
       "Sevilla FC                 9\n",
       "Celta de Vigo              8\n",
       "Deportivo de La Coruaa     8\n",
       "Levante UD                 8\n",
       "Getafe CF                  8\n",
       "Name: Opponent, dtype: int64"
      ]
     },
     "execution_count": 97,
     "metadata": {},
     "output_type": "execute_result"
    }
   ],
   "source": [
    "# Top 10 de equipos a los que Messi le ha anotado más goles en su carrera \n",
    "# y que dichos goles han servido para tomar la delantera en el marcador\n",
    "# de igual forma para Messi el Atletico de Madrid es el que mas recibe\n",
    "\n",
    "data.loc[(data['Player'] != 'CR7') & (data['Situation'] == 'Adelantar')]['Opponent'].value_counts().head(10)"
   ]
  },
  {
   "cell_type": "code",
   "execution_count": 98,
   "metadata": {},
   "outputs": [
    {
     "data": {
      "text/plain": [
       "Sevilla FC                 25\n",
       "Getafe CF                  23\n",
       "Athletic Bilbao            17\n",
       "Malaga CF                  17\n",
       "Valencia CF                15\n",
       "Real Sociedad              15\n",
       "RCD Espanyol Barcelona     15\n",
       "Celta de Vigo              15\n",
       "Deportivo de La CoruÃ±a    13\n",
       "Villarreal CF              13\n",
       "Name: Opponent, dtype: int64"
      ]
     },
     "execution_count": 98,
     "metadata": {},
     "output_type": "execute_result"
    }
   ],
   "source": [
    "# Top 10 de equipos a los que CR7 le ha anotado más goles en LaLiga \n",
    "# Curiosamente al hacer un filtrado mayor el nombre del Atletico de Madrid \n",
    "# no figura en la cabeza de los registros en LaLiga puntualmente\n",
    "\n",
    "data.loc[(data['Player'] == 'CR7') & (data['Competition'] == 'LaLiga')]['Opponent'].value_counts().head(10)"
   ]
  },
  {
   "cell_type": "code",
   "execution_count": 99,
   "metadata": {},
   "outputs": [
    {
     "data": {
      "text/plain": [
       "LaLiga                   12\n",
       "UEFA Champions League     7\n",
       "Copa del Rey              6\n",
       "Name: Competition, dtype: int64"
      ]
     },
     "execution_count": 99,
     "metadata": {},
     "output_type": "execute_result"
    }
   ],
   "source": [
    "# La razón es que está mas distribuida la producción de CR7 frente al \n",
    "# Atletico de Madrid, en su carrera le ha enfrentado en 12 oportunidades\n",
    "# en UEFA Champions League con 7 goles a favor en esos encuentros\n",
    "\n",
    "# Hay que resaltar además que en 2 oportunidades se enfrentaron en la Final\n",
    "# Lisbon en 13/14 y Milan 15/16, ambas saldadas con victorias para CR7 \n",
    "\n",
    "data.loc[(data['Player'] == 'CR7') & (data['Opponent'] == 'Atletico de Madrid')]['Competition'].value_counts().head(10)"
   ]
  },
  {
   "cell_type": "code",
   "execution_count": 100,
   "metadata": {},
   "outputs": [
    {
     "data": {
      "text/plain": [
       "Sevilla FC                30\n",
       "Valencia CF               27\n",
       "Atletico de Madrid        26\n",
       "CA Osasuna                23\n",
       "Levante UD                23\n",
       "RCD Espanyol Barcelona    22\n",
       "Real Betis Balompie       22\n",
       "Deportivo de La Coruaa    20\n",
       "SD Eibar                  20\n",
       "Athletic Bilbao           18\n",
       "Name: Opponent, dtype: int64"
      ]
     },
     "execution_count": 100,
     "metadata": {},
     "output_type": "execute_result"
    }
   ],
   "source": [
    "# Top 10 de equipos a los que Messi le ha anotado más goles en LaLiga, para \n",
    "# Messi si es el caso en LaLiga el Atletico de Madrid está entre sus victimas favoritas\n",
    "\n",
    "data.loc[(data['Player'] != 'CR7') & (data['Competition'] == 'LaLiga')]['Opponent'].value_counts().head(10)"
   ]
  },
  {
   "cell_type": "code",
   "execution_count": 101,
   "metadata": {},
   "outputs": [
    {
     "data": {
      "text/plain": [
       "Opponent            Competition          \n",
       "Juventus FC         UEFA Champions League    10\n",
       "Ajax Amsterdam      UEFA Champions League     9\n",
       "Bayern Munich       UEFA Champions League     9\n",
       "Tottenham Hotspur   Premier League            8\n",
       "Cagliari Calcio     Serie A                   8\n",
       "Aston Villa         Premier League            8\n",
       "Atletico de Madrid  UEFA Champions League     7\n",
       "Udinese Calcio      Serie A                   7\n",
       "Borussia Dortmund   UEFA Champions League     7\n",
       "FC Schalke 04       UEFA Champions League     7\n",
       "dtype: int64"
      ]
     },
     "execution_count": 101,
     "metadata": {},
     "output_type": "execute_result"
    }
   ],
   "source": [
    "# Excluyendo los goles anotados en LaLiga, cual es es equipo y competición \n",
    "# al que más goles ha anotado CR7\n",
    "\n",
    "data.loc[(data['Player'] == 'CR7') & (data['Competition'] != 'LaLiga')][['Opponent', 'Competition']].value_counts().head(10)"
   ]
  },
  {
   "cell_type": "code",
   "execution_count": 102,
   "metadata": {},
   "outputs": [
    {
     "data": {
      "text/plain": [
       "Opponent             Competition          \n",
       "Arsenal FC           UEFA Champions League    9\n",
       "AC Milan             UEFA Champions League    8\n",
       "Athletic Bilbao      Copa del Rey             8\n",
       "Celtic FC            UEFA Champions League    8\n",
       "Manchester City      UEFA Champions League    7\n",
       "Bayer 04 Leverkusen  UEFA Champions League    7\n",
       "Getafe CF            Copa del Rey             6\n",
       "Ajax Amsterdam       UEFA Champions League    6\n",
       "Real Madrid          Supercopa de España      6\n",
       "Paris Saint-Germain  UEFA Champions League    6\n",
       "dtype: int64"
      ]
     },
     "execution_count": 102,
     "metadata": {},
     "output_type": "execute_result"
    }
   ],
   "source": [
    "# Excluyendo los goles anotados en LaLiga, cual es es equipo y competición \n",
    "# al que más goles ha anotado Messi\n",
    "\n",
    "data.loc[(data['Player'] != 'CR7') & (data['Competition'] != 'LaLiga')][['Opponent', 'Competition']].value_counts().head(10)"
   ]
  },
  {
   "attachments": {},
   "cell_type": "markdown",
   "metadata": {},
   "source": [
    "## Creamos la columna ['Period']"
   ]
  },
  {
   "cell_type": "code",
   "execution_count": 103,
   "metadata": {},
   "outputs": [
    {
     "data": {
      "text/plain": [
       "55    14\n",
       "87    13\n",
       "78    13\n",
       "86    13\n",
       "80    12\n",
       "Name: Minute, dtype: int64"
      ]
     },
     "execution_count": 103,
     "metadata": {},
     "output_type": "execute_result"
    }
   ],
   "source": [
    "data.loc[data['Player'] == 'Messi']['Minute'].value_counts().head()"
   ]
  },
  {
   "cell_type": "code",
   "execution_count": 104,
   "metadata": {},
   "outputs": [
    {
     "data": {
      "text/plain": [
       "90    17\n",
       "45    15\n",
       "89    15\n",
       "70    14\n",
       "23    14\n",
       "Name: Minute, dtype: int64"
      ]
     },
     "execution_count": 104,
     "metadata": {},
     "output_type": "execute_result"
    }
   ],
   "source": [
    "data.loc[data['Player'] == 'CR7']['Minute'].value_counts().head()"
   ]
  },
  {
   "cell_type": "code",
   "execution_count": 105,
   "metadata": {},
   "outputs": [
    {
     "data": {
      "text/plain": [
       "array(['34', '90+5', '88', '67', '13', '80', '74', '89', '60', '4', '44',\n",
       "       '87', '9', '8', '54', '58', '45+1', '21', '76', '90+1', '90', '51',\n",
       "       '12', '68', '50', '82', '83', '75', '42', '14', '38', '45', '84',\n",
       "       '59', '23', '19', '36', '73', '10', '39', '85', '47', '77', '11',\n",
       "       '28', '86', '49', '29', '5', '43', '57', '62', '72', '79', '66',\n",
       "       '41', '35', '81', '90+3', '22', '70', '48', '90+2', '69', '18',\n",
       "       '56', '16', '53', '3', '24', '32', '26', '25', '30', '61', '78',\n",
       "       '65', '31', '40', '6', '17', '55', '27', '15', '1', '63', '2',\n",
       "       '64', '110', '7', '71', '37', '20', '46', '33', '52', '103',\n",
       "       '45+2', '90+4', '90+6', '120', '97', '104', '105', '109', '90+7',\n",
       "       '45+7', '45+4'], dtype=object)"
      ]
     },
     "execution_count": 105,
     "metadata": {},
     "output_type": "execute_result"
    }
   ],
   "source": [
    "data.Minute.unique()"
   ]
  },
  {
   "cell_type": "code",
   "execution_count": 106,
   "metadata": {},
   "outputs": [],
   "source": [
    "data['Min'] = data['Minute'].str[:2].astype(int)"
   ]
  },
  {
   "cell_type": "code",
   "execution_count": 107,
   "metadata": {},
   "outputs": [
    {
     "data": {
      "text/html": [
       "<div>\n",
       "<style scoped>\n",
       "    .dataframe tbody tr th:only-of-type {\n",
       "        vertical-align: middle;\n",
       "    }\n",
       "\n",
       "    .dataframe tbody tr th {\n",
       "        vertical-align: top;\n",
       "    }\n",
       "\n",
       "    .dataframe thead th {\n",
       "        text-align: right;\n",
       "    }\n",
       "</style>\n",
       "<table border=\"1\" class=\"dataframe\">\n",
       "  <thead>\n",
       "    <tr style=\"text-align: right;\">\n",
       "      <th></th>\n",
       "      <th>Player</th>\n",
       "      <th>Season</th>\n",
       "      <th>Competition</th>\n",
       "      <th>Matchday</th>\n",
       "      <th>Date</th>\n",
       "      <th>Venue</th>\n",
       "      <th>Club</th>\n",
       "      <th>Opponent</th>\n",
       "      <th>Result</th>\n",
       "      <th>Playing_Position</th>\n",
       "      <th>Minute</th>\n",
       "      <th>At_score</th>\n",
       "      <th>Type</th>\n",
       "      <th>Goal_assist</th>\n",
       "      <th>Overtime</th>\n",
       "      <th>FTR</th>\n",
       "      <th>Situation</th>\n",
       "      <th>Min</th>\n",
       "    </tr>\n",
       "  </thead>\n",
       "  <tbody>\n",
       "    <tr>\n",
       "      <th>137</th>\n",
       "      <td>CR7</td>\n",
       "      <td>07/08</td>\n",
       "      <td>UEFA Champions League</td>\n",
       "      <td>Final</td>\n",
       "      <td>21-05-2008</td>\n",
       "      <td>H</td>\n",
       "      <td>Manchester United</td>\n",
       "      <td>Chelsea FC</td>\n",
       "      <td>6-5</td>\n",
       "      <td>LW</td>\n",
       "      <td>26</td>\n",
       "      <td>1-0</td>\n",
       "      <td>Header</td>\n",
       "      <td>Wes Brown</td>\n",
       "      <td>1</td>\n",
       "      <td>H</td>\n",
       "      <td>Adelantar</td>\n",
       "      <td>26</td>\n",
       "    </tr>\n",
       "    <tr>\n",
       "      <th>229</th>\n",
       "      <td>Messi</td>\n",
       "      <td>09/10</td>\n",
       "      <td>FIFA Club World Cup</td>\n",
       "      <td>Final</td>\n",
       "      <td>19-12-2009</td>\n",
       "      <td>A</td>\n",
       "      <td>FC Barcelona</td>\n",
       "      <td>Club Estudiantes de La Plata</td>\n",
       "      <td>1-2</td>\n",
       "      <td>RW</td>\n",
       "      <td>110</td>\n",
       "      <td>1-2</td>\n",
       "      <td>Chest</td>\n",
       "      <td>Dani Alves</td>\n",
       "      <td>1</td>\n",
       "      <td>A</td>\n",
       "      <td>Adelantar</td>\n",
       "      <td>11</td>\n",
       "    </tr>\n",
       "    <tr>\n",
       "      <th>372</th>\n",
       "      <td>CR7</td>\n",
       "      <td>10/11</td>\n",
       "      <td>Copa del Rey</td>\n",
       "      <td>Final</td>\n",
       "      <td>20-04-2011</td>\n",
       "      <td>A</td>\n",
       "      <td>Real Madrid</td>\n",
       "      <td>FC Barcelona</td>\n",
       "      <td>0-1</td>\n",
       "      <td>CF</td>\n",
       "      <td>103</td>\n",
       "      <td>0-1</td>\n",
       "      <td>Header</td>\n",
       "      <td>Angel Di Maria</td>\n",
       "      <td>1</td>\n",
       "      <td>A</td>\n",
       "      <td>Adelantar</td>\n",
       "      <td>10</td>\n",
       "    </tr>\n",
       "    <tr>\n",
       "      <th>505</th>\n",
       "      <td>CR7</td>\n",
       "      <td>11/12</td>\n",
       "      <td>UEFA Champions League</td>\n",
       "      <td>Semi-Finals</td>\n",
       "      <td>25-04-2012</td>\n",
       "      <td>H</td>\n",
       "      <td>Real Madrid</td>\n",
       "      <td>Bayern Munich</td>\n",
       "      <td>3-4</td>\n",
       "      <td>LW</td>\n",
       "      <td>6</td>\n",
       "      <td>1-0</td>\n",
       "      <td>Penalty</td>\n",
       "      <td>NaN</td>\n",
       "      <td>1</td>\n",
       "      <td>A</td>\n",
       "      <td>Adelantar</td>\n",
       "      <td>6</td>\n",
       "    </tr>\n",
       "    <tr>\n",
       "      <th>506</th>\n",
       "      <td>CR7</td>\n",
       "      <td>11/12</td>\n",
       "      <td>UEFA Champions League</td>\n",
       "      <td>Semi-Finals</td>\n",
       "      <td>25-04-2012</td>\n",
       "      <td>H</td>\n",
       "      <td>Real Madrid</td>\n",
       "      <td>Bayern Munich</td>\n",
       "      <td>3-4</td>\n",
       "      <td>LW</td>\n",
       "      <td>14</td>\n",
       "      <td>2-0</td>\n",
       "      <td>Right-footed shot</td>\n",
       "      <td>Mesut Ozil</td>\n",
       "      <td>1</td>\n",
       "      <td>A</td>\n",
       "      <td>Ampliar</td>\n",
       "      <td>14</td>\n",
       "    </tr>\n",
       "    <tr>\n",
       "      <th>635</th>\n",
       "      <td>CR7</td>\n",
       "      <td>12/13</td>\n",
       "      <td>Copa del Rey</td>\n",
       "      <td>Final</td>\n",
       "      <td>17-05-2013</td>\n",
       "      <td>A</td>\n",
       "      <td>Real Madrid</td>\n",
       "      <td>Atletico de Madrid</td>\n",
       "      <td>2-1</td>\n",
       "      <td>LW</td>\n",
       "      <td>14</td>\n",
       "      <td>0-1</td>\n",
       "      <td>Header</td>\n",
       "      <td>Luka Modric</td>\n",
       "      <td>1</td>\n",
       "      <td>H</td>\n",
       "      <td>Adelantar</td>\n",
       "      <td>14</td>\n",
       "    </tr>\n",
       "    <tr>\n",
       "      <th>727</th>\n",
       "      <td>CR7</td>\n",
       "      <td>13/14</td>\n",
       "      <td>UEFA Champions League</td>\n",
       "      <td>Final</td>\n",
       "      <td>24-05-2014</td>\n",
       "      <td>H</td>\n",
       "      <td>Real Madrid</td>\n",
       "      <td>Atletico de Madrid</td>\n",
       "      <td>4-1</td>\n",
       "      <td>LW</td>\n",
       "      <td>120</td>\n",
       "      <td>4-1</td>\n",
       "      <td>Penalty</td>\n",
       "      <td>NaN</td>\n",
       "      <td>1</td>\n",
       "      <td>H</td>\n",
       "      <td>Ampliar</td>\n",
       "      <td>12</td>\n",
       "    </tr>\n",
       "    <tr>\n",
       "      <th>847</th>\n",
       "      <td>Messi</td>\n",
       "      <td>15/16</td>\n",
       "      <td>UEFA Super Cup</td>\n",
       "      <td>Final</td>\n",
       "      <td>11-08-2015</td>\n",
       "      <td>H</td>\n",
       "      <td>FC Barcelona</td>\n",
       "      <td>Sevilla FC</td>\n",
       "      <td>5-4</td>\n",
       "      <td>RW</td>\n",
       "      <td>7</td>\n",
       "      <td>1-1</td>\n",
       "      <td>Direct free kick</td>\n",
       "      <td>NaN</td>\n",
       "      <td>1</td>\n",
       "      <td>H</td>\n",
       "      <td>Empatar</td>\n",
       "      <td>7</td>\n",
       "    </tr>\n",
       "    <tr>\n",
       "      <th>848</th>\n",
       "      <td>Messi</td>\n",
       "      <td>15/16</td>\n",
       "      <td>UEFA Super Cup</td>\n",
       "      <td>Final</td>\n",
       "      <td>11-08-2015</td>\n",
       "      <td>H</td>\n",
       "      <td>FC Barcelona</td>\n",
       "      <td>Sevilla FC</td>\n",
       "      <td>5-4</td>\n",
       "      <td>RW</td>\n",
       "      <td>16</td>\n",
       "      <td>2-1</td>\n",
       "      <td>Direct free kick</td>\n",
       "      <td>NaN</td>\n",
       "      <td>1</td>\n",
       "      <td>H</td>\n",
       "      <td>Adelantar</td>\n",
       "      <td>16</td>\n",
       "    </tr>\n",
       "    <tr>\n",
       "      <th>975</th>\n",
       "      <td>CR7</td>\n",
       "      <td>16/17</td>\n",
       "      <td>FIFA Club World Cup</td>\n",
       "      <td>Final</td>\n",
       "      <td>18-12-2016</td>\n",
       "      <td>H</td>\n",
       "      <td>Real Madrid</td>\n",
       "      <td>Kashima Antlers</td>\n",
       "      <td>4-2</td>\n",
       "      <td>LW</td>\n",
       "      <td>97</td>\n",
       "      <td>3-2</td>\n",
       "      <td>Left-footed shot</td>\n",
       "      <td>Karim Benzema</td>\n",
       "      <td>1</td>\n",
       "      <td>H</td>\n",
       "      <td>Adelantar</td>\n",
       "      <td>97</td>\n",
       "    </tr>\n",
       "    <tr>\n",
       "      <th>976</th>\n",
       "      <td>CR7</td>\n",
       "      <td>16/17</td>\n",
       "      <td>FIFA Club World Cup</td>\n",
       "      <td>Final</td>\n",
       "      <td>18-12-2016</td>\n",
       "      <td>H</td>\n",
       "      <td>Real Madrid</td>\n",
       "      <td>Kashima Antlers</td>\n",
       "      <td>4-2</td>\n",
       "      <td>LW</td>\n",
       "      <td>104</td>\n",
       "      <td>4-2</td>\n",
       "      <td>Left-footed shot</td>\n",
       "      <td>Toni Kroos</td>\n",
       "      <td>1</td>\n",
       "      <td>H</td>\n",
       "      <td>Ampliar</td>\n",
       "      <td>10</td>\n",
       "    </tr>\n",
       "    <tr>\n",
       "      <th>977</th>\n",
       "      <td>CR7</td>\n",
       "      <td>16/17</td>\n",
       "      <td>FIFA Club World Cup</td>\n",
       "      <td>Final</td>\n",
       "      <td>18-12-2016</td>\n",
       "      <td>H</td>\n",
       "      <td>Real Madrid</td>\n",
       "      <td>Kashima Antlers</td>\n",
       "      <td>4-2</td>\n",
       "      <td>LW</td>\n",
       "      <td>60</td>\n",
       "      <td>2-2</td>\n",
       "      <td>Penalty</td>\n",
       "      <td>NaN</td>\n",
       "      <td>1</td>\n",
       "      <td>H</td>\n",
       "      <td>Empatar</td>\n",
       "      <td>60</td>\n",
       "    </tr>\n",
       "    <tr>\n",
       "      <th>1012</th>\n",
       "      <td>CR7</td>\n",
       "      <td>16/17</td>\n",
       "      <td>UEFA Champions League</td>\n",
       "      <td>Quarter-Finals</td>\n",
       "      <td>18-04-2017</td>\n",
       "      <td>H</td>\n",
       "      <td>Real Madrid</td>\n",
       "      <td>Bayern Munich</td>\n",
       "      <td>4-2</td>\n",
       "      <td>CF</td>\n",
       "      <td>76</td>\n",
       "      <td>1-1</td>\n",
       "      <td>Header</td>\n",
       "      <td>Casemiro</td>\n",
       "      <td>1</td>\n",
       "      <td>H</td>\n",
       "      <td>Empatar</td>\n",
       "      <td>76</td>\n",
       "    </tr>\n",
       "    <tr>\n",
       "      <th>1013</th>\n",
       "      <td>CR7</td>\n",
       "      <td>16/17</td>\n",
       "      <td>UEFA Champions League</td>\n",
       "      <td>Quarter-Finals</td>\n",
       "      <td>18-04-2017</td>\n",
       "      <td>H</td>\n",
       "      <td>Real Madrid</td>\n",
       "      <td>Bayern Munich</td>\n",
       "      <td>4-2</td>\n",
       "      <td>CF</td>\n",
       "      <td>105</td>\n",
       "      <td>2-2</td>\n",
       "      <td>Left-footed shot</td>\n",
       "      <td>Sergio Ramos</td>\n",
       "      <td>1</td>\n",
       "      <td>H</td>\n",
       "      <td>Empatar</td>\n",
       "      <td>10</td>\n",
       "    </tr>\n",
       "    <tr>\n",
       "      <th>1014</th>\n",
       "      <td>CR7</td>\n",
       "      <td>16/17</td>\n",
       "      <td>UEFA Champions League</td>\n",
       "      <td>Quarter-Finals</td>\n",
       "      <td>18-04-2017</td>\n",
       "      <td>H</td>\n",
       "      <td>Real Madrid</td>\n",
       "      <td>Bayern Munich</td>\n",
       "      <td>4-2</td>\n",
       "      <td>CF</td>\n",
       "      <td>109</td>\n",
       "      <td>3-2</td>\n",
       "      <td>Right-footed shot</td>\n",
       "      <td>Marcelo</td>\n",
       "      <td>1</td>\n",
       "      <td>H</td>\n",
       "      <td>Adelantar</td>\n",
       "      <td>10</td>\n",
       "    </tr>\n",
       "  </tbody>\n",
       "</table>\n",
       "</div>"
      ],
      "text/plain": [
       "     Player Season            Competition        Matchday        Date Venue  \\\n",
       "137     CR7  07/08  UEFA Champions League           Final  21-05-2008     H   \n",
       "229   Messi  09/10    FIFA Club World Cup           Final  19-12-2009     A   \n",
       "372     CR7  10/11           Copa del Rey           Final  20-04-2011     A   \n",
       "505     CR7  11/12  UEFA Champions League     Semi-Finals  25-04-2012     H   \n",
       "506     CR7  11/12  UEFA Champions League     Semi-Finals  25-04-2012     H   \n",
       "635     CR7  12/13           Copa del Rey           Final  17-05-2013     A   \n",
       "727     CR7  13/14  UEFA Champions League           Final  24-05-2014     H   \n",
       "847   Messi  15/16         UEFA Super Cup           Final  11-08-2015     H   \n",
       "848   Messi  15/16         UEFA Super Cup           Final  11-08-2015     H   \n",
       "975     CR7  16/17    FIFA Club World Cup           Final  18-12-2016     H   \n",
       "976     CR7  16/17    FIFA Club World Cup           Final  18-12-2016     H   \n",
       "977     CR7  16/17    FIFA Club World Cup           Final  18-12-2016     H   \n",
       "1012    CR7  16/17  UEFA Champions League  Quarter-Finals  18-04-2017     H   \n",
       "1013    CR7  16/17  UEFA Champions League  Quarter-Finals  18-04-2017     H   \n",
       "1014    CR7  16/17  UEFA Champions League  Quarter-Finals  18-04-2017     H   \n",
       "\n",
       "                   Club                      Opponent Result Playing_Position  \\\n",
       "137   Manchester United                    Chelsea FC   6-5                LW   \n",
       "229        FC Barcelona  Club Estudiantes de La Plata   1-2                RW   \n",
       "372         Real Madrid                  FC Barcelona   0-1                CF   \n",
       "505         Real Madrid                 Bayern Munich   3-4                LW   \n",
       "506         Real Madrid                 Bayern Munich   3-4                LW   \n",
       "635         Real Madrid            Atletico de Madrid   2-1                LW   \n",
       "727         Real Madrid            Atletico de Madrid   4-1                LW   \n",
       "847        FC Barcelona                    Sevilla FC   5-4                RW   \n",
       "848        FC Barcelona                    Sevilla FC   5-4                RW   \n",
       "975         Real Madrid               Kashima Antlers   4-2                LW   \n",
       "976         Real Madrid               Kashima Antlers   4-2                LW   \n",
       "977         Real Madrid               Kashima Antlers   4-2                LW   \n",
       "1012        Real Madrid                 Bayern Munich   4-2                CF   \n",
       "1013        Real Madrid                 Bayern Munich   4-2                CF   \n",
       "1014        Real Madrid                 Bayern Munich   4-2                CF   \n",
       "\n",
       "     Minute At_score               Type     Goal_assist  Overtime FTR  \\\n",
       "137      26      1-0             Header       Wes Brown         1   H   \n",
       "229     110      1-2              Chest      Dani Alves         1   A   \n",
       "372     103      0-1             Header  Angel Di Maria         1   A   \n",
       "505       6      1-0            Penalty             NaN         1   A   \n",
       "506      14      2-0  Right-footed shot      Mesut Ozil         1   A   \n",
       "635      14      0-1             Header     Luka Modric         1   H   \n",
       "727     120      4-1            Penalty             NaN         1   H   \n",
       "847       7      1-1   Direct free kick             NaN         1   H   \n",
       "848      16      2-1   Direct free kick             NaN         1   H   \n",
       "975      97      3-2   Left-footed shot   Karim Benzema         1   H   \n",
       "976     104      4-2   Left-footed shot      Toni Kroos         1   H   \n",
       "977      60      2-2            Penalty             NaN         1   H   \n",
       "1012     76      1-1             Header        Casemiro         1   H   \n",
       "1013    105      2-2   Left-footed shot    Sergio Ramos         1   H   \n",
       "1014    109      3-2  Right-footed shot         Marcelo         1   H   \n",
       "\n",
       "      Situation  Min  \n",
       "137   Adelantar   26  \n",
       "229   Adelantar   11  \n",
       "372   Adelantar   10  \n",
       "505   Adelantar    6  \n",
       "506     Ampliar   14  \n",
       "635   Adelantar   14  \n",
       "727     Ampliar   12  \n",
       "847     Empatar    7  \n",
       "848   Adelantar   16  \n",
       "975   Adelantar   97  \n",
       "976     Ampliar   10  \n",
       "977     Empatar   60  \n",
       "1012    Empatar   76  \n",
       "1013    Empatar   10  \n",
       "1014  Adelantar   10  "
      ]
     },
     "execution_count": 107,
     "metadata": {},
     "output_type": "execute_result"
    }
   ],
   "source": [
    "data.loc[data['Overtime'] == 1]"
   ]
  },
  {
   "cell_type": "code",
   "execution_count": 108,
   "metadata": {},
   "outputs": [],
   "source": [
    "# Gracias a la columna creada previamente llamada 'Overtime' podemos saber\n",
    "# de forma sencilla cuales son los registros que llegaron en tiempos extra y \n",
    "# son los indices presentados en la siguiente lista\n",
    "\n",
    "# Recordar que acá intentamos determinar no solo si hubo gol, sino que además \n",
    "# el mismo haya sido convertido en los tiempos suplementarios del cotejo, \n",
    "# es por eso que la lista se reduce más. [229, 372, 976, 1013, 1014, 727, 975] \n",
    "# estos son los indices de las columnas que albergan dichos valores\n",
    "\n",
    "idx_et = [229, 372, 976, 1013, 1014, 727, 975]\n",
    "data['Period'] = ''\n",
    "for i in range(len(data)):\n",
    "    if i in idx_et:\n",
    "        data.loc[i, 'Period'] = 'ET'\n",
    "    elif data.loc[i, 'Min'] <= 45:\n",
    "        data.loc[i, 'Period'] = '1st'\n",
    "    else:\n",
    "        data.loc[i, 'Period'] = '2nd'\n"
   ]
  },
  {
   "cell_type": "code",
   "execution_count": 109,
   "metadata": {},
   "outputs": [
    {
     "data": {
      "text/plain": [
       "2nd    772\n",
       "1st    619\n",
       "ET       7\n",
       "Name: Period, dtype: int64"
      ]
     },
     "execution_count": 109,
     "metadata": {},
     "output_type": "execute_result"
    }
   ],
   "source": [
    "# Encontramos que de forma conjunta la mayoría de los goles anotados por\n",
    "# CR7 y Messi llegan en los 2dos tiempos \n",
    "\n",
    "data['Period'].value_counts()"
   ]
  },
  {
   "cell_type": "code",
   "execution_count": 110,
   "metadata": {},
   "outputs": [
    {
     "data": {
      "text/plain": [
       "CR7      6\n",
       "Messi    1\n",
       "Name: Player, dtype: int64"
      ]
     },
     "execution_count": 110,
     "metadata": {},
     "output_type": "execute_result"
    }
   ],
   "source": [
    "# Esto es para los goles anotados específicamente en Tiempo Extra \n",
    "# (que son los mismos de la lista de indices que vimos)\n",
    "\n",
    "data.loc[(data['Period'] == 'ET')]['Player'].value_counts()"
   ]
  },
  {
   "cell_type": "code",
   "execution_count": 111,
   "metadata": {},
   "outputs": [
    {
     "data": {
      "text/html": [
       "<div>\n",
       "<style scoped>\n",
       "    .dataframe tbody tr th:only-of-type {\n",
       "        vertical-align: middle;\n",
       "    }\n",
       "\n",
       "    .dataframe tbody tr th {\n",
       "        vertical-align: top;\n",
       "    }\n",
       "\n",
       "    .dataframe thead th {\n",
       "        text-align: right;\n",
       "    }\n",
       "</style>\n",
       "<table border=\"1\" class=\"dataframe\">\n",
       "  <thead>\n",
       "    <tr style=\"text-align: right;\">\n",
       "      <th></th>\n",
       "      <th>Player</th>\n",
       "      <th>Season</th>\n",
       "      <th>Competition</th>\n",
       "      <th>Matchday</th>\n",
       "      <th>Date</th>\n",
       "      <th>Venue</th>\n",
       "      <th>Club</th>\n",
       "      <th>Opponent</th>\n",
       "      <th>Result</th>\n",
       "      <th>Playing_Position</th>\n",
       "      <th>Minute</th>\n",
       "      <th>At_score</th>\n",
       "      <th>Type</th>\n",
       "      <th>Goal_assist</th>\n",
       "      <th>Overtime</th>\n",
       "      <th>FTR</th>\n",
       "      <th>Situation</th>\n",
       "      <th>Min</th>\n",
       "      <th>Period</th>\n",
       "    </tr>\n",
       "  </thead>\n",
       "  <tbody>\n",
       "    <tr>\n",
       "      <th>229</th>\n",
       "      <td>Messi</td>\n",
       "      <td>09/10</td>\n",
       "      <td>FIFA Club World Cup</td>\n",
       "      <td>Final</td>\n",
       "      <td>19-12-2009</td>\n",
       "      <td>A</td>\n",
       "      <td>FC Barcelona</td>\n",
       "      <td>Club Estudiantes de La Plata</td>\n",
       "      <td>1-2</td>\n",
       "      <td>RW</td>\n",
       "      <td>110</td>\n",
       "      <td>1-2</td>\n",
       "      <td>Chest</td>\n",
       "      <td>Dani Alves</td>\n",
       "      <td>1</td>\n",
       "      <td>A</td>\n",
       "      <td>Adelantar</td>\n",
       "      <td>11</td>\n",
       "      <td>ET</td>\n",
       "    </tr>\n",
       "    <tr>\n",
       "      <th>372</th>\n",
       "      <td>CR7</td>\n",
       "      <td>10/11</td>\n",
       "      <td>Copa del Rey</td>\n",
       "      <td>Final</td>\n",
       "      <td>20-04-2011</td>\n",
       "      <td>A</td>\n",
       "      <td>Real Madrid</td>\n",
       "      <td>FC Barcelona</td>\n",
       "      <td>0-1</td>\n",
       "      <td>CF</td>\n",
       "      <td>103</td>\n",
       "      <td>0-1</td>\n",
       "      <td>Header</td>\n",
       "      <td>Angel Di Maria</td>\n",
       "      <td>1</td>\n",
       "      <td>A</td>\n",
       "      <td>Adelantar</td>\n",
       "      <td>10</td>\n",
       "      <td>ET</td>\n",
       "    </tr>\n",
       "    <tr>\n",
       "      <th>727</th>\n",
       "      <td>CR7</td>\n",
       "      <td>13/14</td>\n",
       "      <td>UEFA Champions League</td>\n",
       "      <td>Final</td>\n",
       "      <td>24-05-2014</td>\n",
       "      <td>H</td>\n",
       "      <td>Real Madrid</td>\n",
       "      <td>Atletico de Madrid</td>\n",
       "      <td>4-1</td>\n",
       "      <td>LW</td>\n",
       "      <td>120</td>\n",
       "      <td>4-1</td>\n",
       "      <td>Penalty</td>\n",
       "      <td>NaN</td>\n",
       "      <td>1</td>\n",
       "      <td>H</td>\n",
       "      <td>Ampliar</td>\n",
       "      <td>12</td>\n",
       "      <td>ET</td>\n",
       "    </tr>\n",
       "    <tr>\n",
       "      <th>975</th>\n",
       "      <td>CR7</td>\n",
       "      <td>16/17</td>\n",
       "      <td>FIFA Club World Cup</td>\n",
       "      <td>Final</td>\n",
       "      <td>18-12-2016</td>\n",
       "      <td>H</td>\n",
       "      <td>Real Madrid</td>\n",
       "      <td>Kashima Antlers</td>\n",
       "      <td>4-2</td>\n",
       "      <td>LW</td>\n",
       "      <td>97</td>\n",
       "      <td>3-2</td>\n",
       "      <td>Left-footed shot</td>\n",
       "      <td>Karim Benzema</td>\n",
       "      <td>1</td>\n",
       "      <td>H</td>\n",
       "      <td>Adelantar</td>\n",
       "      <td>97</td>\n",
       "      <td>ET</td>\n",
       "    </tr>\n",
       "    <tr>\n",
       "      <th>976</th>\n",
       "      <td>CR7</td>\n",
       "      <td>16/17</td>\n",
       "      <td>FIFA Club World Cup</td>\n",
       "      <td>Final</td>\n",
       "      <td>18-12-2016</td>\n",
       "      <td>H</td>\n",
       "      <td>Real Madrid</td>\n",
       "      <td>Kashima Antlers</td>\n",
       "      <td>4-2</td>\n",
       "      <td>LW</td>\n",
       "      <td>104</td>\n",
       "      <td>4-2</td>\n",
       "      <td>Left-footed shot</td>\n",
       "      <td>Toni Kroos</td>\n",
       "      <td>1</td>\n",
       "      <td>H</td>\n",
       "      <td>Ampliar</td>\n",
       "      <td>10</td>\n",
       "      <td>ET</td>\n",
       "    </tr>\n",
       "    <tr>\n",
       "      <th>1013</th>\n",
       "      <td>CR7</td>\n",
       "      <td>16/17</td>\n",
       "      <td>UEFA Champions League</td>\n",
       "      <td>Quarter-Finals</td>\n",
       "      <td>18-04-2017</td>\n",
       "      <td>H</td>\n",
       "      <td>Real Madrid</td>\n",
       "      <td>Bayern Munich</td>\n",
       "      <td>4-2</td>\n",
       "      <td>CF</td>\n",
       "      <td>105</td>\n",
       "      <td>2-2</td>\n",
       "      <td>Left-footed shot</td>\n",
       "      <td>Sergio Ramos</td>\n",
       "      <td>1</td>\n",
       "      <td>H</td>\n",
       "      <td>Empatar</td>\n",
       "      <td>10</td>\n",
       "      <td>ET</td>\n",
       "    </tr>\n",
       "    <tr>\n",
       "      <th>1014</th>\n",
       "      <td>CR7</td>\n",
       "      <td>16/17</td>\n",
       "      <td>UEFA Champions League</td>\n",
       "      <td>Quarter-Finals</td>\n",
       "      <td>18-04-2017</td>\n",
       "      <td>H</td>\n",
       "      <td>Real Madrid</td>\n",
       "      <td>Bayern Munich</td>\n",
       "      <td>4-2</td>\n",
       "      <td>CF</td>\n",
       "      <td>109</td>\n",
       "      <td>3-2</td>\n",
       "      <td>Right-footed shot</td>\n",
       "      <td>Marcelo</td>\n",
       "      <td>1</td>\n",
       "      <td>H</td>\n",
       "      <td>Adelantar</td>\n",
       "      <td>10</td>\n",
       "      <td>ET</td>\n",
       "    </tr>\n",
       "  </tbody>\n",
       "</table>\n",
       "</div>"
      ],
      "text/plain": [
       "     Player Season            Competition        Matchday        Date Venue  \\\n",
       "229   Messi  09/10    FIFA Club World Cup           Final  19-12-2009     A   \n",
       "372     CR7  10/11           Copa del Rey           Final  20-04-2011     A   \n",
       "727     CR7  13/14  UEFA Champions League           Final  24-05-2014     H   \n",
       "975     CR7  16/17    FIFA Club World Cup           Final  18-12-2016     H   \n",
       "976     CR7  16/17    FIFA Club World Cup           Final  18-12-2016     H   \n",
       "1013    CR7  16/17  UEFA Champions League  Quarter-Finals  18-04-2017     H   \n",
       "1014    CR7  16/17  UEFA Champions League  Quarter-Finals  18-04-2017     H   \n",
       "\n",
       "              Club                      Opponent Result Playing_Position  \\\n",
       "229   FC Barcelona  Club Estudiantes de La Plata   1-2                RW   \n",
       "372    Real Madrid                  FC Barcelona   0-1                CF   \n",
       "727    Real Madrid            Atletico de Madrid   4-1                LW   \n",
       "975    Real Madrid               Kashima Antlers   4-2                LW   \n",
       "976    Real Madrid               Kashima Antlers   4-2                LW   \n",
       "1013   Real Madrid                 Bayern Munich   4-2                CF   \n",
       "1014   Real Madrid                 Bayern Munich   4-2                CF   \n",
       "\n",
       "     Minute At_score               Type     Goal_assist  Overtime FTR  \\\n",
       "229     110      1-2              Chest      Dani Alves         1   A   \n",
       "372     103      0-1             Header  Angel Di Maria         1   A   \n",
       "727     120      4-1            Penalty             NaN         1   H   \n",
       "975      97      3-2   Left-footed shot   Karim Benzema         1   H   \n",
       "976     104      4-2   Left-footed shot      Toni Kroos         1   H   \n",
       "1013    105      2-2   Left-footed shot    Sergio Ramos         1   H   \n",
       "1014    109      3-2  Right-footed shot         Marcelo         1   H   \n",
       "\n",
       "      Situation  Min Period  \n",
       "229   Adelantar   11     ET  \n",
       "372   Adelantar   10     ET  \n",
       "727     Ampliar   12     ET  \n",
       "975   Adelantar   97     ET  \n",
       "976     Ampliar   10     ET  \n",
       "1013    Empatar   10     ET  \n",
       "1014  Adelantar   10     ET  "
      ]
     },
     "execution_count": 111,
     "metadata": {},
     "output_type": "execute_result"
    }
   ],
   "source": [
    "data.loc[data['Period'] == 'ET']"
   ]
  },
  {
   "attachments": {},
   "cell_type": "markdown",
   "metadata": {},
   "source": [
    "## Creamos la columna ['Quarter']"
   ]
  },
  {
   "cell_type": "code",
   "execution_count": 112,
   "metadata": {},
   "outputs": [],
   "source": [
    "# Aprovechando la duración en tiempo de los partidos haremos la siguiente división:\n",
    "# Formaremos cuartos dentro de cada tiempo por lo que el 1er tiempo se dividirá en Q1, Q2 y Q3\n",
    "# Lo mismo para los 2do tiempo, de igual forma se respetarán los registros en tiempo extra\n",
    "\n",
    "\n",
    "\n",
    "idx_et = [229, 372, 976, 1013, 1014, 727, 975]\n",
    "\n",
    "data['Quarter'] = ''\n",
    "for i in range(len(data)):\n",
    "    if i in idx_et:\n",
    "        data.loc[i, 'Quarter'] = 'ET'\n",
    "    elif data.loc[i, 'Min'] <= 15:\n",
    "        data.loc[i, 'Quarter'] = 'Q1 1st'\n",
    "    elif 15 < data.loc[i, 'Min'] <= 30:\n",
    "        data.loc[i, 'Quarter'] = 'Q2 1st'\n",
    "    elif 30 < data.loc[i, 'Min'] <= 45:\n",
    "        data.loc[i, 'Quarter'] = 'Q3 1st'\n",
    "    elif 45 < data.loc[i, 'Min'] <= 60:\n",
    "        data.loc[i, 'Quarter'] = 'Q1 2nd'\n",
    "    elif 60 < data.loc[i, 'Min'] <= 75:\n",
    "        data.loc[i, 'Quarter'] = 'Q2 2nd'\n",
    "    else: \n",
    "        data.loc[i, 'Quarter'] = 'Q3 2nd'\n"
   ]
  },
  {
   "cell_type": "code",
   "execution_count": 113,
   "metadata": {},
   "outputs": [
    {
     "data": {
      "text/html": [
       "<div>\n",
       "<style scoped>\n",
       "    .dataframe tbody tr th:only-of-type {\n",
       "        vertical-align: middle;\n",
       "    }\n",
       "\n",
       "    .dataframe tbody tr th {\n",
       "        vertical-align: top;\n",
       "    }\n",
       "\n",
       "    .dataframe thead th {\n",
       "        text-align: right;\n",
       "    }\n",
       "</style>\n",
       "<table border=\"1\" class=\"dataframe\">\n",
       "  <thead>\n",
       "    <tr style=\"text-align: right;\">\n",
       "      <th></th>\n",
       "      <th>Player</th>\n",
       "      <th>Season</th>\n",
       "      <th>Competition</th>\n",
       "      <th>Matchday</th>\n",
       "      <th>Date</th>\n",
       "      <th>Venue</th>\n",
       "      <th>Club</th>\n",
       "      <th>Opponent</th>\n",
       "      <th>Result</th>\n",
       "      <th>Playing_Position</th>\n",
       "      <th>Minute</th>\n",
       "      <th>At_score</th>\n",
       "      <th>Type</th>\n",
       "      <th>Goal_assist</th>\n",
       "      <th>Overtime</th>\n",
       "      <th>FTR</th>\n",
       "      <th>Situation</th>\n",
       "      <th>Min</th>\n",
       "      <th>Period</th>\n",
       "      <th>Quarter</th>\n",
       "    </tr>\n",
       "  </thead>\n",
       "  <tbody>\n",
       "    <tr>\n",
       "      <th>0</th>\n",
       "      <td>CR7</td>\n",
       "      <td>02/03</td>\n",
       "      <td>Liga de Portugal</td>\n",
       "      <td>6</td>\n",
       "      <td>07-10-2002</td>\n",
       "      <td>H</td>\n",
       "      <td>Sporting CP</td>\n",
       "      <td>Moreirense FC</td>\n",
       "      <td>3-0</td>\n",
       "      <td>LW</td>\n",
       "      <td>34</td>\n",
       "      <td>2-0</td>\n",
       "      <td>Solo run</td>\n",
       "      <td>NaN</td>\n",
       "      <td>0</td>\n",
       "      <td>H</td>\n",
       "      <td>Ampliar</td>\n",
       "      <td>34</td>\n",
       "      <td>1st</td>\n",
       "      <td>Q3 1st</td>\n",
       "    </tr>\n",
       "    <tr>\n",
       "      <th>1</th>\n",
       "      <td>CR7</td>\n",
       "      <td>02/03</td>\n",
       "      <td>Liga de Portugal</td>\n",
       "      <td>6</td>\n",
       "      <td>07-10-2002</td>\n",
       "      <td>H</td>\n",
       "      <td>Sporting CP</td>\n",
       "      <td>Moreirense FC</td>\n",
       "      <td>3-0</td>\n",
       "      <td>LW</td>\n",
       "      <td>90+5</td>\n",
       "      <td>3-0</td>\n",
       "      <td>Header</td>\n",
       "      <td>Rui Jorge</td>\n",
       "      <td>0</td>\n",
       "      <td>H</td>\n",
       "      <td>Ampliar</td>\n",
       "      <td>90</td>\n",
       "      <td>2nd</td>\n",
       "      <td>Q3 2nd</td>\n",
       "    </tr>\n",
       "    <tr>\n",
       "      <th>2</th>\n",
       "      <td>CR7</td>\n",
       "      <td>02/03</td>\n",
       "      <td>Liga de Portugal</td>\n",
       "      <td>8</td>\n",
       "      <td>26-10-2002</td>\n",
       "      <td>A</td>\n",
       "      <td>Sporting CP</td>\n",
       "      <td>Boavista FC</td>\n",
       "      <td>1-2</td>\n",
       "      <td>LW</td>\n",
       "      <td>88</td>\n",
       "      <td>1-2</td>\n",
       "      <td>Right-footed shot</td>\n",
       "      <td>Carlos Martins</td>\n",
       "      <td>0</td>\n",
       "      <td>A</td>\n",
       "      <td>Adelantar</td>\n",
       "      <td>88</td>\n",
       "      <td>2nd</td>\n",
       "      <td>Q3 2nd</td>\n",
       "    </tr>\n",
       "    <tr>\n",
       "      <th>3</th>\n",
       "      <td>CR7</td>\n",
       "      <td>02/03</td>\n",
       "      <td>Copa de Portugal</td>\n",
       "      <td>Fourth Round</td>\n",
       "      <td>24-11-2002</td>\n",
       "      <td>H</td>\n",
       "      <td>Sporting CP</td>\n",
       "      <td>CD Estarreja</td>\n",
       "      <td>4-1</td>\n",
       "      <td>LW</td>\n",
       "      <td>67</td>\n",
       "      <td>3-0</td>\n",
       "      <td>Left-footed shot</td>\n",
       "      <td>Cesar Prates</td>\n",
       "      <td>0</td>\n",
       "      <td>H</td>\n",
       "      <td>Ampliar</td>\n",
       "      <td>67</td>\n",
       "      <td>2nd</td>\n",
       "      <td>Q2 2nd</td>\n",
       "    </tr>\n",
       "    <tr>\n",
       "      <th>4</th>\n",
       "      <td>CR7</td>\n",
       "      <td>02/03</td>\n",
       "      <td>Copa de Portugal</td>\n",
       "      <td>Fifth Round</td>\n",
       "      <td>18-12-2002</td>\n",
       "      <td>H</td>\n",
       "      <td>Sporting CP</td>\n",
       "      <td>FC Oliveira do Hospital</td>\n",
       "      <td>8-1</td>\n",
       "      <td>LW</td>\n",
       "      <td>13</td>\n",
       "      <td>3-0</td>\n",
       "      <td>Right-footed shot</td>\n",
       "      <td>NaN</td>\n",
       "      <td>0</td>\n",
       "      <td>H</td>\n",
       "      <td>Ampliar</td>\n",
       "      <td>13</td>\n",
       "      <td>1st</td>\n",
       "      <td>Q1 1st</td>\n",
       "    </tr>\n",
       "  </tbody>\n",
       "</table>\n",
       "</div>"
      ],
      "text/plain": [
       "  Player Season       Competition      Matchday        Date Venue  \\\n",
       "0    CR7  02/03  Liga de Portugal             6  07-10-2002     H   \n",
       "1    CR7  02/03  Liga de Portugal             6  07-10-2002     H   \n",
       "2    CR7  02/03  Liga de Portugal             8  26-10-2002     A   \n",
       "3    CR7  02/03  Copa de Portugal  Fourth Round  24-11-2002     H   \n",
       "4    CR7  02/03  Copa de Portugal   Fifth Round  18-12-2002     H   \n",
       "\n",
       "          Club                 Opponent Result Playing_Position Minute  \\\n",
       "0  Sporting CP            Moreirense FC    3-0               LW     34   \n",
       "1  Sporting CP            Moreirense FC    3-0               LW   90+5   \n",
       "2  Sporting CP              Boavista FC    1-2               LW     88   \n",
       "3  Sporting CP             CD Estarreja    4-1               LW     67   \n",
       "4  Sporting CP  FC Oliveira do Hospital    8-1               LW     13   \n",
       "\n",
       "  At_score               Type     Goal_assist  Overtime FTR  Situation  Min  \\\n",
       "0      2-0           Solo run             NaN         0   H    Ampliar   34   \n",
       "1      3-0             Header       Rui Jorge         0   H    Ampliar   90   \n",
       "2      1-2  Right-footed shot  Carlos Martins         0   A  Adelantar   88   \n",
       "3      3-0   Left-footed shot    Cesar Prates         0   H    Ampliar   67   \n",
       "4      3-0  Right-footed shot             NaN         0   H    Ampliar   13   \n",
       "\n",
       "  Period Quarter  \n",
       "0    1st  Q3 1st  \n",
       "1    2nd  Q3 2nd  \n",
       "2    2nd  Q3 2nd  \n",
       "3    2nd  Q2 2nd  \n",
       "4    1st  Q1 1st  "
      ]
     },
     "execution_count": 113,
     "metadata": {},
     "output_type": "execute_result"
    }
   ],
   "source": [
    "data.head()"
   ]
  },
  {
   "cell_type": "code",
   "execution_count": 114,
   "metadata": {},
   "outputs": [
    {
     "data": {
      "text/plain": [
       "Q3 2nd    331\n",
       "Q3 1st    241\n",
       "Q2 2nd    232\n",
       "Q2 1st    223\n",
       "Q1 2nd    209\n",
       "Q1 1st    155\n",
       "ET          7\n",
       "Name: Quarter, dtype: int64"
      ]
     },
     "execution_count": 114,
     "metadata": {},
     "output_type": "execute_result"
    }
   ],
   "source": [
    "# Como ya habíamos detallado anteriormente hay una clara tendencia combinada\n",
    "# a anotar la mayor parte de los goles en las 2da parte de los cotejos, pero además\n",
    "# con la aparición de la columna ['Quarter'] podemos notar que la mayoría \n",
    "# de esos goles son anotados en el cuarto final de los partidos es decir \n",
    "# en los 15 minutos finales de los cotejos\n",
    "\n",
    "# El Q3 1st es otro registro con muchas incidencias por lo que vemos que muchos\n",
    "# goles llegan previos al final del primer tiempo de los partidos, detallaremos\n",
    "# cual fue la ['Situation'] de los mismos\n",
    "\n",
    "data['Quarter'].value_counts()"
   ]
  },
  {
   "cell_type": "code",
   "execution_count": 115,
   "metadata": {},
   "outputs": [
    {
     "data": {
      "text/plain": [
       "Messi    169\n",
       "CR7      162\n",
       "Name: Player, dtype: int64"
      ]
     },
     "execution_count": 115,
     "metadata": {},
     "output_type": "execute_result"
    }
   ],
   "source": [
    "data.loc[(data['Quarter'] == 'Q3 2nd')]['Player'].value_counts()"
   ]
  },
  {
   "cell_type": "code",
   "execution_count": 116,
   "metadata": {},
   "outputs": [
    {
     "data": {
      "text/plain": [
       "Messi    127\n",
       "CR7      114\n",
       "Name: Player, dtype: int64"
      ]
     },
     "execution_count": 116,
     "metadata": {},
     "output_type": "execute_result"
    }
   ],
   "source": [
    "data.loc[(data['Quarter'] == 'Q3 1st')]['Player'].value_counts()"
   ]
  },
  {
   "cell_type": "code",
   "execution_count": 117,
   "metadata": {},
   "outputs": [
    {
     "data": {
      "text/plain": [
       "Ampliar      108\n",
       "Adelantar     31\n",
       "Empatar       16\n",
       "Recortar       7\n",
       "Name: Situation, dtype: int64"
      ]
     },
     "execution_count": 117,
     "metadata": {},
     "output_type": "execute_result"
    }
   ],
   "source": [
    "data.loc[(data['Quarter'] == 'Q3 2nd') & (data['Player'] == 'CR7')]['Situation'].value_counts()"
   ]
  },
  {
   "cell_type": "code",
   "execution_count": 118,
   "metadata": {},
   "outputs": [
    {
     "data": {
      "text/plain": [
       "Ampliar      64\n",
       "Adelantar    46\n",
       "Empatar      14\n",
       "Recortar      3\n",
       "Name: Situation, dtype: int64"
      ]
     },
     "execution_count": 118,
     "metadata": {},
     "output_type": "execute_result"
    }
   ],
   "source": [
    "data.loc[(data['Quarter'] == 'Q3 1st') & (data['Player'] != 'CR7')]['Situation'].value_counts()"
   ]
  },
  {
   "cell_type": "code",
   "execution_count": 119,
   "metadata": {},
   "outputs": [
    {
     "data": {
      "text/plain": [
       "Ampliar      53\n",
       "Adelantar    40\n",
       "Empatar      19\n",
       "Recortar      2\n",
       "Name: Situation, dtype: int64"
      ]
     },
     "execution_count": 119,
     "metadata": {},
     "output_type": "execute_result"
    }
   ],
   "source": [
    "data.loc[(data['Quarter'] == 'Q3 1st') & (data['Player'] == 'CR7')]['Situation'].value_counts()"
   ]
  },
  {
   "cell_type": "code",
   "execution_count": 120,
   "metadata": {},
   "outputs": [
    {
     "data": {
      "text/plain": [
       "Ampliar      64\n",
       "Adelantar    46\n",
       "Empatar      14\n",
       "Recortar      3\n",
       "Name: Situation, dtype: int64"
      ]
     },
     "execution_count": 120,
     "metadata": {},
     "output_type": "execute_result"
    }
   ],
   "source": [
    "data.loc[(data['Quarter'] == 'Q3 1st') & (data['Player'] != 'CR7')]['Situation'].value_counts()"
   ]
  },
  {
   "attachments": {},
   "cell_type": "markdown",
   "metadata": {},
   "source": [
    "## CR7 vs Messi"
   ]
  },
  {
   "cell_type": "code",
   "execution_count": 121,
   "metadata": {},
   "outputs": [
    {
     "data": {
      "text/plain": [
       "CR7    20\n",
       "Name: Player, dtype: int64"
      ]
     },
     "execution_count": 121,
     "metadata": {},
     "output_type": "execute_result"
    }
   ],
   "source": [
    "# Este DataSet solo toma en cuenta los goles anotados con sus respectivos Clubes\n",
    "# siempre que CR7 enfrentó a Messi este formaba parte del FC Barcelona, \n",
    "# con un saldo de 20 goles anotados en esos enfrentamientos\n",
    "\n",
    "data.loc[(data['Player'] == 'CR7') & (data['Opponent'] == 'FC Barcelona')]['Player'].value_counts()"
   ]
  },
  {
   "cell_type": "code",
   "execution_count": 122,
   "metadata": {},
   "outputs": [
    {
     "data": {
      "text/plain": [
       "Right-footed shot    9\n",
       "Penalty              6\n",
       "Left-footed shot     3\n",
       "Header               2\n",
       "Name: Type, dtype: int64"
      ]
     },
     "execution_count": 122,
     "metadata": {},
     "output_type": "execute_result"
    }
   ],
   "source": [
    "# Los goles de pierna derecha son los que más consiguió CR7\n",
    "\n",
    "data.loc[(data['Player'] == 'CR7') & (data['Opponent'] == 'FC Barcelona')]['Type'].value_counts()"
   ]
  },
  {
   "cell_type": "code",
   "execution_count": 123,
   "metadata": {},
   "outputs": [
    {
     "data": {
      "text/plain": [
       "A    15\n",
       "H     5\n",
       "Name: Venue, dtype: int64"
      ]
     },
     "execution_count": 123,
     "metadata": {},
     "output_type": "execute_result"
    }
   ],
   "source": [
    "# Los goles de CR7 fueron más de visitante que de local\n",
    "\n",
    "data.loc[(data['Player'] == 'CR7') & (data['Opponent'] == 'FC Barcelona')]['Venue'].value_counts()"
   ]
  },
  {
   "cell_type": "code",
   "execution_count": 124,
   "metadata": {},
   "outputs": [
    {
     "data": {
      "text/plain": [
       "Adelantar    10\n",
       "Empatar       6\n",
       "Ampliar       3\n",
       "Recortar      1\n",
       "Name: Situation, dtype: int64"
      ]
     },
     "execution_count": 124,
     "metadata": {},
     "output_type": "execute_result"
    }
   ],
   "source": [
    "# Y la mayoría de los goles fueron para adelantar a su equipo o para igualar \n",
    "\n",
    "data.loc[(data['Player'] == 'CR7') & (data['Opponent'] == 'FC Barcelona')]['Situation'].value_counts()"
   ]
  },
  {
   "cell_type": "code",
   "execution_count": 125,
   "metadata": {},
   "outputs": [
    {
     "data": {
      "text/plain": [
       "2nd    10\n",
       "1st     9\n",
       "ET      1\n",
       "Name: Period, dtype: int64"
      ]
     },
     "execution_count": 125,
     "metadata": {},
     "output_type": "execute_result"
    }
   ],
   "source": [
    "# A pesar de que la mayoría de los goles de CR7 son anotados en los 2os tiempos\n",
    "# en este análisis la distribución es mas igualada\n",
    "\n",
    "data.loc[(data['Player'] == 'CR7') & (data['Opponent'] == 'FC Barcelona')]['Period'].value_counts()"
   ]
  },
  {
   "cell_type": "code",
   "execution_count": 126,
   "metadata": {},
   "outputs": [
    {
     "data": {
      "text/plain": [
       "12/13    6\n",
       "11/12    4\n",
       "10/11    2\n",
       "14/15    2\n",
       "17/18    2\n",
       "20/21    2\n",
       "13/14    1\n",
       "15/16    1\n",
       "Name: Season, dtype: int64"
      ]
     },
     "execution_count": 126,
     "metadata": {},
     "output_type": "execute_result"
    }
   ],
   "source": [
    "# La temporada 12/13 fue la más fructífera para CR7\n",
    "\n",
    "data.loc[(data['Player'] == 'CR7') & (data['Opponent'] == 'FC Barcelona')]['Season'].value_counts()"
   ]
  },
  {
   "cell_type": "code",
   "execution_count": 127,
   "metadata": {},
   "outputs": [
    {
     "data": {
      "text/plain": [
       "Q1 1st    4\n",
       "Q1 2nd    4\n",
       "Q3 2nd    3\n",
       "Q2 1st    3\n",
       "Q2 2nd    3\n",
       "Q3 1st    2\n",
       "ET        1\n",
       "Name: Quarter, dtype: int64"
      ]
     },
     "execution_count": 127,
     "metadata": {},
     "output_type": "execute_result"
    }
   ],
   "source": [
    "# Se nota muy pareja la distribución de los goles en cuanto al minuto de juego\n",
    "\n",
    "data.loc[(data['Player'] == 'CR7') & (data['Opponent'] == 'FC Barcelona')]['Quarter'].value_counts()"
   ]
  },
  {
   "cell_type": "code",
   "execution_count": 128,
   "metadata": {},
   "outputs": [
    {
     "data": {
      "text/plain": [
       "Karim Benzema     5\n",
       "Mesut Ozil        4\n",
       "Angel Di Maria    1\n",
       "Sami Khedira      1\n",
       "Gareth Bale       1\n",
       "Isco              1\n",
       "Name: Goal_assist, dtype: int64"
      ]
     },
     "execution_count": 128,
     "metadata": {},
     "output_type": "execute_result"
    }
   ],
   "source": [
    "# Como siempre Karim Benzema siendo el mejor socio de CR7\n",
    "\n",
    "data.loc[(data['Player'] == 'CR7') & (data['Opponent'] == 'FC Barcelona')]['Goal_assist'].value_counts()"
   ]
  },
  {
   "cell_type": "code",
   "execution_count": 129,
   "metadata": {},
   "outputs": [
    {
     "data": {
      "text/plain": [
       "LW    15\n",
       "CF     5\n",
       "Name: Playing_Position, dtype: int64"
      ]
     },
     "execution_count": 129,
     "metadata": {},
     "output_type": "execute_result"
    }
   ],
   "source": [
    "# La gran mayoría de esos goles llegan desde la posición de LW\n",
    "\n",
    "data.loc[(data['Player'] == 'CR7') & (data['Opponent'] == 'FC Barcelona')]['Playing_Position'].value_counts()"
   ]
  },
  {
   "attachments": {},
   "cell_type": "markdown",
   "metadata": {},
   "source": [
    "## Messi vs CR7"
   ]
  },
  {
   "cell_type": "code",
   "execution_count": 130,
   "metadata": {},
   "outputs": [],
   "source": [
    "# En el caso de Messi enfrentando a CR7 existe la particularidad de que lo ha \n",
    "# hecho con múltiples clubes y eso presenta los siguientes retos\n",
    "\n",
    "data['Year'] = data['Season'].str.split('/').str[-1]\n",
    "data['Year'] = data['Year'].astype(int)"
   ]
  },
  {
   "cell_type": "code",
   "execution_count": 131,
   "metadata": {},
   "outputs": [
    {
     "data": {
      "text/plain": [
       "Messi    21\n",
       "Name: Player, dtype: int64"
      ]
     },
     "execution_count": 131,
     "metadata": {},
     "output_type": "execute_result"
    }
   ],
   "source": [
    "# Debemos delimitar los equipos y los periodos en los que se realizaron los \n",
    "# registros para asegurarnos que cumplan con las condiciones\n",
    "\n",
    "data.loc[(data['Player'] == 'Messi') & (\n",
    "(data['Opponent'] == 'Manchester United') & (data['Year'] < 10) |\n",
    "(data['Opponent'] == 'Real Madrid') & (data['Year'] >= 10) & (data['Year'] <= 18) |\n",
    "(data['Opponent'] == 'Juventus FC ') & ((data['Year'] > 18))) ]['Player'].value_counts()"
   ]
  },
  {
   "cell_type": "code",
   "execution_count": 132,
   "metadata": {},
   "outputs": [
    {
     "data": {
      "text/plain": [
       "Left-footed shot     9\n",
       "Penalty              6\n",
       "Right-footed shot    2\n",
       "Direct free kick     2\n",
       "Header               1\n",
       "Solo run             1\n",
       "Name: Type, dtype: int64"
      ]
     },
     "execution_count": 132,
     "metadata": {},
     "output_type": "execute_result"
    }
   ],
   "source": [
    "# La mayoría de los goles de Messi llegaron con la pierna izquierda\n",
    "# es su pierna dominante por lo que es perfectamente normal\n",
    "\n",
    "data.loc[(data['Player'] == 'Messi') & (\n",
    "(data['Opponent'] == 'Manchester United') & (data['Year'] < 10) |\n",
    "(data['Opponent'] == 'Real Madrid') & (data['Year'] >= 10) & (data['Year'] <= 18) |\n",
    "(data['Opponent'] == 'Juventus FC ') & ((data['Year'] > 18))) ]['Type'].value_counts()"
   ]
  },
  {
   "cell_type": "code",
   "execution_count": 133,
   "metadata": {},
   "outputs": [
    {
     "data": {
      "text/plain": [
       "A    13\n",
       "H     8\n",
       "Name: Venue, dtype: int64"
      ]
     },
     "execution_count": 133,
     "metadata": {},
     "output_type": "execute_result"
    }
   ],
   "source": [
    "# Siendo los goles de visita los que más se marcaron, al igual que CR7\n",
    "\n",
    "data.loc[(data['Player'] == 'Messi') & (\n",
    "(data['Opponent'] == 'Manchester United') & (data['Year'] < 10) |\n",
    "(data['Opponent'] == 'Real Madrid') & (data['Year'] >= 10) & (data['Year'] <= 18) |\n",
    "(data['Opponent'] == 'Juventus FC ') & ((data['Year'] > 18))) ]['Venue'].value_counts()"
   ]
  },
  {
   "cell_type": "code",
   "execution_count": 134,
   "metadata": {},
   "outputs": [
    {
     "data": {
      "text/plain": [
       "Adelantar    11\n",
       "Empatar       6\n",
       "Ampliar       3\n",
       "Recortar      1\n",
       "Name: Situation, dtype: int64"
      ]
     },
     "execution_count": 134,
     "metadata": {},
     "output_type": "execute_result"
    }
   ],
   "source": [
    "# La mayor parte de los goles de Messi fueron para adelantar a su equipo \n",
    "\n",
    "data.loc[(data['Player'] == 'Messi') & (\n",
    "(data['Opponent'] == 'Manchester United') & (data['Year'] < 10) |\n",
    "(data['Opponent'] == 'Real Madrid') & (data['Year'] >= 10) & (data['Year'] <= 18) |\n",
    "(data['Opponent'] == 'Juventus FC ') & ((data['Year'] > 18))) ]['Situation'].value_counts()"
   ]
  },
  {
   "cell_type": "code",
   "execution_count": 135,
   "metadata": {},
   "outputs": [
    {
     "data": {
      "text/plain": [
       "2nd    13\n",
       "1st     8\n",
       "Name: Period, dtype: int64"
      ]
     },
     "execution_count": 135,
     "metadata": {},
     "output_type": "execute_result"
    }
   ],
   "source": [
    "# Aunque menor que con otros registros a nivel de proporción\n",
    "# los goles en las 2das partes son mayoría\n",
    "\n",
    "data.loc[(data['Player'] == 'Messi') & (\n",
    "(data['Opponent'] == 'Manchester United') & (data['Year'] < 10) |\n",
    "(data['Opponent'] == 'Real Madrid') & (data['Year'] >= 10) & (data['Year'] <= 18) |\n",
    "(data['Opponent'] == 'Juventus FC ') & ((data['Year'] > 18))) ]['Period'].value_counts()"
   ]
  },
  {
   "cell_type": "code",
   "execution_count": 136,
   "metadata": {},
   "outputs": [
    {
     "data": {
      "text/plain": [
       "12/13    5\n",
       "10/11    3\n",
       "11/12    3\n",
       "13/14    3\n",
       "17/18    3\n",
       "16/17    2\n",
       "08/09    1\n",
       "09/10    1\n",
       "Name: Season, dtype: int64"
      ]
     },
     "execution_count": 136,
     "metadata": {},
     "output_type": "execute_result"
    }
   ],
   "source": [
    "# La temporada 12/13 fue la más fructífera para Messi\n",
    "\n",
    "data.loc[(data['Player'] == 'Messi') & (\n",
    "(data['Opponent'] == 'Manchester United') & (data['Year'] < 10) |\n",
    "(data['Opponent'] == 'Real Madrid') & (data['Year'] >= 10) & (data['Year'] <= 18) |\n",
    "(data['Opponent'] == 'Juventus FC ') & ((data['Year'] > 18))) ]['Season'].value_counts()"
   ]
  },
  {
   "cell_type": "code",
   "execution_count": 137,
   "metadata": {},
   "outputs": [
    {
     "data": {
      "text/plain": [
       "Q3 1st    7\n",
       "Q3 2nd    6\n",
       "Q1 2nd    4\n",
       "Q2 2nd    3\n",
       "Q2 1st    1\n",
       "Name: Quarter, dtype: int64"
      ]
     },
     "execution_count": 137,
     "metadata": {},
     "output_type": "execute_result"
    }
   ],
   "source": [
    "# Muchos goles de Messi en los cierres, bien sea del 1er tiempo o \n",
    "# en el final del partido\n",
    "\n",
    "data.loc[(data['Player'] == 'Messi') & (\n",
    "(data['Opponent'] == 'Manchester United') & (data['Year'] < 10) |\n",
    "(data['Opponent'] == 'Real Madrid') & (data['Year'] >= 10) & (data['Year'] <= 18) |\n",
    "(data['Opponent'] == 'Juventus FC ') & ((data['Year'] > 18))) ]['Quarter'].value_counts()"
   ]
  },
  {
   "cell_type": "code",
   "execution_count": 138,
   "metadata": {},
   "outputs": [
    {
     "data": {
      "text/plain": [
       "Xavi               2\n",
       "Sergio Busquets    1\n",
       "Ibrahim Afellay    1\n",
       "Thiago             1\n",
       "Gerard Pique       1\n",
       "Adriano            1\n",
       "Dani Alves         1\n",
       "Neymar             1\n",
       "Jordi Alba         1\n",
       "Ivan Rakitic       1\n",
       "Luis Suarez        1\n",
       "Name: Goal_assist, dtype: int64"
      ]
     },
     "execution_count": 138,
     "metadata": {},
     "output_type": "execute_result"
    }
   ],
   "source": [
    "# Multiples asistidores para Messi\n",
    "\n",
    "data.loc[(data['Player'] == 'Messi') & (\n",
    "(data['Opponent'] == 'Manchester United') & (data['Year'] < 10) |\n",
    "(data['Opponent'] == 'Real Madrid') & (data['Year'] >= 10) & (data['Year'] <= 18) |\n",
    "(data['Opponent'] == 'Juventus FC ') & ((data['Year'] > 18))) ]['Goal_assist'].value_counts()"
   ]
  },
  {
   "cell_type": "code",
   "execution_count": 139,
   "metadata": {},
   "outputs": [
    {
     "data": {
      "text/plain": [
       "CF    16\n",
       "RW     3\n",
       "SS     2\n",
       "Name: Playing_Position, dtype: int64"
      ]
     },
     "execution_count": 139,
     "metadata": {},
     "output_type": "execute_result"
    }
   ],
   "source": [
    "# Llama la atención que la mayoría de los registros son con Messi\n",
    "# jugando de CF o Delantero Centro, esto porque es bien sabido\n",
    "# que Messi no es el estereotipo de CF, más sin embargo esa\n",
    "# posición en el campo o al menos en la planilla de información del\n",
    "# cotejo fue la que le permitió alcanzar más goles en los enfrentamientos \n",
    "# frente a frente\n",
    "\n",
    "data.loc[(data['Player'] == 'Messi') & (\n",
    "(data['Opponent'] == 'Manchester United') & (data['Year'] < 10) |\n",
    "(data['Opponent'] == 'Real Madrid') & (data['Year'] >= 10) & (data['Year'] <= 18) |\n",
    "(data['Opponent'] == 'Juventus FC ') & ((data['Year'] > 18))) ]['Playing_Position'].value_counts()"
   ]
  },
  {
   "cell_type": "code",
   "execution_count": 140,
   "metadata": {},
   "outputs": [],
   "source": [
    "data.to_csv('CR7vsMessi.csv')"
   ]
  }
 ],
 "metadata": {
  "kernelspec": {
   "display_name": "Python 3",
   "language": "python",
   "name": "python3"
  },
  "language_info": {
   "codemirror_mode": {
    "name": "ipython",
    "version": 3
   },
   "file_extension": ".py",
   "mimetype": "text/x-python",
   "name": "python",
   "nbconvert_exporter": "python",
   "pygments_lexer": "ipython3",
   "version": "3.10.4 (tags/v3.10.4:9d38120, Mar 23 2022, 23:13:41) [MSC v.1929 64 bit (AMD64)]"
  },
  "orig_nbformat": 4,
  "vscode": {
   "interpreter": {
    "hash": "107d7b120a5b68773a87d4067e673630b35702e55ebab3138143d08b1c4d7cbc"
   }
  }
 },
 "nbformat": 4,
 "nbformat_minor": 2
}
